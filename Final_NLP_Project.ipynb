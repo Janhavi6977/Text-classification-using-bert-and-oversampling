{
 "cells": [
  {
   "cell_type": "markdown",
   "metadata": {
    "id": "WOJxMlMGfMBI"
   },
   "source": [
    "# References\n",
    "\n",
    "1. http://jalammar.github.io/illustrated-bert/\n",
    "1. https://mccormickml.com/2019/07/22/BERT-fine-tuning/"
   ]
  },
  {
   "cell_type": "code",
   "execution_count": 2,
   "metadata": {
    "colab": {
     "base_uri": "https://localhost:8080/"
    },
    "id": "MWa9kLMGf5YJ",
    "outputId": "02e62f43-c15a-46d6-fc86-ca257dbe7bf3"
   },
   "outputs": [
    {
     "name": "stdout",
     "output_type": "stream",
     "text": [
      "Collecting transformers\n",
      "  Downloading transformers-4.35.0-py3-none-any.whl (7.9 MB)\n",
      "\u001b[2K     \u001b[90m━━━━━━━━━━━━━━━━━━━━━━━━━━━━━━━━━━━━━━━━\u001b[0m \u001b[32m7.9/7.9 MB\u001b[0m \u001b[31m28.6 MB/s\u001b[0m eta \u001b[36m0:00:00\u001b[0m\n",
      "\u001b[?25hRequirement already satisfied: filelock in /usr/local/lib/python3.10/dist-packages (from transformers) (3.13.1)\n",
      "Collecting huggingface-hub<1.0,>=0.16.4 (from transformers)\n",
      "  Downloading huggingface_hub-0.19.0-py3-none-any.whl (311 kB)\n",
      "\u001b[2K     \u001b[90m━━━━━━━━━━━━━━━━━━━━━━━━━━━━━━━━━━━━━━━━\u001b[0m \u001b[32m311.2/311.2 kB\u001b[0m \u001b[31m28.8 MB/s\u001b[0m eta \u001b[36m0:00:00\u001b[0m\n",
      "\u001b[?25hRequirement already satisfied: numpy>=1.17 in /usr/local/lib/python3.10/dist-packages (from transformers) (1.23.5)\n",
      "Requirement already satisfied: packaging>=20.0 in /usr/local/lib/python3.10/dist-packages (from transformers) (23.2)\n",
      "Requirement already satisfied: pyyaml>=5.1 in /usr/local/lib/python3.10/dist-packages (from transformers) (6.0.1)\n",
      "Requirement already satisfied: regex!=2019.12.17 in /usr/local/lib/python3.10/dist-packages (from transformers) (2023.6.3)\n",
      "Requirement already satisfied: requests in /usr/local/lib/python3.10/dist-packages (from transformers) (2.31.0)\n",
      "Collecting tokenizers<0.15,>=0.14 (from transformers)\n",
      "  Downloading tokenizers-0.14.1-cp310-cp310-manylinux_2_17_x86_64.manylinux2014_x86_64.whl (3.8 MB)\n",
      "\u001b[2K     \u001b[90m━━━━━━━━━━━━━━━━━━━━━━━━━━━━━━━━━━━━━━━━\u001b[0m \u001b[32m3.8/3.8 MB\u001b[0m \u001b[31m89.3 MB/s\u001b[0m eta \u001b[36m0:00:00\u001b[0m\n",
      "\u001b[?25hCollecting safetensors>=0.3.1 (from transformers)\n",
      "  Downloading safetensors-0.4.0-cp310-cp310-manylinux_2_17_x86_64.manylinux2014_x86_64.whl (1.3 MB)\n",
      "\u001b[2K     \u001b[90m━━━━━━━━━━━━━━━━━━━━━━━━━━━━━━━━━━━━━━━━\u001b[0m \u001b[32m1.3/1.3 MB\u001b[0m \u001b[31m75.3 MB/s\u001b[0m eta \u001b[36m0:00:00\u001b[0m\n",
      "\u001b[?25hRequirement already satisfied: tqdm>=4.27 in /usr/local/lib/python3.10/dist-packages (from transformers) (4.66.1)\n",
      "Requirement already satisfied: fsspec>=2023.5.0 in /usr/local/lib/python3.10/dist-packages (from huggingface-hub<1.0,>=0.16.4->transformers) (2023.6.0)\n",
      "Requirement already satisfied: typing-extensions>=3.7.4.3 in /usr/local/lib/python3.10/dist-packages (from huggingface-hub<1.0,>=0.16.4->transformers) (4.5.0)\n",
      "Collecting huggingface-hub<1.0,>=0.16.4 (from transformers)\n",
      "  Downloading huggingface_hub-0.17.3-py3-none-any.whl (295 kB)\n",
      "\u001b[2K     \u001b[90m━━━━━━━━━━━━━━━━━━━━━━━━━━━━━━━━━━━━━━━━\u001b[0m \u001b[32m295.0/295.0 kB\u001b[0m \u001b[31m32.8 MB/s\u001b[0m eta \u001b[36m0:00:00\u001b[0m\n",
      "\u001b[?25hRequirement already satisfied: charset-normalizer<4,>=2 in /usr/local/lib/python3.10/dist-packages (from requests->transformers) (3.3.2)\n",
      "Requirement already satisfied: idna<4,>=2.5 in /usr/local/lib/python3.10/dist-packages (from requests->transformers) (3.4)\n",
      "Requirement already satisfied: urllib3<3,>=1.21.1 in /usr/local/lib/python3.10/dist-packages (from requests->transformers) (2.0.7)\n",
      "Requirement already satisfied: certifi>=2017.4.17 in /usr/local/lib/python3.10/dist-packages (from requests->transformers) (2023.7.22)\n",
      "Installing collected packages: safetensors, huggingface-hub, tokenizers, transformers\n",
      "Successfully installed huggingface-hub-0.17.3 safetensors-0.4.0 tokenizers-0.14.1 transformers-4.35.0\n"
     ]
    }
   ],
   "source": [
    "!pip install transformers"
   ]
  },
  {
   "cell_type": "code",
   "execution_count": 1,
   "metadata": {
    "execution": {
     "iopub.execute_input": "2023-01-13T11:55:43.966918Z",
     "iopub.status.busy": "2023-01-13T11:55:43.966626Z",
     "iopub.status.idle": "2023-01-13T11:55:51.48708Z",
     "shell.execute_reply": "2023-01-13T11:55:51.486242Z",
     "shell.execute_reply.started": "2023-01-13T11:55:43.966849Z"
    },
    "id": "hi6yvhdnfMBM"
   },
   "outputs": [],
   "source": [
    "import numpy as np\n",
    "import pandas as pd\n",
    "import time\n",
    "import datetime\n",
    "import gc\n",
    "import random\n",
    "from nltk.corpus import stopwords\n",
    "import re\n",
    "\n",
    "import torch\n",
    "import torch.nn as nn\n",
    "from torch.utils.data import TensorDataset, DataLoader, RandomSampler, SequentialSampler,random_split\n",
    "from sklearn.model_selection import train_test_split\n",
    "from sklearn.metrics import classification_report\n",
    "\n",
    "import transformers\n",
    "from transformers import BertForSequenceClassification, AdamW, BertConfig,BertTokenizer,get_linear_schedule_with_warmup\n"
   ]
  },
  {
   "cell_type": "code",
   "execution_count": 2,
   "metadata": {
    "execution": {
     "iopub.execute_input": "2023-01-13T11:55:51.4892Z",
     "iopub.status.busy": "2023-01-13T11:55:51.488628Z",
     "iopub.status.idle": "2023-01-13T11:55:51.569338Z",
     "shell.execute_reply": "2023-01-13T11:55:51.568213Z",
     "shell.execute_reply.started": "2023-01-13T11:55:51.489154Z"
    },
    "id": "OiX9o2ulfMBN"
   },
   "outputs": [],
   "source": [
    "# device = torch.device(\"cuda:0\" if torch.cuda.is_available() else \"cpu\")\n",
    "# device"
   ]
  },
  {
   "cell_type": "code",
   "execution_count": 3,
   "metadata": {
    "colab": {
     "base_uri": "https://localhost:8080/"
    },
    "execution": {
     "iopub.execute_input": "2023-01-13T11:55:51.575021Z",
     "iopub.status.busy": "2023-01-13T11:55:51.573209Z",
     "iopub.status.idle": "2023-01-13T11:55:51.643807Z",
     "shell.execute_reply": "2023-01-13T11:55:51.64314Z",
     "shell.execute_reply.started": "2023-01-13T11:55:51.574983Z"
    },
    "id": "oacu6ptmfMBN",
    "outputId": "fda26ae3-cb8d-49c5-e0c2-bee72fe256d5"
   },
   "outputs": [
    {
     "name": "stdout",
     "output_type": "stream",
     "text": [
      "     case_id case_outcome                                         case_title  \\\n",
      "0  Case14973     followed  Nicaro Holdings Pty Ltd v Martin Engineering C...   \n",
      "1   Case3391    discussed  Promaco Conventions Pty Ltd v Dedline Printing...   \n",
      "2  Case17126        cited  Tervonen v Minister for Justice and Customs (N...   \n",
      "3  Case23118        cited  H v Minister for Immigration and Multicultural...   \n",
      "4   Case3997      applied  Water Board v Moustakos [1988] HCA 12 ; (1994)...   \n",
      "\n",
      "                                           case_text  \n",
      "0  A patent specification should be given a purpo...  \n",
      "1  recently, Siopis J, in Promaco Conventions Pty...  \n",
      "2  The Applicant contends that there is no power ...  \n",
      "3  nevertheless remains a discretion to entertain...  \n",
      "4  principle was again applied by the High Court ...  \n",
      "     case_id case_outcome                                         case_title  \\\n",
      "0  Case15571        cited  Port of Geelong Authority v The \"Bass Reefer\" ...   \n",
      "1   Case9224  referred to  Port Sudan Cotton Co v Govinda Swami Chettiar ...   \n",
      "2   Case3441  referred to  Plaintiff S157/2002 v The Commonwealth of Aust...   \n",
      "3  Case14178      applied  McIlwain v Ramsey Food Packaging Pty Ltd (2006...   \n",
      "4   Case9634        cited  Applicant VEAL of 2002 v MIMIA [2005] HCA 72 ;...   \n",
      "\n",
      "                                           case_text  \n",
      "0  As Allsop J pointed out in Heilbrunn v Lightwo...  \n",
      "1  Subsequent conduct is not admissible as an aid...  \n",
      "2  In Briglia v Commissioner of Taxation [2000] F...  \n",
      "3  In McIlwain v Ramsey Food Packaging Pty Ltd (2...  \n",
      "4  On or about 3 April 2006 the appellant wrote t...  \n"
     ]
    }
   ],
   "source": [
    "train_df = pd.read_excel(\"train_dataset.xlsx\")\n",
    "test_df = pd.read_excel(\"test_dataset.xlsx\")\n",
    "val_df = pd.read_excel(\"validation_dataset.xlsx\")\n",
    "print(train_df.head(5))\n",
    "print(test_df.head(5))"
   ]
  },
  {
   "cell_type": "code",
   "execution_count": 4,
   "metadata": {
    "colab": {
     "base_uri": "https://localhost:8080/"
    },
    "execution": {
     "iopub.execute_input": "2023-01-13T11:55:51.649543Z",
     "iopub.status.busy": "2023-01-13T11:55:51.647658Z",
     "iopub.status.idle": "2023-01-13T11:55:51.68407Z",
     "shell.execute_reply": "2023-01-13T11:55:51.68303Z",
     "shell.execute_reply.started": "2023-01-13T11:55:51.649506Z"
    },
    "id": "BWrftyDAfMBO",
    "outputId": "e0defbe3-31c0-4999-aa51-76b68bd4f8f2"
   },
   "outputs": [
    {
     "name": "stderr",
     "output_type": "stream",
     "text": [
      "[nltk_data] Downloading package stopwords to C:\\Users\\Tripti\n",
      "[nltk_data]     Mishra\\AppData\\Roaming\\nltk_data...\n",
      "[nltk_data]   Package stopwords is already up-to-date!\n"
     ]
    }
   ],
   "source": [
    "import nltk\n",
    "nltk.download('stopwords')\n",
    "\n",
    "sw = stopwords.words('english')\n",
    "\n",
    "def clean_text(text):\n",
    "\n",
    "    text = text.lower()\n",
    "\n",
    "    text = re.sub(r\"[^a-zA-Z?.!,¿]+\", \" \", text) # replacing everything with space except (a-z, A-Z, \".\", \"?\", \"!\", \",\")\n",
    "\n",
    "    text = re.sub(r\"http\\S+\", \"\",text) #Removing URLs\n",
    "    #text = re.sub(r\"http\", \"\",text)\n",
    "\n",
    "    html=re.compile(r'<.*?>')\n",
    "\n",
    "    text = html.sub(r'',text) #Removing html tags\n",
    "\n",
    "    punctuations = '@#!?+&*[]-%.:/();$=><|{}^' + \"'`\" + '_'\n",
    "    for p in punctuations:\n",
    "        text = text.replace(p,'') #Removing punctuations\n",
    "\n",
    "    text = [word.lower() for word in text.split() if word.lower() not in sw]\n",
    "\n",
    "    text = \" \".join(text) #removing stopwords\n",
    "\n",
    "    emoji_pattern = re.compile(\"[\"\n",
    "                           u\"\\U0001F600-\\U0001F64F\"  # emoticons\n",
    "                           u\"\\U0001F300-\\U0001F5FF\"  # symbols & pictographs\n",
    "                           u\"\\U0001F680-\\U0001F6FF\"  # transport & map symbols\n",
    "                           u\"\\U0001F1E0-\\U0001F1FF\"  # flags (iOS)\n",
    "                           u\"\\U00002702-\\U000027B0\"\n",
    "                           u\"\\U000024C2-\\U0001F251\"\n",
    "                           \"]+\", flags=re.UNICODE)\n",
    "    text = emoji_pattern.sub(r'', text) #Removing emojis\n",
    "\n",
    "    return text\n",
    "\n",
    "\n"
   ]
  },
  {
   "cell_type": "code",
   "execution_count": 5,
   "metadata": {
    "id": "FJ5ZjSscU4nY"
   },
   "outputs": [],
   "source": [
    "# import re\n",
    "\n",
    "# def clean_text(text):\n",
    "#     if isinstance(text, str):\n",
    "#         # If the input is a string, perform cleaning\n",
    "#         text = re.sub(r'[^a-zA-Z0-9\\s]', '', text)\n",
    "#         text = re.sub(' +', ' ', text)\n",
    "#     return text"
   ]
  },
  {
   "cell_type": "code",
   "execution_count": 6,
   "metadata": {
    "id": "16NueeSHx-nn"
   },
   "outputs": [],
   "source": [
    "train_df=train_df.astype(str)\n",
    "test_df=test_df.astype(str)\n",
    "val_df=val_df.astype(str)"
   ]
  },
  {
   "cell_type": "code",
   "execution_count": 7,
   "metadata": {
    "execution": {
     "iopub.execute_input": "2023-01-13T11:55:51.685757Z",
     "iopub.status.busy": "2023-01-13T11:55:51.685381Z",
     "iopub.status.idle": "2023-01-13T11:55:52.125695Z",
     "shell.execute_reply": "2023-01-13T11:55:52.124875Z",
     "shell.execute_reply.started": "2023-01-13T11:55:51.685665Z"
    },
    "id": "oHOsbruufMBO"
   },
   "outputs": [],
   "source": [
    "train_df['case_text'] = train_df['case_text'].apply(lambda x:clean_text(x))\n",
    "val_df['case_text'] = val_df['case_text'].apply(lambda x:clean_text(x))\n",
    "test_df['case_text'] = test_df['case_text'].apply(lambda x:clean_text(x))\n"
   ]
  },
  {
   "cell_type": "code",
   "execution_count": 9,
   "metadata": {},
   "outputs": [],
   "source": [
    "from imblearn.over_sampling import RandomOverSampler\n",
    "# Oversampling with RandomOverSampler\n",
    "ros = RandomOverSampler(random_state=42)\n",
    "X_ros, y_ros = ros.fit_resample(train_df[['case_text']], train_df['case_outcome'])\n",
    "\n",
    "# Create a new DataFrame from the oversampled data\n",
    "oversampled_train_df = pd.DataFrame(X_ros, columns=['case_text'])\n",
    "oversampled_train_df['case_outcome'] = y_ros\n",
    "\n",
    "# Now proceed with your data processing\n",
    "train_text = oversampled_train_df.case_text.values\n",
    "train_outcome = oversampled_train_df.case_outcome.values\n",
    "val_text = val_df.case_text.values\n",
    "val_outcome = val_df.case_outcome.values\n",
    "test_text = test_df.case_text.values\n",
    "test_outcome = test_df.case_outcome.values"
   ]
  },
  {
   "cell_type": "code",
   "execution_count": 10,
   "metadata": {
    "execution": {
     "iopub.execute_input": "2023-01-13T11:55:52.127143Z",
     "iopub.status.busy": "2023-01-13T11:55:52.126814Z",
     "iopub.status.idle": "2023-01-13T11:55:52.131805Z",
     "shell.execute_reply": "2023-01-13T11:55:52.131009Z",
     "shell.execute_reply.started": "2023-01-13T11:55:52.127103Z"
    },
    "id": "D48G9mjzfMBP"
   },
   "outputs": [],
   "source": [
    "#train_text = train_df.case_text.values\n",
    "#train_outcome = train_df.case_outcome.values\n",
    "#val_text = val_df.case_text.values\n",
    "#val_outcome = val_df.case_outcome.values\n",
    "#test_text = test_df.case_text.values\n",
    "#test_outcome = test_df.case_outcome.values"
   ]
  },
  {
   "cell_type": "code",
   "execution_count": 11,
   "metadata": {
    "colab": {
     "base_uri": "https://localhost:8080/"
    },
    "id": "Vc6oSF4fPyC8",
    "outputId": "3007700f-6360-46e9-e10d-ce7c72b55b7f"
   },
   "outputs": [
    {
     "name": "stdout",
     "output_type": "stream",
     "text": [
      "Train Dataset - Category Counts:\n",
      "cited            8551\n",
      "referred to      3097\n",
      "applied          1683\n",
      "followed         1591\n",
      "considered       1190\n",
      "discussed         733\n",
      "distinguished     426\n",
      "related            81\n",
      "affirmed           70\n",
      "approved           67\n",
      "Name: case_outcome, dtype: int64\n"
     ]
    }
   ],
   "source": [
    "category_counts = train_df['case_outcome'].value_counts()\n",
    "print(\"Train Dataset - Category Counts:\")\n",
    "print(category_counts)"
   ]
  },
  {
   "cell_type": "code",
   "execution_count": 12,
   "metadata": {},
   "outputs": [
    {
     "name": "stdout",
     "output_type": "stream",
     "text": [
      "Train Dataset - Category Counts:\n",
      "followed         8551\n",
      "discussed        8551\n",
      "cited            8551\n",
      "applied          8551\n",
      "distinguished    8551\n",
      "referred to      8551\n",
      "considered       8551\n",
      "affirmed         8551\n",
      "related          8551\n",
      "approved         8551\n",
      "Name: case_outcome, dtype: int64\n"
     ]
    }
   ],
   "source": [
    "category_counts = oversampled_train_df['case_outcome'].value_counts()\n",
    "print(\"Train Dataset - Category Counts:\")\n",
    "print(category_counts)"
   ]
  },
  {
   "cell_type": "code",
   "execution_count": 13,
   "metadata": {
    "colab": {
     "base_uri": "https://localhost:8080/"
    },
    "id": "O3K3gQuIQSZl",
    "outputId": "99afcc7a-2797-4085-fa4c-854e4455d10a"
   },
   "outputs": [
    {
     "name": "stdout",
     "output_type": "stream",
     "text": [
      "['followed' 'discussed' 'cited' 'applied' 'distinguished' 'referred to'\n",
      " 'considered' 'affirmed' 'related' 'approved']\n"
     ]
    }
   ],
   "source": [
    "distinct_outcomes = train_df['case_outcome'].unique()\n",
    "print(distinct_outcomes)"
   ]
  },
  {
   "cell_type": "code",
   "execution_count": 14,
   "metadata": {
    "colab": {
     "base_uri": "https://localhost:8080/"
    },
    "id": "G9EMzFmQtLRv",
    "outputId": "a55cab21-4832-4c29-ded9-fc2a5dd2a339"
   },
   "outputs": [
    {
     "name": "stdout",
     "output_type": "stream",
     "text": [
      "['followed' 'discussed' 'cited' 'cited' 'applied' 'distinguished'\n",
      " 'referred to' 'considered' 'cited' 'cited' 'considered' 'distinguished'\n",
      " 'cited' 'considered' 'cited' 'cited' 'considered' 'cited' 'cited'\n",
      " 'referred to']\n"
     ]
    }
   ],
   "source": [
    "print(train_outcome[:20])"
   ]
  },
  {
   "cell_type": "code",
   "execution_count": 15,
   "metadata": {
    "id": "2rDrlYC4n8AZ"
   },
   "outputs": [],
   "source": [
    "#Import label encoder\n",
    "from sklearn import preprocessing\n",
    "label_encoder = preprocessing.LabelEncoder()\n",
    "\n",
    "# Encode labels in column 'species'.\n",
    "train_outcome=label_encoder.fit_transform(train_outcome)\n",
    "val_outcome=label_encoder.fit_transform(val_outcome)\n",
    "test_outcome= label_encoder.fit_transform(test_outcome)\n"
   ]
  },
  {
   "cell_type": "code",
   "execution_count": 16,
   "metadata": {
    "colab": {
     "base_uri": "https://localhost:8080/"
    },
    "id": "2_HYdGdrtQQT",
    "outputId": "4e07cd06-59de-4c07-a7c1-58b60e9d615d"
   },
   "outputs": [
    {
     "name": "stdout",
     "output_type": "stream",
     "text": [
      "[7 5 3 3 1 6 8 4 3 3 4 6 3 4 3 3 4 3 3 8]\n"
     ]
    }
   ],
   "source": [
    "print(train_outcome[:20])"
   ]
  },
  {
   "cell_type": "code",
   "execution_count": 17,
   "metadata": {
    "colab": {
     "base_uri": "https://localhost:8080/"
    },
    "id": "xMlDLxR8nXza",
    "outputId": "edfa60fe-f534-4630-f2b2-3265ef88a9f2"
   },
   "outputs": [
    {
     "name": "stdout",
     "output_type": "stream",
     "text": [
      "85510\n",
      "85510\n",
      "3748\n",
      "3748\n",
      "3748\n",
      "3748\n"
     ]
    }
   ],
   "source": [
    "print(len(train_text))\n",
    "print(len(train_outcome))\n",
    "print(len(val_text))\n",
    "print(len(val_outcome))\n",
    "print(len(test_text))\n",
    "print(len(test_outcome))\n"
   ]
  },
  {
   "cell_type": "code",
   "execution_count": 18,
   "metadata": {
    "colab": {
     "base_uri": "https://localhost:8080/",
     "height": 145,
     "referenced_widgets": [
      "36fcdf95791842ecafbfdfecd112165a",
      "3a49d4c4dbac411abea623fbc0ad3f28",
      "f0dace06589b4699a70a3e9b393c4986",
      "e09beea1b94a4dd7bce67275ee3f6550",
      "8b26300d94be482d82c31a13c154db05",
      "b9a1d7cbca5d488e975b3279f75c3865",
      "54406a86597542ac98563e2617fd9952",
      "27c5d950a4f44c229479067ba38fce22",
      "469c42f68f5c4b9f9d396ef60f402984",
      "6d1232aa696048088a050e18b803d0dc",
      "d91e265ef44d4e689338023562b2818d",
      "1b219a9869454d61a0bbdc96871214da",
      "240ff536cb464f8aaaa5bec44414ed77",
      "b7a24b014bf346b0b15129d3096c102a",
      "6deee9a529544a678d0cd5450864913e",
      "22218ef83021403d84bfe32a5bf1a548",
      "69a91c0177b748ff8d668eefee5c1275",
      "53780c6d3deb4c92b7305eb91fd7c8e0",
      "5b4098d984194df9b05b743f0c4fe57e",
      "8d318d0ee86942aea0c2f9da7f619ea5",
      "45815ba47cff44a38775e9aaa6c24738",
      "a6e5f4f155ac487c88355a0c8f89e234",
      "0cb909aecbdf4dd4b91f6054d9886222",
      "0fcb1be0f7774739bbb3b348432fb885",
      "08fff201395646a180ae06331facc065",
      "57e7ed084c88417eb30ff17feec4ed15",
      "246b10c6d32947e58e791e57144b111e",
      "d44632d5a24c4effb6b910b18ced42b0",
      "39c8ec810d5641bdbac63d7d456e0844",
      "618ff65b8153448597107e58a73d7945",
      "f753028b728649de9815b66ac8f4078b",
      "ef2ec25539774b388e8067d415760f98",
      "059fbc0e66124a2699fa1eea1ad025d8",
      "2c40cbf5a24f459b80943c4e293e6fff",
      "941d00cebcd84d5faa1336dabac02e43",
      "990ebc84064942558ad53fc8ff297850",
      "35b68e8fcb8f4b6f8c04f32ee026e391",
      "0f9ee7df621a49ea83a353078f516262",
      "f3541c87e0584799b090dccf8b33e40e",
      "5821927f550b4c14b170372daebf9ec2",
      "616390d8001e4aa1a33ed82ad818aa85",
      "9c427956ae1440b8b266db5c8ea88852",
      "b4b5be3c0bd54ca3891c508b004f0abb",
      "b15a1cc4044b4bf495807c8bb0619efb"
     ]
    },
    "execution": {
     "iopub.execute_input": "2023-01-13T11:55:52.133614Z",
     "iopub.status.busy": "2023-01-13T11:55:52.133067Z",
     "iopub.status.idle": "2023-01-13T11:56:01.384324Z",
     "shell.execute_reply": "2023-01-13T11:56:01.383455Z",
     "shell.execute_reply.started": "2023-01-13T11:55:52.133577Z"
    },
    "id": "QvUulrRnfMBQ",
    "outputId": "76e13df9-dfac-4cfa-c424-f62aae787941"
   },
   "outputs": [],
   "source": [
    "# Load the BERT tokenizer\n",
    "tokenizer = BertTokenizer.from_pretrained('bert-base-uncased', do_lower_case=True)"
   ]
  },
  {
   "cell_type": "code",
   "execution_count": 19,
   "metadata": {
    "colab": {
     "base_uri": "https://localhost:8080/"
    },
    "execution": {
     "iopub.execute_input": "2023-01-13T11:56:01.387506Z",
     "iopub.status.busy": "2023-01-13T11:56:01.387078Z",
     "iopub.status.idle": "2023-01-13T11:56:01.395473Z",
     "shell.execute_reply": "2023-01-13T11:56:01.394564Z",
     "shell.execute_reply.started": "2023-01-13T11:56:01.387441Z"
    },
    "id": "9Vs-ZYDZfMBQ",
    "outputId": "d05acf07-3046-448e-e82a-b21b81ed0e50"
   },
   "outputs": [
    {
     "name": "stdout",
     "output_type": "stream",
     "text": [
      " Original:  patent specification given purposive rather purely literal construction catnic components ltd v hill amp smith ltd rpc catnic eacute cor improver corporation v remington consumer products ltd fsr improver nicaro holdings pty ltd v martin engineering co ipr commonwealth industrial gases ltd v w holdings pty ltd aljr beltreco kirin amgen inc v hoeschst marion roussel ltd ipr kirin amgen sachtler inappropriate, however, approach construction specification view fair patentee kirin amgen sachtler fact monopoly granted consideration disclosure invention general knowledge base society must recognised beltreco indeed, principles governing definition monopoly operating public large require description claims reasonably capable misunderstanding martin patentee must define invention sufficient precision permit monopoly determined allow general public identify words claims conduct prohibited british united shoe machinery co ltd v fussell amp sons ltd rpc public entitled able design around monopoly claimed patent therefore must able determine reliably scope claims beloit technologies inc v valmat paper machinery inc rpc\n",
      "Tokenized:  ['patent', 'specification', 'given', 'pu', '##rp', '##osi', '##ve', 'rather', 'purely', 'literal', 'construction', 'cat', '##nic', 'components', 'ltd', 'v', 'hill', 'amp', 'smith', 'ltd', 'r', '##pc', 'cat', '##nic', 'ea', '##cute', 'co', '##r', 'improve', '##r', 'corporation', 'v', 'remington', 'consumer', 'products', 'ltd', 'f', '##sr', 'improve', '##r', 'nic', '##aro', 'holdings', 'pt', '##y', 'ltd', 'v', 'martin', 'engineering', 'co', 'ip', '##r', 'commonwealth', 'industrial', 'gases', 'ltd', 'v', 'w', 'holdings', 'pt', '##y', 'ltd', 'al', '##j', '##r', 'belt', '##re', '##co', 'ki', '##rin', 'am', '##gen', 'inc', 'v', 'ho', '##es', '##chs', '##t', 'marion', 'ro', '##uss', '##el', 'ltd', 'ip', '##r', 'ki', '##rin', 'am', '##gen', 'sac', '##ht', '##ler', 'inappropriate', ',', 'however', ',', 'approach', 'construction', 'specification', 'view', 'fair', 'patent', '##ee', 'ki', '##rin', 'am', '##gen', 'sac', '##ht', '##ler', 'fact', 'monopoly', 'granted', 'consideration', 'disclosure', 'invention', 'general', 'knowledge', 'base', 'society', 'must', 'recognised', 'belt', '##re', '##co', 'indeed', ',', 'principles', 'governing', 'definition', 'monopoly', 'operating', 'public', 'large', 'require', 'description', 'claims', 'reasonably', 'capable', 'misunderstanding', 'martin', 'patent', '##ee', 'must', 'define', 'invention', 'sufficient', 'precision', 'permit', 'monopoly', 'determined', 'allow', 'general', 'public', 'identify', 'words', 'claims', 'conduct', 'prohibited', 'british', 'united', 'shoe', 'machinery', 'co', 'ltd', 'v', 'fuss', '##ell', 'amp', 'sons', 'ltd', 'r', '##pc', 'public', 'entitled', 'able', 'design', 'around', 'monopoly', 'claimed', 'patent', 'therefore', 'must', 'able', 'determine', 're', '##lia', '##bly', 'scope', 'claims', 'bel', '##oit', 'technologies', 'inc', 'v', 'val', '##mat', 'paper', 'machinery', 'inc', 'r', '##pc']\n",
      "Token IDs:  [7353, 12827, 2445, 16405, 14536, 20049, 3726, 2738, 11850, 18204, 2810, 4937, 8713, 6177, 5183, 1058, 2940, 23713, 3044, 5183, 1054, 15042, 4937, 8713, 19413, 26869, 2522, 2099, 5335, 2099, 3840, 1058, 25282, 7325, 3688, 5183, 1042, 21338, 5335, 2099, 27969, 10464, 9583, 13866, 2100, 5183, 1058, 3235, 3330, 2522, 12997, 2099, 5663, 3919, 15865, 5183, 1058, 1059, 9583, 13866, 2100, 5183, 2632, 3501, 2099, 5583, 2890, 3597, 11382, 6657, 2572, 6914, 4297, 1058, 7570, 2229, 18069, 2102, 10115, 20996, 17854, 2884, 5183, 12997, 2099, 11382, 6657, 2572, 6914, 17266, 11039, 3917, 15884, 1010, 2174, 1010, 3921, 2810, 12827, 3193, 4189, 7353, 4402, 11382, 6657, 2572, 6914, 17266, 11039, 3917, 2755, 15404, 4379, 9584, 19380, 11028, 2236, 3716, 2918, 2554, 2442, 7843, 5583, 2890, 3597, 5262, 1010, 6481, 8677, 6210, 15404, 4082, 2270, 2312, 5478, 6412, 4447, 16286, 5214, 24216, 3235, 7353, 4402, 2442, 9375, 11028, 7182, 11718, 9146, 15404, 4340, 3499, 2236, 2270, 6709, 2616, 4447, 6204, 10890, 2329, 2142, 10818, 10394, 2522, 5183, 1058, 28554, 5349, 23713, 4124, 5183, 1054, 15042, 2270, 4709, 2583, 2640, 2105, 15404, 3555, 7353, 3568, 2442, 2583, 5646, 2128, 6632, 6321, 9531, 4447, 19337, 28100, 6786, 4297, 1058, 11748, 18900, 3259, 10394, 4297, 1054, 15042]\n"
     ]
    }
   ],
   "source": [
    "print(' Original: ', train_text[0])\n",
    "\n",
    "# Print the sentence split into tokens.\n",
    "print('Tokenized: ', tokenizer.tokenize(train_text[0]))\n",
    "\n",
    "# Print the sentence mapped to token ids.\n",
    "print('Token IDs: ', tokenizer.convert_tokens_to_ids(tokenizer.tokenize(train_text[0])))"
   ]
  },
  {
   "cell_type": "code",
   "execution_count": 19,
   "metadata": {
    "colab": {
     "base_uri": "https://localhost:8080/"
    },
    "execution": {
     "iopub.execute_input": "2023-01-13T11:56:01.398403Z",
     "iopub.status.busy": "2023-01-13T11:56:01.397982Z",
     "iopub.status.idle": "2023-01-13T11:56:05.07568Z",
     "shell.execute_reply": "2023-01-13T11:56:05.074686Z",
     "shell.execute_reply.started": "2023-01-13T11:56:01.398364Z"
    },
    "id": "eajMyE4RfMBQ",
    "outputId": "a93f0c48-94fe-4233-ed73-a8787d18d5cc"
   },
   "outputs": [
    {
     "name": "stderr",
     "output_type": "stream",
     "text": [
      "Token indices sequence length is longer than the specified maximum sequence length for this model (604 > 512). Running this sequence through the model will result in indexing errors\n"
     ]
    },
    {
     "name": "stdout",
     "output_type": "stream",
     "text": [
      "Max sentence length:  5290\n"
     ]
    }
   ],
   "source": [
    "max_len = 0\n",
    "\n",
    "# For every sentence...\n",
    "for sent in train_text:\n",
    "\n",
    "    # Tokenize the text and add `[CLS]` and `[SEP]` tokens.\n",
    "    input_ids = tokenizer.encode(sent, add_special_tokens=True)\n",
    "\n",
    "    # Update the maximum sentence length.\n",
    "    max_len = max(max_len, len(input_ids))\n",
    "\n",
    "print('Max sentence length: ', max_len)"
   ]
  },
  {
   "cell_type": "code",
   "execution_count": 20,
   "metadata": {
    "colab": {
     "base_uri": "https://localhost:8080/"
    },
    "execution": {
     "iopub.execute_input": "2023-01-13T11:56:05.077336Z",
     "iopub.status.busy": "2023-01-13T11:56:05.076962Z",
     "iopub.status.idle": "2023-01-13T11:56:09.116248Z",
     "shell.execute_reply": "2023-01-13T11:56:09.115329Z",
     "shell.execute_reply.started": "2023-01-13T11:56:05.077296Z"
    },
    "id": "ruJCZxvafMBQ",
    "outputId": "4cf60740-e6a1-4c12-d075-e1a7dc7e5b6b"
   },
   "outputs": [
    {
     "name": "stderr",
     "output_type": "stream",
     "text": [
      "Truncation was not explicitly activated but `max_length` is provided a specific value, please use `truncation=True` to explicitly truncate examples to max length. Defaulting to 'longest_first' truncation strategy. If you encode pairs of sequences (GLUE-style) with the tokenizer you can select this strategy more precisely by providing a specific strategy to `truncation`.\n",
      "/usr/local/lib/python3.10/dist-packages/transformers/tokenization_utils_base.py:2614: FutureWarning: The `pad_to_max_length` argument is deprecated and will be removed in a future version, use `padding=True` or `padding='longest'` to pad to the longest sequence in the batch, or use `padding='max_length'` to pad to a max length. In this case, you can give a specific length with `max_length` (e.g. `max_length=45`) or leave max_length to None to pad to the maximal input size of the model (e.g. 512 for Bert).\n",
      "  warnings.warn(\n"
     ]
    },
    {
     "name": "stdout",
     "output_type": "stream",
     "text": [
      "Original:  patent specification given purposive rather purely literal construction catnic components ltd v hill amp smith ltd rpc catnic eacute cor improver corporation v remington consumer products ltd fsr improver nicaro holdings pty ltd v martin engineering co ipr commonwealth industrial gases ltd v w holdings pty ltd aljr beltreco kirin amgen inc v hoeschst marion roussel ltd ipr kirin amgen sachtler inappropriate, however, approach construction specification view fair patentee kirin amgen sachtler fact monopoly granted consideration disclosure invention general knowledge base society must recognised beltreco indeed, principles governing definition monopoly operating public large require description claims reasonably capable misunderstanding martin patentee must define invention sufficient precision permit monopoly determined allow general public identify words claims conduct prohibited british united shoe machinery co ltd v fussell amp sons ltd rpc public entitled able design around monopoly claimed patent therefore must able determine reliably scope claims beloit technologies inc v valmat paper machinery inc rpc\n",
      "Token IDs: tensor([  101,  7353, 12827,  2445, 16405, 14536, 20049,  3726,  2738, 11850,\n",
      "        18204,  2810,  4937,  8713,  6177,  5183,  1058,  2940, 23713,  3044,\n",
      "         5183,  1054, 15042,  4937,  8713, 19413, 26869,  2522,  2099,  5335,\n",
      "         2099,  3840,  1058, 25282,  7325,  3688,  5183,  1042, 21338,  5335,\n",
      "         2099, 27969, 10464,  9583, 13866,  2100,  5183,  1058,  3235,  3330,\n",
      "         2522, 12997,  2099,  5663,  3919, 15865,  5183,  1058,  1059,  9583,\n",
      "        13866,  2100,  5183,  2632,  3501,  2099,  5583,  2890,  3597, 11382,\n",
      "         6657,  2572,  6914,  4297,  1058,  7570,  2229, 18069,  2102, 10115,\n",
      "        20996, 17854,  2884,  5183, 12997,  2099, 11382,  6657,  2572,  6914,\n",
      "        17266, 11039,  3917, 15884,  1010,  2174,  1010,  3921,  2810, 12827,\n",
      "         3193,  4189,  7353,  4402, 11382,  6657,  2572,  6914, 17266, 11039,\n",
      "         3917,  2755, 15404,  4379,  9584, 19380, 11028,  2236,  3716,  2918,\n",
      "         2554,  2442,  7843,  5583,  2890,  3597,  5262,   102])\n"
     ]
    }
   ],
   "source": [
    "input_ids = []\n",
    "attention_masks = []\n",
    "\n",
    "# For every tweet...\n",
    "for text in train_text:\n",
    "    # `encode_plus` will:\n",
    "    #   (1) Tokenize the sentence.\n",
    "    #   (2) Prepend the `[CLS]` token to the start.\n",
    "    #   (3) Append the `[SEP]` token to the end.\n",
    "    #   (4) Map tokens to their IDs.\n",
    "    #   (5) Pad or truncate the sentence to `max_length`\n",
    "    #   (6) Create attention masks for [PAD] tokens.\n",
    "    encoded_dict = tokenizer.encode_plus(\n",
    "                        text,                      # Sentence to encode.\n",
    "                        add_special_tokens = True, # Add '[CLS]' and '[SEP]'\n",
    "                        max_length = 128,           # Pad & truncate all sentences.\n",
    "                        pad_to_max_length = True,\n",
    "                        # truncation=True,\n",
    "                        return_attention_mask = True,   # Construct attn. masks.\n",
    "                        return_tensors = 'pt',     # Return pytorch tensors.\n",
    "                   )\n",
    "\n",
    "    # Add the encoded sentence to the list.\n",
    "    input_ids.append(encoded_dict['input_ids'])\n",
    "\n",
    "    # And its attention mask (simply differentiates padding from non-padding).\n",
    "    attention_masks.append(encoded_dict['attention_mask'])\n",
    "\n",
    "# Convert the lists into tensors.\n",
    "input_ids = torch.cat(input_ids, dim=0)\n",
    "attention_masks = torch.cat(attention_masks, dim=0)\n",
    "train_outcome = torch.tensor(train_outcome)\n",
    "\n",
    "# Print sentence 0, now as a list of IDs.\n",
    "print('Original: ', train_text[0])\n",
    "print('Token IDs:', input_ids[0])"
   ]
  },
  {
   "cell_type": "code",
   "execution_count": 21,
   "metadata": {
    "colab": {
     "base_uri": "https://localhost:8080/"
    },
    "id": "HrMo0JtfmeHo",
    "outputId": "e7563008-379c-4d0b-b424-209e25feb8e3"
   },
   "outputs": [
    {
     "name": "stdout",
     "output_type": "stream",
     "text": [
      "Original:  allsop j pointed heilbrunn v lightwood plc fcr f given wide liberal construction accordance similar view expressed house lords antonis p lemos ac gatoil international ltd v arkwright boston manufacturers mutual insurance company ac australian law reform commission referred lordships decisions civil admiralty jurisdiction, report alrc report earlier, foster j observed port geelong authority v bass reefer fca fcr showed words f also similar article international convention unification certain rules relating arrest seagoing ships st elefterio p , willmer j held english analogue f encompassed claim whether contract tort arising agreement relating carriage goods ship emphasis added case, held gave court jurisdiction person allegedly made fraudulent ante dating bills lading suzlon companies also relied claims mr bangad within associated jurisdiction court conferred admiralty act matters admiralty maritime jurisdiction jurisdiction concerned resolution controversies relating marine commerce navigation shin kobe maru clr contractual business arrangements party proceedings third parties capable attracting court admiralty maritime jurisdiction shin kobe maru clr opinion that, present materials, claims suzlon companies seek bring mr bangad substantive rather appearing remotely tenuously related matters admiralty maritime jurisdiction pleaded cf bass reefer fcr per foster j satisfied claims raised real controversy relating marine commerce navigation mr bangad occupied central role\n",
      "Token IDs: tensor([  101,  7353, 12827,  2445, 16405, 14536, 20049,  3726,  2738, 11850,\n",
      "        18204,  2810,  4937,  8713,  6177,  5183,  1058,  2940, 23713,  3044,\n",
      "         5183,  1054, 15042,  4937,  8713, 19413, 26869,  2522,  2099,  5335,\n",
      "         2099,  3840,  1058, 25282,  7325,  3688,  5183,  1042, 21338,  5335,\n",
      "         2099, 27969, 10464,  9583, 13866,  2100,  5183,  1058,  3235,  3330,\n",
      "         2522, 12997,  2099,  5663,  3919, 15865,  5183,  1058,  1059,  9583,\n",
      "        13866,  2100,  5183,  2632,  3501,  2099,  5583,  2890,  3597, 11382,\n",
      "         6657,  2572,  6914,  4297,  1058,  7570,  2229, 18069,  2102, 10115,\n",
      "        20996, 17854,  2884,  5183, 12997,  2099, 11382,  6657,  2572,  6914,\n",
      "        17266, 11039,  3917, 15884,  1010,  2174,  1010,  3921,  2810, 12827,\n",
      "         3193,  4189,  7353,  4402, 11382,  6657,  2572,  6914, 17266, 11039,\n",
      "         3917,  2755, 15404,  4379,  9584, 19380, 11028,  2236,  3716,  2918,\n",
      "         2554,  2442,  7843,  5583,  2890,  3597,  5262,   102])\n"
     ]
    }
   ],
   "source": [
    "val_input_ids = []\n",
    "val_attention_masks = []\n",
    "\n",
    "# For every tweet...\n",
    "for text in val_text:\n",
    "    # `encode_plus` will:\n",
    "    #   (1) Tokenize the sentence.\n",
    "    #   (2) Prepend the `[CLS]` token to the start.\n",
    "    #   (3) Append the `[SEP]` token to the end.\n",
    "    #   (4) Map tokens to their IDs.\n",
    "    #   (5) Pad or truncate the sentence to `max_length`\n",
    "    #   (6) Create attention masks for [PAD] tokens.\n",
    "    encoded_dict = tokenizer.encode_plus(\n",
    "                        text,                      # Sentence to encode.\n",
    "                        add_special_tokens = True, # Add '[CLS]' and '[SEP]'\n",
    "                        max_length = 128,           # Pad & truncate all sentences.\n",
    "                        pad_to_max_length = True,\n",
    "                        # truncation=True,\n",
    "                        return_attention_mask = True,   # Construct attn. masks.\n",
    "                        return_tensors = 'pt',     # Return pytorch tensors.\n",
    "                   )\n",
    "\n",
    "    # Add the encoded sentence to the list.\n",
    "    val_input_ids.append(encoded_dict['input_ids'])\n",
    "\n",
    "    # And its attention mask (simply differentiates padding from non-padding).\n",
    "    val_attention_masks.append(encoded_dict['attention_mask'])\n",
    "\n",
    "# Convert the lists into tensors.\n",
    "val_input_ids = torch.cat(val_input_ids, dim=0)\n",
    "val_attention_masks = torch.cat(val_attention_masks, dim=0)\n",
    "val_outcome = torch.tensor(val_outcome)\n",
    "\n",
    "# Print sentence 0, now as a list of IDs.\n",
    "print('Original: ', val_text[0])\n",
    "print('Token IDs:', input_ids[0])"
   ]
  },
  {
   "cell_type": "markdown",
   "metadata": {
    "id": "Tis2m32kfMBR"
   },
   "source": [
    "#### Train-validation split\n",
    "80% of data is split into train and 20% to validation sets."
   ]
  },
  {
   "cell_type": "code",
   "execution_count": 22,
   "metadata": {
    "execution": {
     "iopub.execute_input": "2023-01-13T11:56:09.11808Z",
     "iopub.status.busy": "2023-01-13T11:56:09.117564Z",
     "iopub.status.idle": "2023-01-13T11:56:09.127896Z",
     "shell.execute_reply": "2023-01-13T11:56:09.126858Z",
     "shell.execute_reply.started": "2023-01-13T11:56:09.118042Z"
    },
    "id": "bz7f2Pg0fMBR"
   },
   "outputs": [],
   "source": [
    "# Combine the training inputs into a TensorDataset.\n",
    "train_dataset = TensorDataset(input_ids, attention_masks, train_outcome)\n",
    "val_dataset= TensorDataset(val_input_ids, val_attention_masks, val_outcome)"
   ]
  },
  {
   "cell_type": "code",
   "execution_count": 23,
   "metadata": {
    "execution": {
     "iopub.execute_input": "2023-01-13T11:56:09.129726Z",
     "iopub.status.busy": "2023-01-13T11:56:09.129356Z",
     "iopub.status.idle": "2023-01-13T11:56:09.135463Z",
     "shell.execute_reply": "2023-01-13T11:56:09.13445Z",
     "shell.execute_reply.started": "2023-01-13T11:56:09.129688Z"
    },
    "id": "6EzhiVnqfMBR"
   },
   "outputs": [],
   "source": [
    "# The DataLoader needs to know our batch size for training, so we specify it\n",
    "# here. For fine-tuning BERT on a specific task, the authors recommend a batch\n",
    "# size of 16 or 32.\n",
    "batch_size = 32\n",
    "\n",
    "# Create the DataLoaders for our training and validation sets.\n",
    "# We'll take training samples in random order.\n",
    "train_dataloader = DataLoader(\n",
    "            train_dataset,  # The training samples.\n",
    "            sampler = RandomSampler(train_dataset), # Select batches randomly\n",
    "            batch_size = batch_size # Trains with this batch size.\n",
    "        )\n",
    "\n",
    "# For validation the order doesn't matter, so we'll just read them sequentially.\n",
    "validation_dataloader = DataLoader(\n",
    "            val_dataset, # The validation samples.\n",
    "            sampler = SequentialSampler(val_dataset), # Pull out batches sequentially.\n",
    "            batch_size = batch_size # Evaluate with this batch size.\n",
    "        )"
   ]
  },
  {
   "cell_type": "code",
   "execution_count": 24,
   "metadata": {
    "colab": {
     "base_uri": "https://localhost:8080/"
    },
    "id": "8i-KmUa9DHRd",
    "outputId": "2945a16b-e952-437a-ab2c-7ca5921e0251"
   },
   "outputs": [
    {
     "data": {
      "text/plain": [
       "device(type='cuda', index=0)"
      ]
     },
     "execution_count": 24,
     "metadata": {},
     "output_type": "execute_result"
    }
   ],
   "source": [
    "device = torch.device(\"cuda:0\" if torch.cuda.is_available() else \"cpu\")\n",
    "device"
   ]
  },
  {
   "cell_type": "code",
   "execution_count": 25,
   "metadata": {
    "colab": {
     "base_uri": "https://localhost:8080/",
     "height": 104,
     "referenced_widgets": [
      "4234c28a97aa49c39a19f9c29adc1598",
      "720cdd1de7f94a6aa26064574d3d673f",
      "aa86c7263faf413c9cd9352255c44bd3",
      "feb079dcaf704d8abb6b627a24466236",
      "f2f86b9ddb894d088a546e0b5cfa2e20",
      "4198cad16d50405ea52c0c9933d5cbc3",
      "0d7ded59347442e297ceec1ca4b30d3f",
      "b6fe2cb1149542c0b004a00e581ae1cc",
      "c716b23231084e53933a238a573c3c75",
      "eeada8a56f4542ab9add742102f69caa",
      "abeaaf07987b4fef98f8ea86f9e51908"
     ]
    },
    "execution": {
     "iopub.execute_input": "2023-01-13T11:56:09.137126Z",
     "iopub.status.busy": "2023-01-13T11:56:09.136749Z",
     "iopub.status.idle": "2023-01-13T11:57:00.646006Z",
     "shell.execute_reply": "2023-01-13T11:57:00.64513Z",
     "shell.execute_reply.started": "2023-01-13T11:56:09.137041Z"
    },
    "id": "phwo3SzxfMBR",
    "outputId": "481cc517-b75c-4e5f-85f7-3c4b8bbcaf1d"
   },
   "outputs": [
    {
     "data": {
      "application/vnd.jupyter.widget-view+json": {
       "model_id": "4234c28a97aa49c39a19f9c29adc1598",
       "version_major": 2,
       "version_minor": 0
      },
      "text/plain": [
       "Downloading model.safetensors:   0%|          | 0.00/440M [00:00<?, ?B/s]"
      ]
     },
     "metadata": {},
     "output_type": "display_data"
    },
    {
     "name": "stderr",
     "output_type": "stream",
     "text": [
      "Some weights of BertForSequenceClassification were not initialized from the model checkpoint at bert-base-uncased and are newly initialized: ['classifier.weight', 'classifier.bias']\n",
      "You should probably TRAIN this model on a down-stream task to be able to use it for predictions and inference.\n"
     ]
    }
   ],
   "source": [
    "\n",
    "# Load BertForSequenceClassification, the pretrained BERT model with a single\n",
    "# linear classification layer on top.\n",
    "model = BertForSequenceClassification.from_pretrained(\n",
    "    \"bert-base-uncased\", # Use the 12-layer BERT model, with an uncased vocab.\n",
    "    num_labels = 10, # The number of output labels--2 for binary classification.\n",
    "                    # You can increase this for multi-class tasks.\n",
    "    output_attentions = False, # Whether the model returns attentions weights.\n",
    "    output_hidden_states = False, # Whether the model returns all hidden-states.\n",
    ")\n",
    "\n",
    "# if device == \"cuda:0\":\n",
    "#   model = model.cuda()\n",
    "model = model.to(device)"
   ]
  },
  {
   "cell_type": "code",
   "execution_count": 26,
   "metadata": {
    "colab": {
     "base_uri": "https://localhost:8080/"
    },
    "id": "JTn4YNmgtc_d",
    "outputId": "18073751-24f0-465d-d891-32f16b3de454"
   },
   "outputs": [
    {
     "name": "stdout",
     "output_type": "stream",
     "text": [
      "The BERT model has 201 different named parameters.\n",
      "\n",
      "==== Embedding Layer ====\n",
      "\n",
      "bert.embeddings.word_embeddings.weight                  (30522, 768)\n",
      "bert.embeddings.position_embeddings.weight                (512, 768)\n",
      "bert.embeddings.token_type_embeddings.weight                (2, 768)\n",
      "bert.embeddings.LayerNorm.weight                              (768,)\n",
      "bert.embeddings.LayerNorm.bias                                (768,)\n",
      "\n",
      "==== First Transformer ====\n",
      "\n",
      "bert.encoder.layer.0.attention.self.query.weight          (768, 768)\n",
      "bert.encoder.layer.0.attention.self.query.bias                (768,)\n",
      "bert.encoder.layer.0.attention.self.key.weight            (768, 768)\n",
      "bert.encoder.layer.0.attention.self.key.bias                  (768,)\n",
      "bert.encoder.layer.0.attention.self.value.weight          (768, 768)\n",
      "bert.encoder.layer.0.attention.self.value.bias                (768,)\n",
      "bert.encoder.layer.0.attention.output.dense.weight        (768, 768)\n",
      "bert.encoder.layer.0.attention.output.dense.bias              (768,)\n",
      "bert.encoder.layer.0.attention.output.LayerNorm.weight        (768,)\n",
      "bert.encoder.layer.0.attention.output.LayerNorm.bias          (768,)\n",
      "bert.encoder.layer.0.intermediate.dense.weight           (3072, 768)\n",
      "bert.encoder.layer.0.intermediate.dense.bias                 (3072,)\n",
      "bert.encoder.layer.0.output.dense.weight                 (768, 3072)\n",
      "bert.encoder.layer.0.output.dense.bias                        (768,)\n",
      "bert.encoder.layer.0.output.LayerNorm.weight                  (768,)\n",
      "bert.encoder.layer.0.output.LayerNorm.bias                    (768,)\n",
      "\n",
      "==== Output Layer ====\n",
      "\n",
      "bert.pooler.dense.weight                                  (768, 768)\n",
      "bert.pooler.dense.bias                                        (768,)\n",
      "classifier.weight                                          (10, 768)\n",
      "classifier.bias                                                (10,)\n"
     ]
    }
   ],
   "source": [
    "# Get all of the model's parameters as a list of tuples.\n",
    "params = list(model.named_parameters())\n",
    "\n",
    "print('The BERT model has {:} different named parameters.\\n'.format(len(params)))\n",
    "\n",
    "print('==== Embedding Layer ====\\n')\n",
    "\n",
    "for p in params[0:5]:\n",
    "    print(\"{:<55} {:>12}\".format(p[0], str(tuple(p[1].size()))))\n",
    "\n",
    "print('\\n==== First Transformer ====\\n')\n",
    "\n",
    "for p in params[5:21]:\n",
    "    print(\"{:<55} {:>12}\".format(p[0], str(tuple(p[1].size()))))\n",
    "\n",
    "print('\\n==== Output Layer ====\\n')\n",
    "\n",
    "for p in params[-4:]:\n",
    "    print(\"{:<55} {:>12}\".format(p[0], str(tuple(p[1].size()))))\n"
   ]
  },
  {
   "cell_type": "code",
   "execution_count": 27,
   "metadata": {
    "colab": {
     "base_uri": "https://localhost:8080/"
    },
    "execution": {
     "iopub.execute_input": "2023-01-13T11:57:00.647728Z",
     "iopub.status.busy": "2023-01-13T11:57:00.647372Z",
     "iopub.status.idle": "2023-01-13T11:57:00.6558Z",
     "shell.execute_reply": "2023-01-13T11:57:00.655035Z",
     "shell.execute_reply.started": "2023-01-13T11:57:00.647689Z"
    },
    "id": "19h4yiUkfMBR",
    "outputId": "55c4b5a3-38ff-41e5-df2d-2613ca0e66f6"
   },
   "outputs": [
    {
     "name": "stderr",
     "output_type": "stream",
     "text": [
      "/usr/local/lib/python3.10/dist-packages/transformers/optimization.py:411: FutureWarning: This implementation of AdamW is deprecated and will be removed in a future version. Use the PyTorch implementation torch.optim.AdamW instead, or set `no_deprecation_warning=True` to disable this warning\n",
      "  warnings.warn(\n"
     ]
    }
   ],
   "source": [
    "optimizer = AdamW(model.parameters(),\n",
    "                  lr = 2e-5, # args.learning_rate - default is 5e-5, our notebook had 2e-5\n",
    "                  eps = 1e-8 # args.adam_epsilon  - default is 1e-8.\n",
    "                )"
   ]
  },
  {
   "cell_type": "markdown",
   "metadata": {
    "id": "usobTAOkfMBR"
   },
   "source": [
    "# Fine tuning the model"
   ]
  },
  {
   "cell_type": "code",
   "execution_count": 28,
   "metadata": {
    "execution": {
     "iopub.execute_input": "2023-01-13T11:57:00.657603Z",
     "iopub.status.busy": "2023-01-13T11:57:00.657268Z",
     "iopub.status.idle": "2023-01-13T11:57:00.668795Z",
     "shell.execute_reply": "2023-01-13T11:57:00.668033Z",
     "shell.execute_reply.started": "2023-01-13T11:57:00.657567Z"
    },
    "id": "NkQecwCQfMBR"
   },
   "outputs": [],
   "source": [
    "# Number of training epochs. The BERT authors recommend between 2 and 4.\n",
    "# We chose to run for 4, but we'll see later that this may be over-fitting the\n",
    "# training data.\n",
    "epochs = 4\n",
    "\n",
    "# Total number of training steps is [number of batches] x [number of epochs].\n",
    "# (Note that this is not the same as the number of training samples).\n",
    "total_steps = len(train_dataloader) * epochs\n",
    "\n",
    "# Create the learning rate scheduler.\n",
    "scheduler = get_linear_schedule_with_warmup(optimizer,\n",
    "                                            num_warmup_steps = 0, # Default value in run_glue.py\n",
    "                                            num_training_steps = total_steps)"
   ]
  },
  {
   "cell_type": "code",
   "execution_count": 29,
   "metadata": {
    "execution": {
     "iopub.execute_input": "2023-01-13T11:57:00.670499Z",
     "iopub.status.busy": "2023-01-13T11:57:00.670117Z",
     "iopub.status.idle": "2023-01-13T11:57:00.681749Z",
     "shell.execute_reply": "2023-01-13T11:57:00.681025Z",
     "shell.execute_reply.started": "2023-01-13T11:57:00.670465Z"
    },
    "id": "JsRpV4f2fMBR"
   },
   "outputs": [],
   "source": [
    "# Function to calculate the accuracy of our predictions vs labels\n",
    "def flat_accuracy(preds, labels):\n",
    "    pred_flat = np.argmax(preds, axis=1).flatten()\n",
    "    labels_flat = labels.flatten()\n",
    "    return np.sum(pred_flat == labels_flat) / len(labels_flat)"
   ]
  },
  {
   "cell_type": "code",
   "execution_count": 30,
   "metadata": {
    "execution": {
     "iopub.execute_input": "2023-01-13T11:57:00.683249Z",
     "iopub.status.busy": "2023-01-13T11:57:00.682894Z",
     "iopub.status.idle": "2023-01-13T11:57:00.690779Z",
     "shell.execute_reply": "2023-01-13T11:57:00.690044Z",
     "shell.execute_reply.started": "2023-01-13T11:57:00.683215Z"
    },
    "id": "1cM9-8K_fMBS"
   },
   "outputs": [],
   "source": [
    "def format_time(elapsed):\n",
    "    '''\n",
    "    Takes a time in seconds and returns a string hh:mm:ss\n",
    "    '''\n",
    "    # Round to the nearest second.\n",
    "    elapsed_rounded = int(round((elapsed)))\n",
    "    # Format as hh:mm:ss\n",
    "    return str(datetime.timedelta(seconds=elapsed_rounded))"
   ]
  },
  {
   "cell_type": "code",
   "execution_count": 31,
   "metadata": {
    "colab": {
     "base_uri": "https://localhost:8080/"
    },
    "execution": {
     "iopub.execute_input": "2023-01-13T11:57:00.69248Z",
     "iopub.status.busy": "2023-01-13T11:57:00.692149Z",
     "iopub.status.idle": "2023-01-13T11:59:25.990275Z",
     "shell.execute_reply": "2023-01-13T11:59:25.989402Z",
     "shell.execute_reply.started": "2023-01-13T11:57:00.692446Z"
    },
    "id": "J8MuILK2fMBS",
    "outputId": "ba3b9f55-273f-4762-9c73-8d17158efa2d"
   },
   "outputs": [
    {
     "name": "stdout",
     "output_type": "stream",
     "text": [
      "\n",
      "======== Epoch 1 / 4 ========\n",
      "Training...\n",
      "\n",
      "  Average training loss: 1.57\n",
      "  Training epcoh took: 0:05:47\n",
      "\n",
      "Running Validation...\n",
      "  Accuracy: 0.50\n",
      "\n",
      "======== Epoch 2 / 4 ========\n",
      "Training...\n",
      "\n",
      "  Average training loss: 1.47\n",
      "  Training epcoh took: 0:05:53\n",
      "\n",
      "Running Validation...\n",
      "  Accuracy: 0.50\n",
      "\n",
      "======== Epoch 3 / 4 ========\n",
      "Training...\n",
      "\n",
      "  Average training loss: 1.34\n",
      "  Training epcoh took: 0:05:53\n",
      "\n",
      "Running Validation...\n",
      "  Accuracy: 0.51\n",
      "\n",
      "======== Epoch 4 / 4 ========\n",
      "Training...\n",
      "\n",
      "  Average training loss: 1.22\n",
      "  Training epcoh took: 0:05:53\n",
      "\n",
      "Running Validation...\n",
      "  Accuracy: 0.51\n",
      "\n",
      "Training complete!\n",
      "Total training took 0:25:19 (h:mm:ss)\n"
     ]
    }
   ],
   "source": [
    "seed_val = 42\n",
    "random.seed(seed_val)\n",
    "np.random.seed(seed_val)\n",
    "torch.manual_seed(seed_val)\n",
    "\n",
    "torch.cuda.manual_seed_all(seed_val)\n",
    "training_stats = []\n",
    "\n",
    "# Measure the total training time for the whole run.\n",
    "total_t0 = time.time()\n",
    "\n",
    "# For each epoch...\n",
    "for epoch_i in range(0, epochs):\n",
    "\n",
    "    # ========================================\n",
    "    #               Training\n",
    "    # ========================================\n",
    "    # Perform one full pass over the training set.\n",
    "    print(\"\")\n",
    "    print('======== Epoch {:} / {:} ========'.format(epoch_i + 1, epochs))\n",
    "    print('Training...')\n",
    "    # Measure how long the training epoch takes.\n",
    "    t0 = time.time()\n",
    "    total_train_loss = 0\n",
    "    model.train()\n",
    "    for step, batch in enumerate(train_dataloader):\n",
    "        # Unpack this training batch from our dataloader.\n",
    "        #\n",
    "        # As we unpack the batch, we'll also copy each tensor to the device using the\n",
    "        # `to` method.\n",
    "        #\n",
    "        # `batch` contains three pytorch tensors:\n",
    "        #   [0]: input ids\n",
    "        #   [1]: attention masks\n",
    "        #   [2]: labels\n",
    "        b_input_ids = batch[0].to(device)\n",
    "        b_input_mask = batch[1].to(device)\n",
    "        b_labels = batch[2].to(device)\n",
    "\n",
    "        optimizer.zero_grad()\n",
    "        output = model(b_input_ids,\n",
    "                             token_type_ids=None,\n",
    "                             attention_mask=b_input_mask,\n",
    "                             labels=b_labels)\n",
    "        loss = output.loss\n",
    "        total_train_loss += loss.item()\n",
    "        # Perform a backward pass to calculate the gradients.\n",
    "        loss.backward()\n",
    "        # Clip the norm of the gradients to 1.0.\n",
    "        # This is to help prevent the \"exploding gradients\" problem.\n",
    "        torch.nn.utils.clip_grad_norm_(model.parameters(), 1.0)\n",
    "        # Update parameters and take a step using the computed gradient.\n",
    "        # The optimizer dictates the \"update rule\"--how the parameters are\n",
    "        # modified based on their gradients, the learning rate, etc.\n",
    "        optimizer.step()\n",
    "        # Update the learning rate.\n",
    "        scheduler.step()\n",
    "\n",
    "    # Calculate the average loss over all of the batches.\n",
    "    avg_train_loss = total_train_loss / len(train_dataloader)\n",
    "\n",
    "    # Measure how long this epoch took.\n",
    "    training_time = format_time(time.time() - t0)\n",
    "    print(\"\")\n",
    "    print(\"  Average training loss: {0:.2f}\".format(avg_train_loss))\n",
    "    print(\"  Training epcoh took: {:}\".format(training_time))\n",
    "    # ========================================\n",
    "    #               Validation\n",
    "    # ========================================\n",
    "    # After the completion of each training epoch, measure our performance on\n",
    "    # our validation set.\n",
    "    print(\"\")\n",
    "    print(\"Running Validation...\")\n",
    "    t0 = time.time()\n",
    "    # Put the model in evaluation mode--the dropout layers behave differently\n",
    "    # during evaluation.\n",
    "    model.eval()\n",
    "    # Tracking variables\n",
    "    total_eval_accuracy = 0\n",
    "    best_eval_accuracy = 0\n",
    "    total_eval_loss = 0\n",
    "    nb_eval_steps = 0\n",
    "    # Evaluate data for one epoch\n",
    "    for batch in validation_dataloader:\n",
    "        b_input_ids = batch[0].to(device)\n",
    "        b_input_mask = batch[1].to(device)\n",
    "        b_labels = batch[2].to(device)\n",
    "        # Tell pytorch not to bother with constructing the compute graph during\n",
    "        # the forward pass, since this is only needed for backprop (training).\n",
    "        with torch.no_grad():\n",
    "            output= model(b_input_ids,\n",
    "                                   token_type_ids=None,\n",
    "                                   attention_mask=b_input_mask,\n",
    "                                   labels=b_labels)\n",
    "        loss = output.loss\n",
    "        total_eval_loss += loss.item()\n",
    "        # Move logits and labels to CPU if we are using GPU\n",
    "        logits = output.logits\n",
    "        logits = logits.detach().cpu().numpy()\n",
    "        label_ids = b_labels.to('cpu').numpy()\n",
    "        # Calculate the accuracy for this batch of test sentences, and\n",
    "        # accumulate it over all batches.\n",
    "        total_eval_accuracy += flat_accuracy(logits, label_ids)\n",
    "    # Report the final accuracy for this validation run.\n",
    "    avg_val_accuracy = total_eval_accuracy / len(validation_dataloader)\n",
    "    print(\"  Accuracy: {0:.2f}\".format(avg_val_accuracy))\n",
    "    # Calculate the average loss over all of the batches.\n",
    "    avg_val_loss = total_eval_loss / len(validation_dataloader)\n",
    "    # Measure how long the validation run took.\n",
    "    validation_time = format_time(time.time() - t0)\n",
    "    if avg_val_accuracy > best_eval_accuracy:\n",
    "        torch.save(model, 'bert_model')\n",
    "        best_eval_accuracy = avg_val_accuracy\n",
    "    #print(\"  Validation Loss: {0:.2f}\".format(avg_val_loss))\n",
    "    #print(\"  Validation took: {:}\".format(validation_time))\n",
    "    # Record all statistics from this epoch.\n",
    "    training_stats.append(\n",
    "        {\n",
    "            'epoch': epoch_i + 1,\n",
    "            'Training Loss': avg_train_loss,\n",
    "            'Valid. Loss': avg_val_loss,\n",
    "            'Valid. Accur.': avg_val_accuracy,\n",
    "            'Training Time': training_time,\n",
    "            'Validation Time': validation_time\n",
    "        }\n",
    "    )\n",
    "print(\"\")\n",
    "print(\"Training complete!\")\n",
    "\n",
    "print(\"Total training took {:} (h:mm:ss)\".format(format_time(time.time()-total_t0)))"
   ]
  },
  {
   "cell_type": "markdown",
   "metadata": {
    "id": "NQveWTKgfMBS"
   },
   "source": [
    "# Loading the best model"
   ]
  },
  {
   "cell_type": "code",
   "execution_count": 32,
   "metadata": {
    "execution": {
     "iopub.execute_input": "2023-01-13T11:59:25.991982Z",
     "iopub.status.busy": "2023-01-13T11:59:25.991594Z",
     "iopub.status.idle": "2023-01-13T11:59:26.236911Z",
     "shell.execute_reply": "2023-01-13T11:59:26.235986Z",
     "shell.execute_reply.started": "2023-01-13T11:59:25.991941Z"
    },
    "id": "aTxs3gIzfMBS"
   },
   "outputs": [],
   "source": [
    "# model = torch.load('bert_model.pt')"
   ]
  },
  {
   "cell_type": "code",
   "execution_count": 33,
   "metadata": {
    "colab": {
     "base_uri": "https://localhost:8080/"
    },
    "id": "Kv1o1IaVWEzM",
    "outputId": "ff09ae71-ff6d-40ee-82a3-a03fc7c569f6"
   },
   "outputs": [
    {
     "name": "stderr",
     "output_type": "stream",
     "text": [
      "/usr/local/lib/python3.10/dist-packages/transformers/tokenization_utils_base.py:2614: FutureWarning: The `pad_to_max_length` argument is deprecated and will be removed in a future version, use `padding=True` or `padding='longest'` to pad to the longest sequence in the batch, or use `padding='max_length'` to pad to a max length. In this case, you can give a specific length with `max_length` (e.g. `max_length=45`) or leave max_length to None to pad to the maximal input size of the model (e.g. 512 for Bert).\n",
      "  warnings.warn(\n"
     ]
    }
   ],
   "source": [
    "# Tokenize all of the sentences and map the tokens to thier word IDs.\n",
    "test_input_ids = []\n",
    "test_attention_masks = []\n",
    "\n",
    "# For every sentence...\n",
    "for sent in test_text:\n",
    "    # `encode_plus` will:\n",
    "    #   (1) Tokenize the sentence.\n",
    "    #   (2) Prepend the `[CLS]` token to the start.\n",
    "    #   (3) Append the `[SEP]` token to the end.\n",
    "    #   (4) Map tokens to their IDs.\n",
    "    #   (5) Pad or truncate the sentence to `max_length`\n",
    "    #   (6) Create attention masks for [PAD] tokens.\n",
    "    encoded_dict = tokenizer.encode_plus(\n",
    "                        sent,                      # Sentence to encode.\n",
    "                        add_special_tokens = True, # Add '[CLS]' and '[SEP]'\n",
    "                        max_length = 128,           # Pad & truncate all sentences.\n",
    "                        pad_to_max_length = True,\n",
    "                        return_attention_mask = True,   # Construct attn. masks.\n",
    "                        return_tensors = 'pt',     # Return pytorch tensors.\n",
    "                   )\n",
    "\n",
    "    # Add the encoded sentence to the list.\n",
    "    test_input_ids.append(encoded_dict['input_ids'])\n",
    "\n",
    "    # And its attention mask (simply differentiates padding from non-padding).\n",
    "    test_attention_masks.append(encoded_dict['attention_mask'])\n",
    "\n",
    "# Convert the lists into tensors.\n",
    "test_input_ids = torch.cat(test_input_ids, dim=0)\n",
    "test_attention_masks = torch.cat(test_attention_masks, dim=0)\n",
    "test_labels = torch.tensor(test_outcome)\n",
    "\n",
    "# Set the batch size.\n",
    "batch_size = 32\n",
    "\n",
    "# Create the DataLoader.\n",
    "# prediction_data = TensorDataset(input_ids, attention_masks, labels)\n",
    "prediction_data = TensorDataset(test_input_ids, test_attention_masks, test_labels)\n",
    "prediction_sampler = SequentialSampler(prediction_data)\n",
    "prediction_dataloader = DataLoader(prediction_data, sampler=prediction_sampler, batch_size=batch_size)"
   ]
  },
  {
   "cell_type": "code",
   "execution_count": 34,
   "metadata": {
    "colab": {
     "base_uri": "https://localhost:8080/"
    },
    "id": "YNVqqmQvW8gt",
    "outputId": "30f39714-ca1e-4e03-c1b6-f63ed92e178b"
   },
   "outputs": [
    {
     "name": "stdout",
     "output_type": "stream",
     "text": [
      "Predicting labels for 3,748 test sentences...\n",
      "DONE.\n"
     ]
    }
   ],
   "source": [
    "# Prediction on test set\n",
    "\n",
    "print('Predicting labels for {:,} test sentences...'.format(len(test_input_ids)))\n",
    "\n",
    "# Put model in evaluation mode\n",
    "model.eval()\n",
    "\n",
    "# Tracking variables\n",
    "test_predictions , test_true_labels = [], []\n",
    "\n",
    "# Predict\n",
    "for batch in prediction_dataloader:\n",
    "  # Add batch to GPU\n",
    "  batch = tuple(t.to(device) for t in batch)\n",
    "\n",
    "  # Unpack the inputs from our dataloader\n",
    "  b_input_ids, b_input_mask, b_labels = batch\n",
    "#   b_input_ids, b_input_mask = batch\n",
    "\n",
    "  # Telling the model not to compute or store gradients, saving memory and\n",
    "  # speeding up prediction\n",
    "  with torch.no_grad():\n",
    "      # Forward pass, calculate logit predictions\n",
    "      outputs = model(b_input_ids, token_type_ids=None,\n",
    "                      attention_mask=b_input_mask)\n",
    "\n",
    "  logits = outputs[0]\n",
    "\n",
    "  # Move logits and labels to CPU\n",
    "  logits = logits.detach().cpu().numpy()\n",
    "  label_ids = b_labels.to('cpu').numpy()\n",
    "\n",
    "  # Store predictions and true labels\n",
    "  test_predictions.append(logits)\n",
    "  test_true_labels.append(label_ids)\n",
    "\n",
    "print('DONE.')"
   ]
  },
  {
   "cell_type": "code",
   "execution_count": 35,
   "metadata": {
    "colab": {
     "base_uri": "https://localhost:8080/"
    },
    "id": "Gu8THGURbetO",
    "outputId": "0cb4bfd1-f337-433e-b622-1525115cd1f8"
   },
   "outputs": [
    {
     "name": "stdout",
     "output_type": "stream",
     "text": [
      "<class 'list'>\n",
      "[[-2.74164987e+00  1.57724333e+00 -1.57071602e+00  3.92332911e+00\n",
      "  -2.67871499e-01 -1.16114569e+00 -1.38530660e+00  1.14133036e+00\n",
      "   1.13728118e+00 -2.48502111e+00]\n",
      " [-2.92080903e+00  8.56572926e-01 -2.17277956e+00  3.82672453e+00\n",
      "  -5.08802772e-01 -1.10868204e+00 -1.25868475e+00  1.79216564e-01\n",
      "   2.28075457e+00 -2.48903275e+00]\n",
      " [-2.42123556e+00  1.81446481e+00 -1.38837862e+00  2.66447210e+00\n",
      "   3.99884015e-01 -8.31951201e-01 -1.51131821e+00  2.07956433e+00\n",
      "   5.61516821e-01 -2.33170390e+00]\n",
      " [-1.28884697e+00 -6.42288864e-01 -1.98162162e+00  5.09870172e-01\n",
      "   5.68398297e-01  4.03651625e-01  7.50208914e-01  2.04166293e-01\n",
      "   1.07280409e+00 -1.52903199e+00]\n",
      " [-2.20932341e+00  1.08355820e+00 -1.48230922e+00  4.58213520e+00\n",
      "  -5.30474365e-01 -1.02391005e+00 -1.18022144e+00  5.39148748e-01\n",
      "   6.78027987e-01 -2.08822560e+00]\n",
      " [-2.45485091e+00  1.42856193e+00 -1.94114602e+00  2.56080866e+00\n",
      "   7.88249910e-01 -1.01600245e-01 -5.28879941e-01  9.42443907e-01\n",
      "   1.94425151e-01 -2.35954547e+00]\n",
      " [-2.87338662e+00  7.42607117e-01 -2.13964915e+00  2.92564774e+00\n",
      "  -2.75738329e-01 -1.11657715e+00 -1.53557265e+00  6.24863446e-01\n",
      "   2.73601604e+00 -2.62208533e+00]\n",
      " [-2.78031921e+00  1.00043142e+00 -2.40794134e+00  1.51824093e+00\n",
      "   3.93866599e-01 -4.29011166e-01 -1.37441719e+00  7.93333590e-01\n",
      "   2.68490767e+00 -2.80266547e+00]\n",
      " [-2.99187851e+00  1.40752423e+00 -2.32769966e+00  2.86355782e+00\n",
      "   1.29694175e-02 -5.83309889e-01 -1.47052240e+00  5.25481939e-01\n",
      "   1.64889205e+00 -2.71792841e+00]\n",
      " [-2.68495750e+00  5.87849557e-01 -2.47253966e+00  2.26408982e+00\n",
      "   4.80926007e-01  9.28274244e-02 -2.87210852e-01  2.82609439e-03\n",
      "   9.08357143e-01 -2.05101728e+00]\n",
      " [-2.14971328e+00 -6.03461802e-01 -2.03237367e+00  2.03860593e+00\n",
      "  -8.24494362e-01 -8.29104304e-01 -9.53624189e-01 -1.10842481e-01\n",
      "   3.03053021e+00 -1.59105444e+00]\n",
      " [-2.96844578e+00  1.73449779e+00 -2.21359205e+00  2.09000063e+00\n",
      "   4.95720416e-01 -3.75717759e-01 -1.43453062e+00  1.08448672e+00\n",
      "   1.54910839e+00 -2.84830666e+00]\n",
      " [-1.93982804e+00  1.36077094e+00 -1.13745773e+00  3.82473612e+00\n",
      "  -9.94045585e-02 -1.00862122e+00 -1.35796249e+00  1.24077630e+00\n",
      "   1.36915982e-01 -1.90058672e+00]\n",
      " [-1.44295061e+00 -4.99887392e-02 -1.93434715e+00  1.01633415e-01\n",
      "   9.21652019e-01  5.77988029e-01  1.18156739e-01  6.45541131e-01\n",
      "   1.10707963e+00 -1.74462533e+00]\n",
      " [-1.35716546e+00 -5.40212020e-02 -1.26301432e+00  4.38359022e+00\n",
      "  -7.80856669e-01 -7.59197116e-01 -7.13145673e-01 -1.73300847e-01\n",
      "   2.55567878e-01 -1.10486770e+00]\n",
      " [-2.50014734e+00  1.07708502e+00 -2.41225100e+00  8.80454361e-01\n",
      "   1.25125241e+00  7.76788414e-01 -5.75733960e-01  6.78780973e-01\n",
      "   1.07826209e+00 -2.54548049e+00]\n",
      " [-2.55516839e+00  1.31680679e+00 -1.70886850e+00  4.25028610e+00\n",
      "  -2.34715372e-01 -1.29442322e+00 -1.40330970e+00  9.82847512e-01\n",
      "   1.05890656e+00 -2.45988107e+00]\n",
      " [-2.57488084e+00  8.76893103e-01 -1.85281622e+00  4.15277290e+00\n",
      "  -5.93434811e-01 -1.24449635e+00 -1.41637719e+00  4.81159210e-01\n",
      "   2.01287508e+00 -2.42007136e+00]\n",
      " [-1.76766956e+00  1.77391028e+00 -5.49447775e-01  1.70014191e+00\n",
      "   6.16991580e-01 -6.00462854e-01 -1.19186258e+00  2.15977669e+00\n",
      "  -1.17135517e-01 -1.72781038e+00]\n",
      " [-2.70850039e+00  1.49165332e+00 -1.85974228e+00  3.41606855e+00\n",
      "   3.50324184e-01 -1.00299454e+00 -1.14260316e+00  1.38649583e+00\n",
      "   8.28521729e-01 -2.53762913e+00]\n",
      " [-2.41714191e+00  5.26424110e-01 -2.28440952e+00  1.92935610e+00\n",
      "   4.49907571e-01 -3.80436420e-01 -5.75275242e-01  5.73892176e-01\n",
      "   1.44635272e+00 -2.12149096e+00]\n",
      " [-2.28842497e+00  1.48708487e+00 -1.20768833e+00  3.73161983e+00\n",
      "  -1.29980251e-01 -1.35828412e+00 -1.35961747e+00  1.42278552e+00\n",
      "   8.23587537e-01 -2.19520330e+00]\n",
      " [-6.31593645e-01 -1.58270627e-01 -1.22645128e+00 -5.39726913e-01\n",
      "   1.18426907e+00  1.22934794e+00  9.55623388e-01  3.29126149e-01\n",
      "  -4.83677030e-01 -1.09798861e+00]\n",
      " [-2.31432033e+00  1.63827217e+00 -1.70662057e+00  2.15345669e+00\n",
      "   1.19540787e+00 -2.13487804e-01 -8.87133241e-01  1.36664975e+00\n",
      "   6.55530095e-02 -2.36506009e+00]\n",
      " [-2.63830709e+00  1.44268000e+00 -2.26490068e+00  1.51224208e+00\n",
      "   9.92188036e-01  2.69025207e-01 -5.23366630e-01  1.04690433e+00\n",
      "   8.79872203e-01 -2.59559751e+00]\n",
      " [-2.75299811e+00  1.65183210e+00 -1.84232724e+00  3.29850602e+00\n",
      "   1.87960312e-01 -9.29673672e-01 -1.16753280e+00  1.12496328e+00\n",
      "   1.52753210e+00 -2.71380544e+00]\n",
      " [-3.02397108e+00  1.87849534e+00 -1.92915928e+00  3.15313578e+00\n",
      "   2.97812045e-01 -8.88333321e-01 -1.47665036e+00  1.34362388e+00\n",
      "   1.25307024e+00 -2.77805686e+00]\n",
      " [-2.21448755e+00  1.60663962e+00 -1.52350438e+00  1.20120275e+00\n",
      "   1.24142981e+00  3.30616444e-01 -8.79537761e-01  1.79156291e+00\n",
      "   1.20234869e-01 -2.37822914e+00]\n",
      " [-2.67813826e+00  1.41334224e+00 -2.12370276e+00  1.48347008e+00\n",
      "   7.61411250e-01 -1.92743525e-01 -1.04390287e+00  1.41583216e+00\n",
      "   1.21852040e+00 -2.57320046e+00]\n",
      " [-1.88959464e-01 -5.54252923e-01 -1.25992489e+00 -2.79121071e-01\n",
      "   6.06067538e-01  9.57091868e-01  9.20707881e-01 -2.37692669e-02\n",
      "   2.81522889e-03 -6.90357149e-01]\n",
      " [-2.67154408e+00  2.06735253e+00 -1.71876276e+00  1.85109913e+00\n",
      "   7.54321396e-01 -1.01801977e-01 -1.21575236e+00  1.58606875e+00\n",
      "   8.13219428e-01 -2.71819139e+00]\n",
      " [-2.04191542e+00 -3.27377260e-01 -2.42416859e+00  2.36792755e+00\n",
      "  -1.02925822e-01 -1.80651262e-01 -1.44560814e-01 -1.75009727e-01\n",
      "   1.47339106e+00 -1.55910444e+00]]\n"
     ]
    }
   ],
   "source": [
    "print(type(test_predictions))\n",
    "print(test_predictions[0])"
   ]
  },
  {
   "cell_type": "code",
   "execution_count": 36,
   "metadata": {
    "id": "TMDcSEhPYPO3"
   },
   "outputs": [],
   "source": [
    "# # Combine the results across all batches.\n",
    "test_flat_predictions = np.concatenate(test_predictions, axis=0)\n",
    "\n",
    "# # For each sample, pick the label (0 or 1) with the higher score.\n",
    "test_flat_predictions = np.argmax(test_flat_predictions, axis=1).flatten()\n",
    "\n",
    "# adding to the main datframe\n",
    "# valid['target'] = val_flat_predictions\n",
    "\n",
    "# # Combine the correct labels for each batch into a single list.\n",
    "flat_true_labels = np.concatenate(test_true_labels, axis=0)"
   ]
  },
  {
   "cell_type": "code",
   "execution_count": 37,
   "metadata": {
    "colab": {
     "base_uri": "https://localhost:8080/"
    },
    "id": "Z__aogP2ULce",
    "outputId": "c974ef1d-db3c-490b-a001-083007142fe9"
   },
   "outputs": [
    {
     "name": "stdout",
     "output_type": "stream",
     "text": [
      "3748\n",
      "3748\n"
     ]
    }
   ],
   "source": [
    "print(len(test_flat_predictions))\n",
    "print(len(flat_true_labels))"
   ]
  },
  {
   "cell_type": "code",
   "execution_count": 40,
   "metadata": {
    "colab": {
     "base_uri": "https://localhost:8080/",
     "height": 1000
    },
    "id": "zIFgkaVKS_0W",
    "outputId": "f31a9355-a847-4065-daf1-bfd070584a61"
   },
   "outputs": [
    {
     "name": "stdout",
     "output_type": "stream",
     "text": [
      "Confusion Matrix:\n",
      "[[   0    0    0    9    1    0    8    0    5    0]\n",
      " [   0   45    0  223   25    2    1   33   66    0]\n",
      " [   0    1    0   13    3    0    0    3    5    0]\n",
      " [   0   64    0 1381   56   10   12   51  234    0]\n",
      " [   0   22    0  101   46   10   10   19   56    0]\n",
      " [   0   11    0   54   25   10    2   13   35    0]\n",
      " [   0    1    0   28   16   10   19    3   18    0]\n",
      " [   0   31    0  165   23    6    3   72   58    0]\n",
      " [   0   35    0  225   24    3    7   20  300    0]\n",
      " [   0    0    0    7    2    0    4    0    3    0]]\n",
      "Classification Report:\n",
      "              precision    recall  f1-score   support\n",
      "\n",
      "           0       0.00      0.00      0.00        23\n",
      "           1       0.21      0.11      0.15       395\n",
      "           2       0.00      0.00      0.00        25\n",
      "           3       0.63      0.76      0.69      1808\n",
      "           4       0.21      0.17      0.19       264\n",
      "           5       0.20      0.07      0.10       150\n",
      "           6       0.29      0.20      0.24        95\n",
      "           7       0.34      0.20      0.25       358\n",
      "           8       0.38      0.49      0.43       614\n",
      "           9       0.00      0.00      0.00        16\n",
      "\n",
      "    accuracy                           0.50      3748\n",
      "   macro avg       0.23      0.20      0.20      3748\n",
      "weighted avg       0.45      0.50      0.47      3748\n",
      "\n"
     ]
    },
    {
     "name": "stderr",
     "output_type": "stream",
     "text": [
      "/usr/local/lib/python3.10/dist-packages/sklearn/metrics/_classification.py:1344: UndefinedMetricWarning: Precision and F-score are ill-defined and being set to 0.0 in labels with no predicted samples. Use `zero_division` parameter to control this behavior.\n",
      "  _warn_prf(average, modifier, msg_start, len(result))\n",
      "/usr/local/lib/python3.10/dist-packages/sklearn/metrics/_classification.py:1344: UndefinedMetricWarning: Precision and F-score are ill-defined and being set to 0.0 in labels with no predicted samples. Use `zero_division` parameter to control this behavior.\n",
      "  _warn_prf(average, modifier, msg_start, len(result))\n",
      "/usr/local/lib/python3.10/dist-packages/sklearn/metrics/_classification.py:1344: UndefinedMetricWarning: Precision and F-score are ill-defined and being set to 0.0 in labels with no predicted samples. Use `zero_division` parameter to control this behavior.\n",
      "  _warn_prf(average, modifier, msg_start, len(result))\n"
     ]
    },
    {
     "data": {
      "image/png": "[encoded data removed]",
      "text/plain": [
       "<Figure size 640x480 with 2 Axes>"
      ]
     },
     "metadata": {},
     "output_type": "display_data"
    }
   ],
   "source": [
    "from sklearn.metrics import classification_report, confusion_matrix\n",
    "import seaborn as sns\n",
    "import matplotlib.pyplot as plt\n",
    "\n",
    "# Calculate the confusion matrix\n",
    "confusion = confusion_matrix(flat_true_labels, test_flat_predictions, labels=[0, 1, 2, 3, 4, 5, 6, 7, 8, 9])  # Update the labels parameter with your label values\n",
    "\n",
    "# Print the confusion matrix\n",
    "print(\"Confusion Matrix:\")\n",
    "print(confusion)\n",
    "\n",
    "# Generate a classification report\n",
    "report = classification_report(flat_true_labels, test_flat_predictions)  # No need to specify target_names for multiple labels\n",
    "\n",
    "# Print the classification report\n",
    "print(\"Classification Report:\")\n",
    "print(report)\n",
    "\n",
    "# Create a heatmap of the confusion matrix\n",
    "ax = plt.subplot()\n",
    "sns.heatmap(confusion, annot=True, ax=ax, cmap='Blues', fmt=\"d\")\n",
    "ax.set_title('Confusion Matrix')\n",
    "ax.set_xlabel('Predicted Labels')\n",
    "ax.set_ylabel('True Labels')\n",
    "ax.xaxis.set_ticklabels([str(label) for label in range(confusion.shape[0])])\n",
    "ax.yaxis.set_ticklabels([str(label) for label in range(confusion.shape[0])])\n",
    "\n",
    "# Show the plot\n",
    "plt.show()\n"
   ]
  },
  {
   "cell_type": "code",
   "execution_count": 43,
   "metadata": {
    "colab": {
     "base_uri": "https://localhost:8080/"
    },
    "id": "wuZ8FXHvKxoy",
    "outputId": "3f49df99-a39d-449a-de9d-6c70d07c1a8b"
   },
   "outputs": [
    {
     "name": "stdout",
     "output_type": "stream",
     "text": [
      "Requirement already satisfied: imbalanced-learn in /usr/local/lib/python3.10/dist-packages (0.10.1)\n",
      "Collecting imbalanced-learn\n",
      "  Downloading imbalanced_learn-0.11.0-py3-none-any.whl (235 kB)\n",
      "\u001b[2K     \u001b[90m━━━━━━━━━━━━━━━━━━━━━━━━━━━━━━━━━━━━━━━━\u001b[0m \u001b[32m235.6/235.6 kB\u001b[0m \u001b[31m3.4 MB/s\u001b[0m eta \u001b[36m0:00:00\u001b[0m\n",
      "\u001b[?25hRequirement already satisfied: numpy>=1.17.3 in /usr/local/lib/python3.10/dist-packages (from imbalanced-learn) (1.23.5)\n",
      "Requirement already satisfied: scipy>=1.5.0 in /usr/local/lib/python3.10/dist-packages (from imbalanced-learn) (1.11.3)\n",
      "Requirement already satisfied: scikit-learn>=1.0.2 in /usr/local/lib/python3.10/dist-packages (from imbalanced-learn) (1.2.2)\n",
      "Requirement already satisfied: joblib>=1.1.1 in /usr/local/lib/python3.10/dist-packages (from imbalanced-learn) (1.3.2)\n",
      "Requirement already satisfied: threadpoolctl>=2.0.0 in /usr/local/lib/python3.10/dist-packages (from imbalanced-learn) (3.2.0)\n",
      "Installing collected packages: imbalanced-learn\n",
      "  Attempting uninstall: imbalanced-learn\n",
      "    Found existing installation: imbalanced-learn 0.10.1\n",
      "    Uninstalling imbalanced-learn-0.10.1:\n",
      "      Successfully uninstalled imbalanced-learn-0.10.1\n",
      "Successfully installed imbalanced-learn-0.11.0\n"
     ]
    }
   ],
   "source": [
    "pip install -U imbalanced-learn\n"
   ]
  },
  {
   "cell_type": "code",
   "execution_count": 61,
   "metadata": {
    "colab": {
     "base_uri": "https://localhost:8080/",
     "height": 975
    },
    "id": "F5Y_8uc9N-28",
    "outputId": "857f02af-43e4-40bc-d87a-37ce16ae495e"
   },
   "outputs": [
    {
     "name": "stdout",
     "output_type": "stream",
     "text": [
      "True Positives (TP): 721\n",
      "True Negatives (TN): -29\n",
      "False Positives (FP): 29\n",
      "False Negatives (FN): 29\n",
      "\n",
      "\n",
      "Model Accuracy After SMOTE Oversampling: 0.9493333333333334\n",
      "Confusion Matrix After Oversampling:\n",
      "[[578  23   0   0   0   0   0   0   0   0]\n",
      " [ 15 134   0   0   0   0   0   0   0   0]\n",
      " [  0   0   0   0   0   0   0   0   0   0]\n",
      " [  0   0   0   0   0   0   0   0   0   0]\n",
      " [  0   0   0   0   0   0   0   0   0   0]\n",
      " [  0   0   0   0   0   0   0   0   0   0]\n",
      " [  0   0   0   0   0   0   0   0   0   0]\n",
      " [  0   0   0   0   0   0   0   0   0   0]\n",
      " [  0   0   0   0   0   0   0   0   0   0]\n",
      " [  0   0   0   0   0   0   0   0   0   0]]\n",
      "Classification Report (After Oversampling):\n",
      "              precision    recall  f1-score   support\n",
      "\n",
      "           0       0.97      0.96      0.97       601\n",
      "           1       0.85      0.90      0.88       149\n",
      "\n",
      "    accuracy                           0.95       750\n",
      "   macro avg       0.91      0.93      0.92       750\n",
      "weighted avg       0.95      0.95      0.95       750\n",
      "\n",
      "Accuracy (After Oversampling): 0.9493333333333334\n"
     ]
    },
    {
     "data": {
      "image/png": "[encoded data removed]",
      "text/plain": [
       "<Figure size 640x480 with 2 Axes>"
      ]
     },
     "metadata": {},
     "output_type": "display_data"
    }
   ],
   "source": [
    "from sklearn.datasets import make_classification\n",
    "from sklearn.model_selection import train_test_split\n",
    "from sklearn.ensemble import RandomForestClassifier\n",
    "from sklearn.metrics import accuracy_score, classification_report, confusion_matrix\n",
    "from imblearn.over_sampling import SMOTE\n",
    "import matplotlib.pyplot as plt\n",
    "import seaborn as sns\n",
    "\n",
    "# Sample dataset (you may replace this with your actual dataset)\n",
    "X, y = make_classification(n_samples=test_flat_predictions, n_features=flat_true_labels, random_state=42)\n",
    "\n",
    "# Split the data into training and testing sets\n",
    "X_train, X_test, y_train, y_test = train_test_split(X, y, test_size=0.15, random_state=42)\n",
    "\n",
    "# Train and evaluate the initial model\n",
    "model = RandomForestClassifier(random_state=42)\n",
    "model.fit(X_train, y_train)\n",
    "y_pred = model.predict(X_test)\n",
    "initial_accuracy = accuracy_score(y_test, y_pred)\n",
    "\n",
    "# print(\"Initial Model Accuracy:\", initial_accuracy)\n",
    "\n",
    "# Calculate the confusion matrix for the initial model\n",
    "confusion = confusion_matrix(y_test, y_pred, labels=[0, 1,2,3,4,5,6,7,8,9])  # Update the labels with your label values\n",
    "\n",
    "# Calculate TP, TN, FP, FN\n",
    "TP = confusion.diagonal().sum()\n",
    "FP = confusion.sum(axis=0).sum() - TP\n",
    "FN = confusion.sum(axis=1).sum() - TP\n",
    "TN = confusion.sum().sum() - (TP + FP + FN)\n",
    "\n",
    "# Print TP, TN, FP, FN\n",
    "print(\"True Positives (TP):\", TP)\n",
    "print(\"True Negatives (TN):\", TN)\n",
    "print(\"False Positives (FP):\", FP)\n",
    "print(\"False Negatives (FN):\", FN)\n",
    "\n",
    "# Calculate Recall, Precision, and F1-score for the initial model\n",
    "recall = TP / (TP + FN)\n",
    "precision = TP / (TP + FP)\n",
    "f1_score = 2 * (precision * recall) / (precision + recall)\n",
    "\n",
    "# Print Recall, Precision, and F1-score for the initial model\n",
    "# print(\"Initial Model Recall:\", recall)\n",
    "# print(\"Initial Model Precision:\", precision)\n",
    "# print(\"Initial Model F1 Score:\", f1_score)\n",
    "\n",
    "# Apply SMOTE oversampling to the training data\n",
    "smote = SMOTE(random_state=42)\n",
    "X_train_smote, y_train_smote = smote.fit_resample(X_train, y_train)\n",
    "\n",
    "# Train and evaluate the model after SMOTE oversampling\n",
    "model_smote = RandomForestClassifier(random_state=42)\n",
    "model_smote.fit(X_train_smote, y_train_smote)\n",
    "y_pred_smote = model_smote.predict(X_test)\n",
    "accuracy_after_oversampling = accuracy_score(y_test, y_pred_smote)\n",
    "\n",
    "print()\n",
    "print()\n",
    "print(\"Model Accuracy After SMOTE Oversampling:\", accuracy_after_oversampling)\n",
    "\n",
    "# Calculate the confusion matrix for the model after oversampling\n",
    "confusion_resampled = confusion_matrix(y_test, y_pred_smote, labels=[0, 1, 2, 3, 4, 5, 6, 7, 8, 9])  # Update the labels with your label values\n",
    "\n",
    "# Print the confusion matrix for the model after oversampling\n",
    "print(\"Confusion Matrix After Oversampling:\")\n",
    "print(confusion_resampled)\n",
    "\n",
    "# Generate a classification report for the model after oversampling\n",
    "report_resampled = classification_report(y_test, y_pred_smote)\n",
    "\n",
    "# Print the classification report for the model after oversampling\n",
    "print(\"Classification Report (After Oversampling):\")\n",
    "print(report_resampled)\n",
    "\n",
    "# Create a heatmap of the confusion matrix for the model after oversampling\n",
    "ax = plt.subplot()\n",
    "sns.heatmap(confusion_resampled, annot=True, ax=ax, cmap='Blues', fmt=\"d\")\n",
    "ax.set_title('Confusion Matrix (After Oversampling)')\n",
    "ax.set_xlabel('Predicted Labels')\n",
    "ax.set_ylabel('True Labels')\n",
    "ax.xaxis.set_ticklabels([str(label) for label in [0, 1, 2, 3, 4, 5, 6, 7, 8, 9]])\n",
    "ax.yaxis.set_ticklabels([str(label) for label in [0, 1, 2, 3, 4, 5, 6, 7, 8, 9]])\n",
    "\n",
    "# Calculate the accuracy for the model after oversampling\n",
    "accuracy_resampled = accuracy_score(y_test, y_pred_smote)\n",
    "\n",
    "# Print the accuracy for the model after oversampling\n",
    "print(\"Accuracy (After Oversampling):\", accuracy_resampled)\n",
    "\n",
    "# Show the plot\n",
    "plt.show()\n"
   ]
  }
 ],
 "metadata": {
  "accelerator": "GPU",
  "colab": {
   "gpuType": "T4",
   "provenance": []
  },
  "kernelspec": {
   "display_name": "Python 3 (ipykernel)",
   "language": "python",
   "name": "python3"
  },
  "language_info": {
   "codemirror_mode": {
    "name": "ipython",
    "version": 3
   },
   "file_extension": ".py",
   "mimetype": "text/x-python",
   "name": "python",
   "nbconvert_exporter": "python",
   "pygments_lexer": "ipython3",
   "version": "3.9.12"
  },
  "widgets": {
   "application/vnd.jupyter.widget-state+json": {
    "059fbc0e66124a2699fa1eea1ad025d8": {
     "model_module": "@jupyter-widgets/controls",
     "model_module_version": "1.5.0",
     "model_name": "DescriptionStyleModel",
     "state": {
      "_model_module": "@jupyter-widgets/controls",
      "_model_module_version": "1.5.0",
      "_model_name": "DescriptionStyleModel",
      "_view_count": null,
      "_view_module": "@jupyter-widgets/base",
      "_view_module_version": "1.2.0",
      "_view_name": "StyleView",
      "description_width": ""
     }
    },
    "08fff201395646a180ae06331facc065": {
     "model_module": "@jupyter-widgets/controls",
     "model_module_version": "1.5.0",
     "model_name": "FloatProgressModel",
     "state": {
      "_dom_classes": [],
      "_model_module": "@jupyter-widgets/controls",
      "_model_module_version": "1.5.0",
      "_model_name": "FloatProgressModel",
      "_view_count": null,
      "_view_module": "@jupyter-widgets/controls",
      "_view_module_version": "1.5.0",
      "_view_name": "ProgressView",
      "bar_style": "success",
      "description": "",
      "description_tooltip": null,
      "layout": "IPY_MODEL_618ff65b8153448597107e58a73d7945",
      "max": 466062,
      "min": 0,
      "orientation": "horizontal",
      "style": "IPY_MODEL_f753028b728649de9815b66ac8f4078b",
      "value": 466062
     }
    },
    "0cb909aecbdf4dd4b91f6054d9886222": {
     "model_module": "@jupyter-widgets/controls",
     "model_module_version": "1.5.0",
     "model_name": "HBoxModel",
     "state": {
      "_dom_classes": [],
      "_model_module": "@jupyter-widgets/controls",
      "_model_module_version": "1.5.0",
      "_model_name": "HBoxModel",
      "_view_count": null,
      "_view_module": "@jupyter-widgets/controls",
      "_view_module_version": "1.5.0",
      "_view_name": "HBoxView",
      "box_style": "",
      "children": [
       "IPY_MODEL_0fcb1be0f7774739bbb3b348432fb885",
       "IPY_MODEL_08fff201395646a180ae06331facc065",
       "IPY_MODEL_57e7ed084c88417eb30ff17feec4ed15"
      ],
      "layout": "IPY_MODEL_246b10c6d32947e58e791e57144b111e"
     }
    },
    "0d7ded59347442e297ceec1ca4b30d3f": {
     "model_module": "@jupyter-widgets/controls",
     "model_module_version": "1.5.0",
     "model_name": "DescriptionStyleModel",
     "state": {
      "_model_module": "@jupyter-widgets/controls",
      "_model_module_version": "1.5.0",
      "_model_name": "DescriptionStyleModel",
      "_view_count": null,
      "_view_module": "@jupyter-widgets/base",
      "_view_module_version": "1.2.0",
      "_view_name": "StyleView",
      "description_width": ""
     }
    },
    "0f9ee7df621a49ea83a353078f516262": {
     "model_module": "@jupyter-widgets/base",
     "model_module_version": "1.2.0",
     "model_name": "LayoutModel",
     "state": {
      "_model_module": "@jupyter-widgets/base",
      "_model_module_version": "1.2.0",
      "_model_name": "LayoutModel",
      "_view_count": null,
      "_view_module": "@jupyter-widgets/base",
      "_view_module_version": "1.2.0",
      "_view_name": "LayoutView",
      "align_content": null,
      "align_items": null,
      "align_self": null,
      "border": null,
      "bottom": null,
      "display": null,
      "flex": null,
      "flex_flow": null,
      "grid_area": null,
      "grid_auto_columns": null,
      "grid_auto_flow": null,
      "grid_auto_rows": null,
      "grid_column": null,
      "grid_gap": null,
      "grid_row": null,
      "grid_template_areas": null,
      "grid_template_columns": null,
      "grid_template_rows": null,
      "height": null,
      "justify_content": null,
      "justify_items": null,
      "left": null,
      "margin": null,
      "max_height": null,
      "max_width": null,
      "min_height": null,
      "min_width": null,
      "object_fit": null,
      "object_position": null,
      "order": null,
      "overflow": null,
      "overflow_x": null,
      "overflow_y": null,
      "padding": null,
      "right": null,
      "top": null,
      "visibility": null,
      "width": null
     }
    },
    "0fcb1be0f7774739bbb3b348432fb885": {
     "model_module": "@jupyter-widgets/controls",
     "model_module_version": "1.5.0",
     "model_name": "HTMLModel",
     "state": {
      "_dom_classes": [],
      "_model_module": "@jupyter-widgets/controls",
      "_model_module_version": "1.5.0",
      "_model_name": "HTMLModel",
      "_view_count": null,
      "_view_module": "@jupyter-widgets/controls",
      "_view_module_version": "1.5.0",
      "_view_name": "HTMLView",
      "description": "",
      "description_tooltip": null,
      "layout": "IPY_MODEL_d44632d5a24c4effb6b910b18ced42b0",
      "placeholder": "​",
      "style": "IPY_MODEL_39c8ec810d5641bdbac63d7d456e0844",
      "value": "Downloading (…)/main/tokenizer.json: 100%"
     }
    },
    "1b219a9869454d61a0bbdc96871214da": {
     "model_module": "@jupyter-widgets/controls",
     "model_module_version": "1.5.0",
     "model_name": "HBoxModel",
     "state": {
      "_dom_classes": [],
      "_model_module": "@jupyter-widgets/controls",
      "_model_module_version": "1.5.0",
      "_model_name": "HBoxModel",
      "_view_count": null,
      "_view_module": "@jupyter-widgets/controls",
      "_view_module_version": "1.5.0",
      "_view_name": "HBoxView",
      "box_style": "",
      "children": [
       "IPY_MODEL_240ff536cb464f8aaaa5bec44414ed77",
       "IPY_MODEL_b7a24b014bf346b0b15129d3096c102a",
       "IPY_MODEL_6deee9a529544a678d0cd5450864913e"
      ],
      "layout": "IPY_MODEL_22218ef83021403d84bfe32a5bf1a548"
     }
    },
    "22218ef83021403d84bfe32a5bf1a548": {
     "model_module": "@jupyter-widgets/base",
     "model_module_version": "1.2.0",
     "model_name": "LayoutModel",
     "state": {
      "_model_module": "@jupyter-widgets/base",
      "_model_module_version": "1.2.0",
      "_model_name": "LayoutModel",
      "_view_count": null,
      "_view_module": "@jupyter-widgets/base",
      "_view_module_version": "1.2.0",
      "_view_name": "LayoutView",
      "align_content": null,
      "align_items": null,
      "align_self": null,
      "border": null,
      "bottom": null,
      "display": null,
      "flex": null,
      "flex_flow": null,
      "grid_area": null,
      "grid_auto_columns": null,
      "grid_auto_flow": null,
      "grid_auto_rows": null,
      "grid_column": null,
      "grid_gap": null,
      "grid_row": null,
      "grid_template_areas": null,
      "grid_template_columns": null,
      "grid_template_rows": null,
      "height": null,
      "justify_content": null,
      "justify_items": null,
      "left": null,
      "margin": null,
      "max_height": null,
      "max_width": null,
      "min_height": null,
      "min_width": null,
      "object_fit": null,
      "object_position": null,
      "order": null,
      "overflow": null,
      "overflow_x": null,
      "overflow_y": null,
      "padding": null,
      "right": null,
      "top": null,
      "visibility": null,
      "width": null
     }
    },
    "240ff536cb464f8aaaa5bec44414ed77": {
     "model_module": "@jupyter-widgets/controls",
     "model_module_version": "1.5.0",
     "model_name": "HTMLModel",
     "state": {
      "_dom_classes": [],
      "_model_module": "@jupyter-widgets/controls",
      "_model_module_version": "1.5.0",
      "_model_name": "HTMLModel",
      "_view_count": null,
      "_view_module": "@jupyter-widgets/controls",
      "_view_module_version": "1.5.0",
      "_view_name": "HTMLView",
      "description": "",
      "description_tooltip": null,
      "layout": "IPY_MODEL_69a91c0177b748ff8d668eefee5c1275",
      "placeholder": "​",
      "style": "IPY_MODEL_53780c6d3deb4c92b7305eb91fd7c8e0",
      "value": "Downloading (…)solve/main/vocab.txt: 100%"
     }
    },
    "246b10c6d32947e58e791e57144b111e": {
     "model_module": "@jupyter-widgets/base",
     "model_module_version": "1.2.0",
     "model_name": "LayoutModel",
     "state": {
      "_model_module": "@jupyter-widgets/base",
      "_model_module_version": "1.2.0",
      "_model_name": "LayoutModel",
      "_view_count": null,
      "_view_module": "@jupyter-widgets/base",
      "_view_module_version": "1.2.0",
      "_view_name": "LayoutView",
      "align_content": null,
      "align_items": null,
      "align_self": null,
      "border": null,
      "bottom": null,
      "display": null,
      "flex": null,
      "flex_flow": null,
      "grid_area": null,
      "grid_auto_columns": null,
      "grid_auto_flow": null,
      "grid_auto_rows": null,
      "grid_column": null,
      "grid_gap": null,
      "grid_row": null,
      "grid_template_areas": null,
      "grid_template_columns": null,
      "grid_template_rows": null,
      "height": null,
      "justify_content": null,
      "justify_items": null,
      "left": null,
      "margin": null,
      "max_height": null,
      "max_width": null,
      "min_height": null,
      "min_width": null,
      "object_fit": null,
      "object_position": null,
      "order": null,
      "overflow": null,
      "overflow_x": null,
      "overflow_y": null,
      "padding": null,
      "right": null,
      "top": null,
      "visibility": null,
      "width": null
     }
    },
    "27c5d950a4f44c229479067ba38fce22": {
     "model_module": "@jupyter-widgets/base",
     "model_module_version": "1.2.0",
     "model_name": "LayoutModel",
     "state": {
      "_model_module": "@jupyter-widgets/base",
      "_model_module_version": "1.2.0",
      "_model_name": "LayoutModel",
      "_view_count": null,
      "_view_module": "@jupyter-widgets/base",
      "_view_module_version": "1.2.0",
      "_view_name": "LayoutView",
      "align_content": null,
      "align_items": null,
      "align_self": null,
      "border": null,
      "bottom": null,
      "display": null,
      "flex": null,
      "flex_flow": null,
      "grid_area": null,
      "grid_auto_columns": null,
      "grid_auto_flow": null,
      "grid_auto_rows": null,
      "grid_column": null,
      "grid_gap": null,
      "grid_row": null,
      "grid_template_areas": null,
      "grid_template_columns": null,
      "grid_template_rows": null,
      "height": null,
      "justify_content": null,
      "justify_items": null,
      "left": null,
      "margin": null,
      "max_height": null,
      "max_width": null,
      "min_height": null,
      "min_width": null,
      "object_fit": null,
      "object_position": null,
      "order": null,
      "overflow": null,
      "overflow_x": null,
      "overflow_y": null,
      "padding": null,
      "right": null,
      "top": null,
      "visibility": null,
      "width": null
     }
    },
    "2c40cbf5a24f459b80943c4e293e6fff": {
     "model_module": "@jupyter-widgets/controls",
     "model_module_version": "1.5.0",
     "model_name": "HBoxModel",
     "state": {
      "_dom_classes": [],
      "_model_module": "@jupyter-widgets/controls",
      "_model_module_version": "1.5.0",
      "_model_name": "HBoxModel",
      "_view_count": null,
      "_view_module": "@jupyter-widgets/controls",
      "_view_module_version": "1.5.0",
      "_view_name": "HBoxView",
      "box_style": "",
      "children": [
       "IPY_MODEL_941d00cebcd84d5faa1336dabac02e43",
       "IPY_MODEL_990ebc84064942558ad53fc8ff297850",
       "IPY_MODEL_35b68e8fcb8f4b6f8c04f32ee026e391"
      ],
      "layout": "IPY_MODEL_0f9ee7df621a49ea83a353078f516262"
     }
    },
    "35b68e8fcb8f4b6f8c04f32ee026e391": {
     "model_module": "@jupyter-widgets/controls",
     "model_module_version": "1.5.0",
     "model_name": "HTMLModel",
     "state": {
      "_dom_classes": [],
      "_model_module": "@jupyter-widgets/controls",
      "_model_module_version": "1.5.0",
      "_model_name": "HTMLModel",
      "_view_count": null,
      "_view_module": "@jupyter-widgets/controls",
      "_view_module_version": "1.5.0",
      "_view_name": "HTMLView",
      "description": "",
      "description_tooltip": null,
      "layout": "IPY_MODEL_b4b5be3c0bd54ca3891c508b004f0abb",
      "placeholder": "​",
      "style": "IPY_MODEL_b15a1cc4044b4bf495807c8bb0619efb",
      "value": " 570/570 [00:00&lt;00:00, 28.5kB/s]"
     }
    },
    "36fcdf95791842ecafbfdfecd112165a": {
     "model_module": "@jupyter-widgets/controls",
     "model_module_version": "1.5.0",
     "model_name": "HBoxModel",
     "state": {
      "_dom_classes": [],
      "_model_module": "@jupyter-widgets/controls",
      "_model_module_version": "1.5.0",
      "_model_name": "HBoxModel",
      "_view_count": null,
      "_view_module": "@jupyter-widgets/controls",
      "_view_module_version": "1.5.0",
      "_view_name": "HBoxView",
      "box_style": "",
      "children": [
       "IPY_MODEL_3a49d4c4dbac411abea623fbc0ad3f28",
       "IPY_MODEL_f0dace06589b4699a70a3e9b393c4986",
       "IPY_MODEL_e09beea1b94a4dd7bce67275ee3f6550"
      ],
      "layout": "IPY_MODEL_8b26300d94be482d82c31a13c154db05"
     }
    },
    "39c8ec810d5641bdbac63d7d456e0844": {
     "model_module": "@jupyter-widgets/controls",
     "model_module_version": "1.5.0",
     "model_name": "DescriptionStyleModel",
     "state": {
      "_model_module": "@jupyter-widgets/controls",
      "_model_module_version": "1.5.0",
      "_model_name": "DescriptionStyleModel",
      "_view_count": null,
      "_view_module": "@jupyter-widgets/base",
      "_view_module_version": "1.2.0",
      "_view_name": "StyleView",
      "description_width": ""
     }
    },
    "3a49d4c4dbac411abea623fbc0ad3f28": {
     "model_module": "@jupyter-widgets/controls",
     "model_module_version": "1.5.0",
     "model_name": "HTMLModel",
     "state": {
      "_dom_classes": [],
      "_model_module": "@jupyter-widgets/controls",
      "_model_module_version": "1.5.0",
      "_model_name": "HTMLModel",
      "_view_count": null,
      "_view_module": "@jupyter-widgets/controls",
      "_view_module_version": "1.5.0",
      "_view_name": "HTMLView",
      "description": "",
      "description_tooltip": null,
      "layout": "IPY_MODEL_b9a1d7cbca5d488e975b3279f75c3865",
      "placeholder": "​",
      "style": "IPY_MODEL_54406a86597542ac98563e2617fd9952",
      "value": "Downloading (…)okenizer_config.json: 100%"
     }
    },
    "4198cad16d50405ea52c0c9933d5cbc3": {
     "model_module": "@jupyter-widgets/base",
     "model_module_version": "1.2.0",
     "model_name": "LayoutModel",
     "state": {
      "_model_module": "@jupyter-widgets/base",
      "_model_module_version": "1.2.0",
      "_model_name": "LayoutModel",
      "_view_count": null,
      "_view_module": "@jupyter-widgets/base",
      "_view_module_version": "1.2.0",
      "_view_name": "LayoutView",
      "align_content": null,
      "align_items": null,
      "align_self": null,
      "border": null,
      "bottom": null,
      "display": null,
      "flex": null,
      "flex_flow": null,
      "grid_area": null,
      "grid_auto_columns": null,
      "grid_auto_flow": null,
      "grid_auto_rows": null,
      "grid_column": null,
      "grid_gap": null,
      "grid_row": null,
      "grid_template_areas": null,
      "grid_template_columns": null,
      "grid_template_rows": null,
      "height": null,
      "justify_content": null,
      "justify_items": null,
      "left": null,
      "margin": null,
      "max_height": null,
      "max_width": null,
      "min_height": null,
      "min_width": null,
      "object_fit": null,
      "object_position": null,
      "order": null,
      "overflow": null,
      "overflow_x": null,
      "overflow_y": null,
      "padding": null,
      "right": null,
      "top": null,
      "visibility": null,
      "width": null
     }
    },
    "4234c28a97aa49c39a19f9c29adc1598": {
     "model_module": "@jupyter-widgets/controls",
     "model_module_version": "1.5.0",
     "model_name": "HBoxModel",
     "state": {
      "_dom_classes": [],
      "_model_module": "@jupyter-widgets/controls",
      "_model_module_version": "1.5.0",
      "_model_name": "HBoxModel",
      "_view_count": null,
      "_view_module": "@jupyter-widgets/controls",
      "_view_module_version": "1.5.0",
      "_view_name": "HBoxView",
      "box_style": "",
      "children": [
       "IPY_MODEL_720cdd1de7f94a6aa26064574d3d673f",
       "IPY_MODEL_aa86c7263faf413c9cd9352255c44bd3",
       "IPY_MODEL_feb079dcaf704d8abb6b627a24466236"
      ],
      "layout": "IPY_MODEL_f2f86b9ddb894d088a546e0b5cfa2e20"
     }
    },
    "45815ba47cff44a38775e9aaa6c24738": {
     "model_module": "@jupyter-widgets/base",
     "model_module_version": "1.2.0",
     "model_name": "LayoutModel",
     "state": {
      "_model_module": "@jupyter-widgets/base",
      "_model_module_version": "1.2.0",
      "_model_name": "LayoutModel",
      "_view_count": null,
      "_view_module": "@jupyter-widgets/base",
      "_view_module_version": "1.2.0",
      "_view_name": "LayoutView",
      "align_content": null,
      "align_items": null,
      "align_self": null,
      "border": null,
      "bottom": null,
      "display": null,
      "flex": null,
      "flex_flow": null,
      "grid_area": null,
      "grid_auto_columns": null,
      "grid_auto_flow": null,
      "grid_auto_rows": null,
      "grid_column": null,
      "grid_gap": null,
      "grid_row": null,
      "grid_template_areas": null,
      "grid_template_columns": null,
      "grid_template_rows": null,
      "height": null,
      "justify_content": null,
      "justify_items": null,
      "left": null,
      "margin": null,
      "max_height": null,
      "max_width": null,
      "min_height": null,
      "min_width": null,
      "object_fit": null,
      "object_position": null,
      "order": null,
      "overflow": null,
      "overflow_x": null,
      "overflow_y": null,
      "padding": null,
      "right": null,
      "top": null,
      "visibility": null,
      "width": null
     }
    },
    "469c42f68f5c4b9f9d396ef60f402984": {
     "model_module": "@jupyter-widgets/controls",
     "model_module_version": "1.5.0",
     "model_name": "ProgressStyleModel",
     "state": {
      "_model_module": "@jupyter-widgets/controls",
      "_model_module_version": "1.5.0",
      "_model_name": "ProgressStyleModel",
      "_view_count": null,
      "_view_module": "@jupyter-widgets/base",
      "_view_module_version": "1.2.0",
      "_view_name": "StyleView",
      "bar_color": null,
      "description_width": ""
     }
    },
    "53780c6d3deb4c92b7305eb91fd7c8e0": {
     "model_module": "@jupyter-widgets/controls",
     "model_module_version": "1.5.0",
     "model_name": "DescriptionStyleModel",
     "state": {
      "_model_module": "@jupyter-widgets/controls",
      "_model_module_version": "1.5.0",
      "_model_name": "DescriptionStyleModel",
      "_view_count": null,
      "_view_module": "@jupyter-widgets/base",
      "_view_module_version": "1.2.0",
      "_view_name": "StyleView",
      "description_width": ""
     }
    },
    "54406a86597542ac98563e2617fd9952": {
     "model_module": "@jupyter-widgets/controls",
     "model_module_version": "1.5.0",
     "model_name": "DescriptionStyleModel",
     "state": {
      "_model_module": "@jupyter-widgets/controls",
      "_model_module_version": "1.5.0",
      "_model_name": "DescriptionStyleModel",
      "_view_count": null,
      "_view_module": "@jupyter-widgets/base",
      "_view_module_version": "1.2.0",
      "_view_name": "StyleView",
      "description_width": ""
     }
    },
    "57e7ed084c88417eb30ff17feec4ed15": {
     "model_module": "@jupyter-widgets/controls",
     "model_module_version": "1.5.0",
     "model_name": "HTMLModel",
     "state": {
      "_dom_classes": [],
      "_model_module": "@jupyter-widgets/controls",
      "_model_module_version": "1.5.0",
      "_model_name": "HTMLModel",
      "_view_count": null,
      "_view_module": "@jupyter-widgets/controls",
      "_view_module_version": "1.5.0",
      "_view_name": "HTMLView",
      "description": "",
      "description_tooltip": null,
      "layout": "IPY_MODEL_ef2ec25539774b388e8067d415760f98",
      "placeholder": "​",
      "style": "IPY_MODEL_059fbc0e66124a2699fa1eea1ad025d8",
      "value": " 466k/466k [00:00&lt;00:00, 5.33MB/s]"
     }
    },
    "5821927f550b4c14b170372daebf9ec2": {
     "model_module": "@jupyter-widgets/controls",
     "model_module_version": "1.5.0",
     "model_name": "DescriptionStyleModel",
     "state": {
      "_model_module": "@jupyter-widgets/controls",
      "_model_module_version": "1.5.0",
      "_model_name": "DescriptionStyleModel",
      "_view_count": null,
      "_view_module": "@jupyter-widgets/base",
      "_view_module_version": "1.2.0",
      "_view_name": "StyleView",
      "description_width": ""
     }
    },
    "5b4098d984194df9b05b743f0c4fe57e": {
     "model_module": "@jupyter-widgets/base",
     "model_module_version": "1.2.0",
     "model_name": "LayoutModel",
     "state": {
      "_model_module": "@jupyter-widgets/base",
      "_model_module_version": "1.2.0",
      "_model_name": "LayoutModel",
      "_view_count": null,
      "_view_module": "@jupyter-widgets/base",
      "_view_module_version": "1.2.0",
      "_view_name": "LayoutView",
      "align_content": null,
      "align_items": null,
      "align_self": null,
      "border": null,
      "bottom": null,
      "display": null,
      "flex": null,
      "flex_flow": null,
      "grid_area": null,
      "grid_auto_columns": null,
      "grid_auto_flow": null,
      "grid_auto_rows": null,
      "grid_column": null,
      "grid_gap": null,
      "grid_row": null,
      "grid_template_areas": null,
      "grid_template_columns": null,
      "grid_template_rows": null,
      "height": null,
      "justify_content": null,
      "justify_items": null,
      "left": null,
      "margin": null,
      "max_height": null,
      "max_width": null,
      "min_height": null,
      "min_width": null,
      "object_fit": null,
      "object_position": null,
      "order": null,
      "overflow": null,
      "overflow_x": null,
      "overflow_y": null,
      "padding": null,
      "right": null,
      "top": null,
      "visibility": null,
      "width": null
     }
    },
    "616390d8001e4aa1a33ed82ad818aa85": {
     "model_module": "@jupyter-widgets/base",
     "model_module_version": "1.2.0",
     "model_name": "LayoutModel",
     "state": {
      "_model_module": "@jupyter-widgets/base",
      "_model_module_version": "1.2.0",
      "_model_name": "LayoutModel",
      "_view_count": null,
      "_view_module": "@jupyter-widgets/base",
      "_view_module_version": "1.2.0",
      "_view_name": "LayoutView",
      "align_content": null,
      "align_items": null,
      "align_self": null,
      "border": null,
      "bottom": null,
      "display": null,
      "flex": null,
      "flex_flow": null,
      "grid_area": null,
      "grid_auto_columns": null,
      "grid_auto_flow": null,
      "grid_auto_rows": null,
      "grid_column": null,
      "grid_gap": null,
      "grid_row": null,
      "grid_template_areas": null,
      "grid_template_columns": null,
      "grid_template_rows": null,
      "height": null,
      "justify_content": null,
      "justify_items": null,
      "left": null,
      "margin": null,
      "max_height": null,
      "max_width": null,
      "min_height": null,
      "min_width": null,
      "object_fit": null,
      "object_position": null,
      "order": null,
      "overflow": null,
      "overflow_x": null,
      "overflow_y": null,
      "padding": null,
      "right": null,
      "top": null,
      "visibility": null,
      "width": null
     }
    },
    "618ff65b8153448597107e58a73d7945": {
     "model_module": "@jupyter-widgets/base",
     "model_module_version": "1.2.0",
     "model_name": "LayoutModel",
     "state": {
      "_model_module": "@jupyter-widgets/base",
      "_model_module_version": "1.2.0",
      "_model_name": "LayoutModel",
      "_view_count": null,
      "_view_module": "@jupyter-widgets/base",
      "_view_module_version": "1.2.0",
      "_view_name": "LayoutView",
      "align_content": null,
      "align_items": null,
      "align_self": null,
      "border": null,
      "bottom": null,
      "display": null,
      "flex": null,
      "flex_flow": null,
      "grid_area": null,
      "grid_auto_columns": null,
      "grid_auto_flow": null,
      "grid_auto_rows": null,
      "grid_column": null,
      "grid_gap": null,
      "grid_row": null,
      "grid_template_areas": null,
      "grid_template_columns": null,
      "grid_template_rows": null,
      "height": null,
      "justify_content": null,
      "justify_items": null,
      "left": null,
      "margin": null,
      "max_height": null,
      "max_width": null,
      "min_height": null,
      "min_width": null,
      "object_fit": null,
      "object_position": null,
      "order": null,
      "overflow": null,
      "overflow_x": null,
      "overflow_y": null,
      "padding": null,
      "right": null,
      "top": null,
      "visibility": null,
      "width": null
     }
    },
    "69a91c0177b748ff8d668eefee5c1275": {
     "model_module": "@jupyter-widgets/base",
     "model_module_version": "1.2.0",
     "model_name": "LayoutModel",
     "state": {
      "_model_module": "@jupyter-widgets/base",
      "_model_module_version": "1.2.0",
      "_model_name": "LayoutModel",
      "_view_count": null,
      "_view_module": "@jupyter-widgets/base",
      "_view_module_version": "1.2.0",
      "_view_name": "LayoutView",
      "align_content": null,
      "align_items": null,
      "align_self": null,
      "border": null,
      "bottom": null,
      "display": null,
      "flex": null,
      "flex_flow": null,
      "grid_area": null,
      "grid_auto_columns": null,
      "grid_auto_flow": null,
      "grid_auto_rows": null,
      "grid_column": null,
      "grid_gap": null,
      "grid_row": null,
      "grid_template_areas": null,
      "grid_template_columns": null,
      "grid_template_rows": null,
      "height": null,
      "justify_content": null,
      "justify_items": null,
      "left": null,
      "margin": null,
      "max_height": null,
      "max_width": null,
      "min_height": null,
      "min_width": null,
      "object_fit": null,
      "object_position": null,
      "order": null,
      "overflow": null,
      "overflow_x": null,
      "overflow_y": null,
      "padding": null,
      "right": null,
      "top": null,
      "visibility": null,
      "width": null
     }
    },
    "6d1232aa696048088a050e18b803d0dc": {
     "model_module": "@jupyter-widgets/base",
     "model_module_version": "1.2.0",
     "model_name": "LayoutModel",
     "state": {
      "_model_module": "@jupyter-widgets/base",
      "_model_module_version": "1.2.0",
      "_model_name": "LayoutModel",
      "_view_count": null,
      "_view_module": "@jupyter-widgets/base",
      "_view_module_version": "1.2.0",
      "_view_name": "LayoutView",
      "align_content": null,
      "align_items": null,
      "align_self": null,
      "border": null,
      "bottom": null,
      "display": null,
      "flex": null,
      "flex_flow": null,
      "grid_area": null,
      "grid_auto_columns": null,
      "grid_auto_flow": null,
      "grid_auto_rows": null,
      "grid_column": null,
      "grid_gap": null,
      "grid_row": null,
      "grid_template_areas": null,
      "grid_template_columns": null,
      "grid_template_rows": null,
      "height": null,
      "justify_content": null,
      "justify_items": null,
      "left": null,
      "margin": null,
      "max_height": null,
      "max_width": null,
      "min_height": null,
      "min_width": null,
      "object_fit": null,
      "object_position": null,
      "order": null,
      "overflow": null,
      "overflow_x": null,
      "overflow_y": null,
      "padding": null,
      "right": null,
      "top": null,
      "visibility": null,
      "width": null
     }
    },
    "6deee9a529544a678d0cd5450864913e": {
     "model_module": "@jupyter-widgets/controls",
     "model_module_version": "1.5.0",
     "model_name": "HTMLModel",
     "state": {
      "_dom_classes": [],
      "_model_module": "@jupyter-widgets/controls",
      "_model_module_version": "1.5.0",
      "_model_name": "HTMLModel",
      "_view_count": null,
      "_view_module": "@jupyter-widgets/controls",
      "_view_module_version": "1.5.0",
      "_view_name": "HTMLView",
      "description": "",
      "description_tooltip": null,
      "layout": "IPY_MODEL_45815ba47cff44a38775e9aaa6c24738",
      "placeholder": "​",
      "style": "IPY_MODEL_a6e5f4f155ac487c88355a0c8f89e234",
      "value": " 232k/232k [00:00&lt;00:00, 3.14MB/s]"
     }
    },
    "720cdd1de7f94a6aa26064574d3d673f": {
     "model_module": "@jupyter-widgets/controls",
     "model_module_version": "1.5.0",
     "model_name": "HTMLModel",
     "state": {
      "_dom_classes": [],
      "_model_module": "@jupyter-widgets/controls",
      "_model_module_version": "1.5.0",
      "_model_name": "HTMLModel",
      "_view_count": null,
      "_view_module": "@jupyter-widgets/controls",
      "_view_module_version": "1.5.0",
      "_view_name": "HTMLView",
      "description": "",
      "description_tooltip": null,
      "layout": "IPY_MODEL_4198cad16d50405ea52c0c9933d5cbc3",
      "placeholder": "​",
      "style": "IPY_MODEL_0d7ded59347442e297ceec1ca4b30d3f",
      "value": "Downloading model.safetensors: 100%"
     }
    },
    "8b26300d94be482d82c31a13c154db05": {
     "model_module": "@jupyter-widgets/base",
     "model_module_version": "1.2.0",
     "model_name": "LayoutModel",
     "state": {
      "_model_module": "@jupyter-widgets/base",
      "_model_module_version": "1.2.0",
      "_model_name": "LayoutModel",
      "_view_count": null,
      "_view_module": "@jupyter-widgets/base",
      "_view_module_version": "1.2.0",
      "_view_name": "LayoutView",
      "align_content": null,
      "align_items": null,
      "align_self": null,
      "border": null,
      "bottom": null,
      "display": null,
      "flex": null,
      "flex_flow": null,
      "grid_area": null,
      "grid_auto_columns": null,
      "grid_auto_flow": null,
      "grid_auto_rows": null,
      "grid_column": null,
      "grid_gap": null,
      "grid_row": null,
      "grid_template_areas": null,
      "grid_template_columns": null,
      "grid_template_rows": null,
      "height": null,
      "justify_content": null,
      "justify_items": null,
      "left": null,
      "margin": null,
      "max_height": null,
      "max_width": null,
      "min_height": null,
      "min_width": null,
      "object_fit": null,
      "object_position": null,
      "order": null,
      "overflow": null,
      "overflow_x": null,
      "overflow_y": null,
      "padding": null,
      "right": null,
      "top": null,
      "visibility": null,
      "width": null
     }
    },
    "8d318d0ee86942aea0c2f9da7f619ea5": {
     "model_module": "@jupyter-widgets/controls",
     "model_module_version": "1.5.0",
     "model_name": "ProgressStyleModel",
     "state": {
      "_model_module": "@jupyter-widgets/controls",
      "_model_module_version": "1.5.0",
      "_model_name": "ProgressStyleModel",
      "_view_count": null,
      "_view_module": "@jupyter-widgets/base",
      "_view_module_version": "1.2.0",
      "_view_name": "StyleView",
      "bar_color": null,
      "description_width": ""
     }
    },
    "941d00cebcd84d5faa1336dabac02e43": {
     "model_module": "@jupyter-widgets/controls",
     "model_module_version": "1.5.0",
     "model_name": "HTMLModel",
     "state": {
      "_dom_classes": [],
      "_model_module": "@jupyter-widgets/controls",
      "_model_module_version": "1.5.0",
      "_model_name": "HTMLModel",
      "_view_count": null,
      "_view_module": "@jupyter-widgets/controls",
      "_view_module_version": "1.5.0",
      "_view_name": "HTMLView",
      "description": "",
      "description_tooltip": null,
      "layout": "IPY_MODEL_f3541c87e0584799b090dccf8b33e40e",
      "placeholder": "​",
      "style": "IPY_MODEL_5821927f550b4c14b170372daebf9ec2",
      "value": "Downloading (…)lve/main/config.json: 100%"
     }
    },
    "990ebc84064942558ad53fc8ff297850": {
     "model_module": "@jupyter-widgets/controls",
     "model_module_version": "1.5.0",
     "model_name": "FloatProgressModel",
     "state": {
      "_dom_classes": [],
      "_model_module": "@jupyter-widgets/controls",
      "_model_module_version": "1.5.0",
      "_model_name": "FloatProgressModel",
      "_view_count": null,
      "_view_module": "@jupyter-widgets/controls",
      "_view_module_version": "1.5.0",
      "_view_name": "ProgressView",
      "bar_style": "success",
      "description": "",
      "description_tooltip": null,
      "layout": "IPY_MODEL_616390d8001e4aa1a33ed82ad818aa85",
      "max": 570,
      "min": 0,
      "orientation": "horizontal",
      "style": "IPY_MODEL_9c427956ae1440b8b266db5c8ea88852",
      "value": 570
     }
    },
    "9c427956ae1440b8b266db5c8ea88852": {
     "model_module": "@jupyter-widgets/controls",
     "model_module_version": "1.5.0",
     "model_name": "ProgressStyleModel",
     "state": {
      "_model_module": "@jupyter-widgets/controls",
      "_model_module_version": "1.5.0",
      "_model_name": "ProgressStyleModel",
      "_view_count": null,
      "_view_module": "@jupyter-widgets/base",
      "_view_module_version": "1.2.0",
      "_view_name": "StyleView",
      "bar_color": null,
      "description_width": ""
     }
    },
    "a6e5f4f155ac487c88355a0c8f89e234": {
     "model_module": "@jupyter-widgets/controls",
     "model_module_version": "1.5.0",
     "model_name": "DescriptionStyleModel",
     "state": {
      "_model_module": "@jupyter-widgets/controls",
      "_model_module_version": "1.5.0",
      "_model_name": "DescriptionStyleModel",
      "_view_count": null,
      "_view_module": "@jupyter-widgets/base",
      "_view_module_version": "1.2.0",
      "_view_name": "StyleView",
      "description_width": ""
     }
    },
    "aa86c7263faf413c9cd9352255c44bd3": {
     "model_module": "@jupyter-widgets/controls",
     "model_module_version": "1.5.0",
     "model_name": "FloatProgressModel",
     "state": {
      "_dom_classes": [],
      "_model_module": "@jupyter-widgets/controls",
      "_model_module_version": "1.5.0",
      "_model_name": "FloatProgressModel",
      "_view_count": null,
      "_view_module": "@jupyter-widgets/controls",
      "_view_module_version": "1.5.0",
      "_view_name": "ProgressView",
      "bar_style": "success",
      "description": "",
      "description_tooltip": null,
      "layout": "IPY_MODEL_b6fe2cb1149542c0b004a00e581ae1cc",
      "max": 440449768,
      "min": 0,
      "orientation": "horizontal",
      "style": "IPY_MODEL_c716b23231084e53933a238a573c3c75",
      "value": 440449768
     }
    },
    "abeaaf07987b4fef98f8ea86f9e51908": {
     "model_module": "@jupyter-widgets/controls",
     "model_module_version": "1.5.0",
     "model_name": "DescriptionStyleModel",
     "state": {
      "_model_module": "@jupyter-widgets/controls",
      "_model_module_version": "1.5.0",
      "_model_name": "DescriptionStyleModel",
      "_view_count": null,
      "_view_module": "@jupyter-widgets/base",
      "_view_module_version": "1.2.0",
      "_view_name": "StyleView",
      "description_width": ""
     }
    },
    "b15a1cc4044b4bf495807c8bb0619efb": {
     "model_module": "@jupyter-widgets/controls",
     "model_module_version": "1.5.0",
     "model_name": "DescriptionStyleModel",
     "state": {
      "_model_module": "@jupyter-widgets/controls",
      "_model_module_version": "1.5.0",
      "_model_name": "DescriptionStyleModel",
      "_view_count": null,
      "_view_module": "@jupyter-widgets/base",
      "_view_module_version": "1.2.0",
      "_view_name": "StyleView",
      "description_width": ""
     }
    },
    "b4b5be3c0bd54ca3891c508b004f0abb": {
     "model_module": "@jupyter-widgets/base",
     "model_module_version": "1.2.0",
     "model_name": "LayoutModel",
     "state": {
      "_model_module": "@jupyter-widgets/base",
      "_model_module_version": "1.2.0",
      "_model_name": "LayoutModel",
      "_view_count": null,
      "_view_module": "@jupyter-widgets/base",
      "_view_module_version": "1.2.0",
      "_view_name": "LayoutView",
      "align_content": null,
      "align_items": null,
      "align_self": null,
      "border": null,
      "bottom": null,
      "display": null,
      "flex": null,
      "flex_flow": null,
      "grid_area": null,
      "grid_auto_columns": null,
      "grid_auto_flow": null,
      "grid_auto_rows": null,
      "grid_column": null,
      "grid_gap": null,
      "grid_row": null,
      "grid_template_areas": null,
      "grid_template_columns": null,
      "grid_template_rows": null,
      "height": null,
      "justify_content": null,
      "justify_items": null,
      "left": null,
      "margin": null,
      "max_height": null,
      "max_width": null,
      "min_height": null,
      "min_width": null,
      "object_fit": null,
      "object_position": null,
      "order": null,
      "overflow": null,
      "overflow_x": null,
      "overflow_y": null,
      "padding": null,
      "right": null,
      "top": null,
      "visibility": null,
      "width": null
     }
    },
    "b6fe2cb1149542c0b004a00e581ae1cc": {
     "model_module": "@jupyter-widgets/base",
     "model_module_version": "1.2.0",
     "model_name": "LayoutModel",
     "state": {
      "_model_module": "@jupyter-widgets/base",
      "_model_module_version": "1.2.0",
      "_model_name": "LayoutModel",
      "_view_count": null,
      "_view_module": "@jupyter-widgets/base",
      "_view_module_version": "1.2.0",
      "_view_name": "LayoutView",
      "align_content": null,
      "align_items": null,
      "align_self": null,
      "border": null,
      "bottom": null,
      "display": null,
      "flex": null,
      "flex_flow": null,
      "grid_area": null,
      "grid_auto_columns": null,
      "grid_auto_flow": null,
      "grid_auto_rows": null,
      "grid_column": null,
      "grid_gap": null,
      "grid_row": null,
      "grid_template_areas": null,
      "grid_template_columns": null,
      "grid_template_rows": null,
      "height": null,
      "justify_content": null,
      "justify_items": null,
      "left": null,
      "margin": null,
      "max_height": null,
      "max_width": null,
      "min_height": null,
      "min_width": null,
      "object_fit": null,
      "object_position": null,
      "order": null,
      "overflow": null,
      "overflow_x": null,
      "overflow_y": null,
      "padding": null,
      "right": null,
      "top": null,
      "visibility": null,
      "width": null
     }
    },
    "b7a24b014bf346b0b15129d3096c102a": {
     "model_module": "@jupyter-widgets/controls",
     "model_module_version": "1.5.0",
     "model_name": "FloatProgressModel",
     "state": {
      "_dom_classes": [],
      "_model_module": "@jupyter-widgets/controls",
      "_model_module_version": "1.5.0",
      "_model_name": "FloatProgressModel",
      "_view_count": null,
      "_view_module": "@jupyter-widgets/controls",
      "_view_module_version": "1.5.0",
      "_view_name": "ProgressView",
      "bar_style": "success",
      "description": "",
      "description_tooltip": null,
      "layout": "IPY_MODEL_5b4098d984194df9b05b743f0c4fe57e",
      "max": 231508,
      "min": 0,
      "orientation": "horizontal",
      "style": "IPY_MODEL_8d318d0ee86942aea0c2f9da7f619ea5",
      "value": 231508
     }
    },
    "b9a1d7cbca5d488e975b3279f75c3865": {
     "model_module": "@jupyter-widgets/base",
     "model_module_version": "1.2.0",
     "model_name": "LayoutModel",
     "state": {
      "_model_module": "@jupyter-widgets/base",
      "_model_module_version": "1.2.0",
      "_model_name": "LayoutModel",
      "_view_count": null,
      "_view_module": "@jupyter-widgets/base",
      "_view_module_version": "1.2.0",
      "_view_name": "LayoutView",
      "align_content": null,
      "align_items": null,
      "align_self": null,
      "border": null,
      "bottom": null,
      "display": null,
      "flex": null,
      "flex_flow": null,
      "grid_area": null,
      "grid_auto_columns": null,
      "grid_auto_flow": null,
      "grid_auto_rows": null,
      "grid_column": null,
      "grid_gap": null,
      "grid_row": null,
      "grid_template_areas": null,
      "grid_template_columns": null,
      "grid_template_rows": null,
      "height": null,
      "justify_content": null,
      "justify_items": null,
      "left": null,
      "margin": null,
      "max_height": null,
      "max_width": null,
      "min_height": null,
      "min_width": null,
      "object_fit": null,
      "object_position": null,
      "order": null,
      "overflow": null,
      "overflow_x": null,
      "overflow_y": null,
      "padding": null,
      "right": null,
      "top": null,
      "visibility": null,
      "width": null
     }
    },
    "c716b23231084e53933a238a573c3c75": {
     "model_module": "@jupyter-widgets/controls",
     "model_module_version": "1.5.0",
     "model_name": "ProgressStyleModel",
     "state": {
      "_model_module": "@jupyter-widgets/controls",
      "_model_module_version": "1.5.0",
      "_model_name": "ProgressStyleModel",
      "_view_count": null,
      "_view_module": "@jupyter-widgets/base",
      "_view_module_version": "1.2.0",
      "_view_name": "StyleView",
      "bar_color": null,
      "description_width": ""
     }
    },
    "d44632d5a24c4effb6b910b18ced42b0": {
     "model_module": "@jupyter-widgets/base",
     "model_module_version": "1.2.0",
     "model_name": "LayoutModel",
     "state": {
      "_model_module": "@jupyter-widgets/base",
      "_model_module_version": "1.2.0",
      "_model_name": "LayoutModel",
      "_view_count": null,
      "_view_module": "@jupyter-widgets/base",
      "_view_module_version": "1.2.0",
      "_view_name": "LayoutView",
      "align_content": null,
      "align_items": null,
      "align_self": null,
      "border": null,
      "bottom": null,
      "display": null,
      "flex": null,
      "flex_flow": null,
      "grid_area": null,
      "grid_auto_columns": null,
      "grid_auto_flow": null,
      "grid_auto_rows": null,
      "grid_column": null,
      "grid_gap": null,
      "grid_row": null,
      "grid_template_areas": null,
      "grid_template_columns": null,
      "grid_template_rows": null,
      "height": null,
      "justify_content": null,
      "justify_items": null,
      "left": null,
      "margin": null,
      "max_height": null,
      "max_width": null,
      "min_height": null,
      "min_width": null,
      "object_fit": null,
      "object_position": null,
      "order": null,
      "overflow": null,
      "overflow_x": null,
      "overflow_y": null,
      "padding": null,
      "right": null,
      "top": null,
      "visibility": null,
      "width": null
     }
    },
    "d91e265ef44d4e689338023562b2818d": {
     "model_module": "@jupyter-widgets/controls",
     "model_module_version": "1.5.0",
     "model_name": "DescriptionStyleModel",
     "state": {
      "_model_module": "@jupyter-widgets/controls",
      "_model_module_version": "1.5.0",
      "_model_name": "DescriptionStyleModel",
      "_view_count": null,
      "_view_module": "@jupyter-widgets/base",
      "_view_module_version": "1.2.0",
      "_view_name": "StyleView",
      "description_width": ""
     }
    },
    "e09beea1b94a4dd7bce67275ee3f6550": {
     "model_module": "@jupyter-widgets/controls",
     "model_module_version": "1.5.0",
     "model_name": "HTMLModel",
     "state": {
      "_dom_classes": [],
      "_model_module": "@jupyter-widgets/controls",
      "_model_module_version": "1.5.0",
      "_model_name": "HTMLModel",
      "_view_count": null,
      "_view_module": "@jupyter-widgets/controls",
      "_view_module_version": "1.5.0",
      "_view_name": "HTMLView",
      "description": "",
      "description_tooltip": null,
      "layout": "IPY_MODEL_6d1232aa696048088a050e18b803d0dc",
      "placeholder": "​",
      "style": "IPY_MODEL_d91e265ef44d4e689338023562b2818d",
      "value": " 28.0/28.0 [00:00&lt;00:00, 1.46kB/s]"
     }
    },
    "eeada8a56f4542ab9add742102f69caa": {
     "model_module": "@jupyter-widgets/base",
     "model_module_version": "1.2.0",
     "model_name": "LayoutModel",
     "state": {
      "_model_module": "@jupyter-widgets/base",
      "_model_module_version": "1.2.0",
      "_model_name": "LayoutModel",
      "_view_count": null,
      "_view_module": "@jupyter-widgets/base",
      "_view_module_version": "1.2.0",
      "_view_name": "LayoutView",
      "align_content": null,
      "align_items": null,
      "align_self": null,
      "border": null,
      "bottom": null,
      "display": null,
      "flex": null,
      "flex_flow": null,
      "grid_area": null,
      "grid_auto_columns": null,
      "grid_auto_flow": null,
      "grid_auto_rows": null,
      "grid_column": null,
      "grid_gap": null,
      "grid_row": null,
      "grid_template_areas": null,
      "grid_template_columns": null,
      "grid_template_rows": null,
      "height": null,
      "justify_content": null,
      "justify_items": null,
      "left": null,
      "margin": null,
      "max_height": null,
      "max_width": null,
      "min_height": null,
      "min_width": null,
      "object_fit": null,
      "object_position": null,
      "order": null,
      "overflow": null,
      "overflow_x": null,
      "overflow_y": null,
      "padding": null,
      "right": null,
      "top": null,
      "visibility": null,
      "width": null
     }
    },
    "ef2ec25539774b388e8067d415760f98": {
     "model_module": "@jupyter-widgets/base",
     "model_module_version": "1.2.0",
     "model_name": "LayoutModel",
     "state": {
      "_model_module": "@jupyter-widgets/base",
      "_model_module_version": "1.2.0",
      "_model_name": "LayoutModel",
      "_view_count": null,
      "_view_module": "@jupyter-widgets/base",
      "_view_module_version": "1.2.0",
      "_view_name": "LayoutView",
      "align_content": null,
      "align_items": null,
      "align_self": null,
      "border": null,
      "bottom": null,
      "display": null,
      "flex": null,
      "flex_flow": null,
      "grid_area": null,
      "grid_auto_columns": null,
      "grid_auto_flow": null,
      "grid_auto_rows": null,
      "grid_column": null,
      "grid_gap": null,
      "grid_row": null,
      "grid_template_areas": null,
      "grid_template_columns": null,
      "grid_template_rows": null,
      "height": null,
      "justify_content": null,
      "justify_items": null,
      "left": null,
      "margin": null,
      "max_height": null,
      "max_width": null,
      "min_height": null,
      "min_width": null,
      "object_fit": null,
      "object_position": null,
      "order": null,
      "overflow": null,
      "overflow_x": null,
      "overflow_y": null,
      "padding": null,
      "right": null,
      "top": null,
      "visibility": null,
      "width": null
     }
    },
    "f0dace06589b4699a70a3e9b393c4986": {
     "model_module": "@jupyter-widgets/controls",
     "model_module_version": "1.5.0",
     "model_name": "FloatProgressModel",
     "state": {
      "_dom_classes": [],
      "_model_module": "@jupyter-widgets/controls",
      "_model_module_version": "1.5.0",
      "_model_name": "FloatProgressModel",
      "_view_count": null,
      "_view_module": "@jupyter-widgets/controls",
      "_view_module_version": "1.5.0",
      "_view_name": "ProgressView",
      "bar_style": "success",
      "description": "",
      "description_tooltip": null,
      "layout": "IPY_MODEL_27c5d950a4f44c229479067ba38fce22",
      "max": 28,
      "min": 0,
      "orientation": "horizontal",
      "style": "IPY_MODEL_469c42f68f5c4b9f9d396ef60f402984",
      "value": 28
     }
    },
    "f2f86b9ddb894d088a546e0b5cfa2e20": {
     "model_module": "@jupyter-widgets/base",
     "model_module_version": "1.2.0",
     "model_name": "LayoutModel",
     "state": {
      "_model_module": "@jupyter-widgets/base",
      "_model_module_version": "1.2.0",
      "_model_name": "LayoutModel",
      "_view_count": null,
      "_view_module": "@jupyter-widgets/base",
      "_view_module_version": "1.2.0",
      "_view_name": "LayoutView",
      "align_content": null,
      "align_items": null,
      "align_self": null,
      "border": null,
      "bottom": null,
      "display": null,
      "flex": null,
      "flex_flow": null,
      "grid_area": null,
      "grid_auto_columns": null,
      "grid_auto_flow": null,
      "grid_auto_rows": null,
      "grid_column": null,
      "grid_gap": null,
      "grid_row": null,
      "grid_template_areas": null,
      "grid_template_columns": null,
      "grid_template_rows": null,
      "height": null,
      "justify_content": null,
      "justify_items": null,
      "left": null,
      "margin": null,
      "max_height": null,
      "max_width": null,
      "min_height": null,
      "min_width": null,
      "object_fit": null,
      "object_position": null,
      "order": null,
      "overflow": null,
      "overflow_x": null,
      "overflow_y": null,
      "padding": null,
      "right": null,
      "top": null,
      "visibility": null,
      "width": null
     }
    },
    "f3541c87e0584799b090dccf8b33e40e": {
     "model_module": "@jupyter-widgets/base",
     "model_module_version": "1.2.0",
     "model_name": "LayoutModel",
     "state": {
      "_model_module": "@jupyter-widgets/base",
      "_model_module_version": "1.2.0",
      "_model_name": "LayoutModel",
      "_view_count": null,
      "_view_module": "@jupyter-widgets/base",
      "_view_module_version": "1.2.0",
      "_view_name": "LayoutView",
      "align_content": null,
      "align_items": null,
      "align_self": null,
      "border": null,
      "bottom": null,
      "display": null,
      "flex": null,
      "flex_flow": null,
      "grid_area": null,
      "grid_auto_columns": null,
      "grid_auto_flow": null,
      "grid_auto_rows": null,
      "grid_column": null,
      "grid_gap": null,
      "grid_row": null,
      "grid_template_areas": null,
      "grid_template_columns": null,
      "grid_template_rows": null,
      "height": null,
      "justify_content": null,
      "justify_items": null,
      "left": null,
      "margin": null,
      "max_height": null,
      "max_width": null,
      "min_height": null,
      "min_width": null,
      "object_fit": null,
      "object_position": null,
      "order": null,
      "overflow": null,
      "overflow_x": null,
      "overflow_y": null,
      "padding": null,
      "right": null,
      "top": null,
      "visibility": null,
      "width": null
     }
    },
    "f753028b728649de9815b66ac8f4078b": {
     "model_module": "@jupyter-widgets/controls",
     "model_module_version": "1.5.0",
     "model_name": "ProgressStyleModel",
     "state": {
      "_model_module": "@jupyter-widgets/controls",
      "_model_module_version": "1.5.0",
      "_model_name": "ProgressStyleModel",
      "_view_count": null,
      "_view_module": "@jupyter-widgets/base",
      "_view_module_version": "1.2.0",
      "_view_name": "StyleView",
      "bar_color": null,
      "description_width": ""
     }
    },
    "feb079dcaf704d8abb6b627a24466236": {
     "model_module": "@jupyter-widgets/controls",
     "model_module_version": "1.5.0",
     "model_name": "HTMLModel",
     "state": {
      "_dom_classes": [],
      "_model_module": "@jupyter-widgets/controls",
      "_model_module_version": "1.5.0",
      "_model_name": "HTMLModel",
      "_view_count": null,
      "_view_module": "@jupyter-widgets/controls",
      "_view_module_version": "1.5.0",
      "_view_name": "HTMLView",
      "description": "",
      "description_tooltip": null,
      "layout": "IPY_MODEL_eeada8a56f4542ab9add742102f69caa",
      "placeholder": "​",
      "style": "IPY_MODEL_abeaaf07987b4fef98f8ea86f9e51908",
      "value": " 440M/440M [00:05&lt;00:00, 110MB/s]"
     }
    }
   }
  }
 },
 "nbformat": 4,
 "nbformat_minor": 1
}
