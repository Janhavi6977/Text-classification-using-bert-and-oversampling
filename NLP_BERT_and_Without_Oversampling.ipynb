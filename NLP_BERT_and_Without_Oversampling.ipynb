{
  "metadata": {
    "kernelspec": {
      "display_name": "Python 3",
      "name": "python3"
    },
    "language_info": {
      "pygments_lexer": "ipython3",
      "nbconvert_exporter": "python",
      "version": "3.6.4",
      "file_extension": ".py",
      "codemirror_mode": {
        "name": "ipython",
        "version": 3
      },
      "name": "python",
      "mimetype": "text/x-python"
    },
    "colab": {
      "provenance": [],
      "gpuType": "T4"
    },
    "accelerator": "GPU",
    "widgets": {
      "application/vnd.jupyter.widget-state+json": {
        "c01cbda73185452d859486d7c3b9edc3": {
          "model_module": "@jupyter-widgets/controls",
          "model_name": "HBoxModel",
          "model_module_version": "1.5.0",
          "state": {
            "_dom_classes": [],
            "_model_module": "@jupyter-widgets/controls",
            "_model_module_version": "1.5.0",
            "_model_name": "HBoxModel",
            "_view_count": null,
            "_view_module": "@jupyter-widgets/controls",
            "_view_module_version": "1.5.0",
            "_view_name": "HBoxView",
            "box_style": "",
            "children": [
              "IPY_MODEL_16a806c846274f31b7df83688d1a2302",
              "IPY_MODEL_90defaf57aa9477d9ff12ffc55f4632c",
              "IPY_MODEL_3cf61d86e0d34677b22873ab8de38d18"
            ],
            "layout": "IPY_MODEL_90df0f29178e4eac844a6553de7a6362"
          }
        },
        "16a806c846274f31b7df83688d1a2302": {
          "model_module": "@jupyter-widgets/controls",
          "model_name": "HTMLModel",
          "model_module_version": "1.5.0",
          "state": {
            "_dom_classes": [],
            "_model_module": "@jupyter-widgets/controls",
            "_model_module_version": "1.5.0",
            "_model_name": "HTMLModel",
            "_view_count": null,
            "_view_module": "@jupyter-widgets/controls",
            "_view_module_version": "1.5.0",
            "_view_name": "HTMLView",
            "description": "",
            "description_tooltip": null,
            "layout": "IPY_MODEL_eb15f72de7f1414d9af0d02c05db1982",
            "placeholder": "​",
            "style": "IPY_MODEL_75aede91d68d4478800a51c125ddeb4f",
            "value": "Downloading (…)okenizer_config.json: 100%"
          }
        },
        "90defaf57aa9477d9ff12ffc55f4632c": {
          "model_module": "@jupyter-widgets/controls",
          "model_name": "FloatProgressModel",
          "model_module_version": "1.5.0",
          "state": {
            "_dom_classes": [],
            "_model_module": "@jupyter-widgets/controls",
            "_model_module_version": "1.5.0",
            "_model_name": "FloatProgressModel",
            "_view_count": null,
            "_view_module": "@jupyter-widgets/controls",
            "_view_module_version": "1.5.0",
            "_view_name": "ProgressView",
            "bar_style": "success",
            "description": "",
            "description_tooltip": null,
            "layout": "IPY_MODEL_c9b13b0537a7440ca906b4bdf3c2d5e5",
            "max": 28,
            "min": 0,
            "orientation": "horizontal",
            "style": "IPY_MODEL_5c5d33d7efc341b7bfb0ce513ede3b5e",
            "value": 28
          }
        },
        "3cf61d86e0d34677b22873ab8de38d18": {
          "model_module": "@jupyter-widgets/controls",
          "model_name": "HTMLModel",
          "model_module_version": "1.5.0",
          "state": {
            "_dom_classes": [],
            "_model_module": "@jupyter-widgets/controls",
            "_model_module_version": "1.5.0",
            "_model_name": "HTMLModel",
            "_view_count": null,
            "_view_module": "@jupyter-widgets/controls",
            "_view_module_version": "1.5.0",
            "_view_name": "HTMLView",
            "description": "",
            "description_tooltip": null,
            "layout": "IPY_MODEL_364de78548b94e9eb5ad02ea88b8bdbf",
            "placeholder": "​",
            "style": "IPY_MODEL_d80d7ce208cd44a393fd6c739e1ac5c2",
            "value": " 28.0/28.0 [00:00&lt;00:00, 1.60kB/s]"
          }
        },
        "90df0f29178e4eac844a6553de7a6362": {
          "model_module": "@jupyter-widgets/base",
          "model_name": "LayoutModel",
          "model_module_version": "1.2.0",
          "state": {
            "_model_module": "@jupyter-widgets/base",
            "_model_module_version": "1.2.0",
            "_model_name": "LayoutModel",
            "_view_count": null,
            "_view_module": "@jupyter-widgets/base",
            "_view_module_version": "1.2.0",
            "_view_name": "LayoutView",
            "align_content": null,
            "align_items": null,
            "align_self": null,
            "border": null,
            "bottom": null,
            "display": null,
            "flex": null,
            "flex_flow": null,
            "grid_area": null,
            "grid_auto_columns": null,
            "grid_auto_flow": null,
            "grid_auto_rows": null,
            "grid_column": null,
            "grid_gap": null,
            "grid_row": null,
            "grid_template_areas": null,
            "grid_template_columns": null,
            "grid_template_rows": null,
            "height": null,
            "justify_content": null,
            "justify_items": null,
            "left": null,
            "margin": null,
            "max_height": null,
            "max_width": null,
            "min_height": null,
            "min_width": null,
            "object_fit": null,
            "object_position": null,
            "order": null,
            "overflow": null,
            "overflow_x": null,
            "overflow_y": null,
            "padding": null,
            "right": null,
            "top": null,
            "visibility": null,
            "width": null
          }
        },
        "eb15f72de7f1414d9af0d02c05db1982": {
          "model_module": "@jupyter-widgets/base",
          "model_name": "LayoutModel",
          "model_module_version": "1.2.0",
          "state": {
            "_model_module": "@jupyter-widgets/base",
            "_model_module_version": "1.2.0",
            "_model_name": "LayoutModel",
            "_view_count": null,
            "_view_module": "@jupyter-widgets/base",
            "_view_module_version": "1.2.0",
            "_view_name": "LayoutView",
            "align_content": null,
            "align_items": null,
            "align_self": null,
            "border": null,
            "bottom": null,
            "display": null,
            "flex": null,
            "flex_flow": null,
            "grid_area": null,
            "grid_auto_columns": null,
            "grid_auto_flow": null,
            "grid_auto_rows": null,
            "grid_column": null,
            "grid_gap": null,
            "grid_row": null,
            "grid_template_areas": null,
            "grid_template_columns": null,
            "grid_template_rows": null,
            "height": null,
            "justify_content": null,
            "justify_items": null,
            "left": null,
            "margin": null,
            "max_height": null,
            "max_width": null,
            "min_height": null,
            "min_width": null,
            "object_fit": null,
            "object_position": null,
            "order": null,
            "overflow": null,
            "overflow_x": null,
            "overflow_y": null,
            "padding": null,
            "right": null,
            "top": null,
            "visibility": null,
            "width": null
          }
        },
        "75aede91d68d4478800a51c125ddeb4f": {
          "model_module": "@jupyter-widgets/controls",
          "model_name": "DescriptionStyleModel",
          "model_module_version": "1.5.0",
          "state": {
            "_model_module": "@jupyter-widgets/controls",
            "_model_module_version": "1.5.0",
            "_model_name": "DescriptionStyleModel",
            "_view_count": null,
            "_view_module": "@jupyter-widgets/base",
            "_view_module_version": "1.2.0",
            "_view_name": "StyleView",
            "description_width": ""
          }
        },
        "c9b13b0537a7440ca906b4bdf3c2d5e5": {
          "model_module": "@jupyter-widgets/base",
          "model_name": "LayoutModel",
          "model_module_version": "1.2.0",
          "state": {
            "_model_module": "@jupyter-widgets/base",
            "_model_module_version": "1.2.0",
            "_model_name": "LayoutModel",
            "_view_count": null,
            "_view_module": "@jupyter-widgets/base",
            "_view_module_version": "1.2.0",
            "_view_name": "LayoutView",
            "align_content": null,
            "align_items": null,
            "align_self": null,
            "border": null,
            "bottom": null,
            "display": null,
            "flex": null,
            "flex_flow": null,
            "grid_area": null,
            "grid_auto_columns": null,
            "grid_auto_flow": null,
            "grid_auto_rows": null,
            "grid_column": null,
            "grid_gap": null,
            "grid_row": null,
            "grid_template_areas": null,
            "grid_template_columns": null,
            "grid_template_rows": null,
            "height": null,
            "justify_content": null,
            "justify_items": null,
            "left": null,
            "margin": null,
            "max_height": null,
            "max_width": null,
            "min_height": null,
            "min_width": null,
            "object_fit": null,
            "object_position": null,
            "order": null,
            "overflow": null,
            "overflow_x": null,
            "overflow_y": null,
            "padding": null,
            "right": null,
            "top": null,
            "visibility": null,
            "width": null
          }
        },
        "5c5d33d7efc341b7bfb0ce513ede3b5e": {
          "model_module": "@jupyter-widgets/controls",
          "model_name": "ProgressStyleModel",
          "model_module_version": "1.5.0",
          "state": {
            "_model_module": "@jupyter-widgets/controls",
            "_model_module_version": "1.5.0",
            "_model_name": "ProgressStyleModel",
            "_view_count": null,
            "_view_module": "@jupyter-widgets/base",
            "_view_module_version": "1.2.0",
            "_view_name": "StyleView",
            "bar_color": null,
            "description_width": ""
          }
        },
        "364de78548b94e9eb5ad02ea88b8bdbf": {
          "model_module": "@jupyter-widgets/base",
          "model_name": "LayoutModel",
          "model_module_version": "1.2.0",
          "state": {
            "_model_module": "@jupyter-widgets/base",
            "_model_module_version": "1.2.0",
            "_model_name": "LayoutModel",
            "_view_count": null,
            "_view_module": "@jupyter-widgets/base",
            "_view_module_version": "1.2.0",
            "_view_name": "LayoutView",
            "align_content": null,
            "align_items": null,
            "align_self": null,
            "border": null,
            "bottom": null,
            "display": null,
            "flex": null,
            "flex_flow": null,
            "grid_area": null,
            "grid_auto_columns": null,
            "grid_auto_flow": null,
            "grid_auto_rows": null,
            "grid_column": null,
            "grid_gap": null,
            "grid_row": null,
            "grid_template_areas": null,
            "grid_template_columns": null,
            "grid_template_rows": null,
            "height": null,
            "justify_content": null,
            "justify_items": null,
            "left": null,
            "margin": null,
            "max_height": null,
            "max_width": null,
            "min_height": null,
            "min_width": null,
            "object_fit": null,
            "object_position": null,
            "order": null,
            "overflow": null,
            "overflow_x": null,
            "overflow_y": null,
            "padding": null,
            "right": null,
            "top": null,
            "visibility": null,
            "width": null
          }
        },
        "d80d7ce208cd44a393fd6c739e1ac5c2": {
          "model_module": "@jupyter-widgets/controls",
          "model_name": "DescriptionStyleModel",
          "model_module_version": "1.5.0",
          "state": {
            "_model_module": "@jupyter-widgets/controls",
            "_model_module_version": "1.5.0",
            "_model_name": "DescriptionStyleModel",
            "_view_count": null,
            "_view_module": "@jupyter-widgets/base",
            "_view_module_version": "1.2.0",
            "_view_name": "StyleView",
            "description_width": ""
          }
        },
        "0825f627b2044555bd8f9bb27fb47314": {
          "model_module": "@jupyter-widgets/controls",
          "model_name": "HBoxModel",
          "model_module_version": "1.5.0",
          "state": {
            "_dom_classes": [],
            "_model_module": "@jupyter-widgets/controls",
            "_model_module_version": "1.5.0",
            "_model_name": "HBoxModel",
            "_view_count": null,
            "_view_module": "@jupyter-widgets/controls",
            "_view_module_version": "1.5.0",
            "_view_name": "HBoxView",
            "box_style": "",
            "children": [
              "IPY_MODEL_f5b4c4c21d6b4eed8fbf0d29df09cc18",
              "IPY_MODEL_09eb10e17f1a4ddba11a1b86cd3c8810",
              "IPY_MODEL_023c09f541ee46adb7398dcbc25d522b"
            ],
            "layout": "IPY_MODEL_2c0c449e0e224c80b7a72683599dd915"
          }
        },
        "f5b4c4c21d6b4eed8fbf0d29df09cc18": {
          "model_module": "@jupyter-widgets/controls",
          "model_name": "HTMLModel",
          "model_module_version": "1.5.0",
          "state": {
            "_dom_classes": [],
            "_model_module": "@jupyter-widgets/controls",
            "_model_module_version": "1.5.0",
            "_model_name": "HTMLModel",
            "_view_count": null,
            "_view_module": "@jupyter-widgets/controls",
            "_view_module_version": "1.5.0",
            "_view_name": "HTMLView",
            "description": "",
            "description_tooltip": null,
            "layout": "IPY_MODEL_15c6ec4510be4242adf7f0272e56d538",
            "placeholder": "​",
            "style": "IPY_MODEL_ce7f7f99e7894d79913f31d3e9112c27",
            "value": "Downloading (…)solve/main/vocab.txt: 100%"
          }
        },
        "09eb10e17f1a4ddba11a1b86cd3c8810": {
          "model_module": "@jupyter-widgets/controls",
          "model_name": "FloatProgressModel",
          "model_module_version": "1.5.0",
          "state": {
            "_dom_classes": [],
            "_model_module": "@jupyter-widgets/controls",
            "_model_module_version": "1.5.0",
            "_model_name": "FloatProgressModel",
            "_view_count": null,
            "_view_module": "@jupyter-widgets/controls",
            "_view_module_version": "1.5.0",
            "_view_name": "ProgressView",
            "bar_style": "success",
            "description": "",
            "description_tooltip": null,
            "layout": "IPY_MODEL_4e104c3bb82b4de9b2418ca11b91a667",
            "max": 231508,
            "min": 0,
            "orientation": "horizontal",
            "style": "IPY_MODEL_3b8ac46312c041dd87709a5d58e47beb",
            "value": 231508
          }
        },
        "023c09f541ee46adb7398dcbc25d522b": {
          "model_module": "@jupyter-widgets/controls",
          "model_name": "HTMLModel",
          "model_module_version": "1.5.0",
          "state": {
            "_dom_classes": [],
            "_model_module": "@jupyter-widgets/controls",
            "_model_module_version": "1.5.0",
            "_model_name": "HTMLModel",
            "_view_count": null,
            "_view_module": "@jupyter-widgets/controls",
            "_view_module_version": "1.5.0",
            "_view_name": "HTMLView",
            "description": "",
            "description_tooltip": null,
            "layout": "IPY_MODEL_5ac93143951c418799dd573ea5a0e9ce",
            "placeholder": "​",
            "style": "IPY_MODEL_66fe9b86b7dd4e8faf294c79ef85b729",
            "value": " 232k/232k [00:00&lt;00:00, 4.30MB/s]"
          }
        },
        "2c0c449e0e224c80b7a72683599dd915": {
          "model_module": "@jupyter-widgets/base",
          "model_name": "LayoutModel",
          "model_module_version": "1.2.0",
          "state": {
            "_model_module": "@jupyter-widgets/base",
            "_model_module_version": "1.2.0",
            "_model_name": "LayoutModel",
            "_view_count": null,
            "_view_module": "@jupyter-widgets/base",
            "_view_module_version": "1.2.0",
            "_view_name": "LayoutView",
            "align_content": null,
            "align_items": null,
            "align_self": null,
            "border": null,
            "bottom": null,
            "display": null,
            "flex": null,
            "flex_flow": null,
            "grid_area": null,
            "grid_auto_columns": null,
            "grid_auto_flow": null,
            "grid_auto_rows": null,
            "grid_column": null,
            "grid_gap": null,
            "grid_row": null,
            "grid_template_areas": null,
            "grid_template_columns": null,
            "grid_template_rows": null,
            "height": null,
            "justify_content": null,
            "justify_items": null,
            "left": null,
            "margin": null,
            "max_height": null,
            "max_width": null,
            "min_height": null,
            "min_width": null,
            "object_fit": null,
            "object_position": null,
            "order": null,
            "overflow": null,
            "overflow_x": null,
            "overflow_y": null,
            "padding": null,
            "right": null,
            "top": null,
            "visibility": null,
            "width": null
          }
        },
        "15c6ec4510be4242adf7f0272e56d538": {
          "model_module": "@jupyter-widgets/base",
          "model_name": "LayoutModel",
          "model_module_version": "1.2.0",
          "state": {
            "_model_module": "@jupyter-widgets/base",
            "_model_module_version": "1.2.0",
            "_model_name": "LayoutModel",
            "_view_count": null,
            "_view_module": "@jupyter-widgets/base",
            "_view_module_version": "1.2.0",
            "_view_name": "LayoutView",
            "align_content": null,
            "align_items": null,
            "align_self": null,
            "border": null,
            "bottom": null,
            "display": null,
            "flex": null,
            "flex_flow": null,
            "grid_area": null,
            "grid_auto_columns": null,
            "grid_auto_flow": null,
            "grid_auto_rows": null,
            "grid_column": null,
            "grid_gap": null,
            "grid_row": null,
            "grid_template_areas": null,
            "grid_template_columns": null,
            "grid_template_rows": null,
            "height": null,
            "justify_content": null,
            "justify_items": null,
            "left": null,
            "margin": null,
            "max_height": null,
            "max_width": null,
            "min_height": null,
            "min_width": null,
            "object_fit": null,
            "object_position": null,
            "order": null,
            "overflow": null,
            "overflow_x": null,
            "overflow_y": null,
            "padding": null,
            "right": null,
            "top": null,
            "visibility": null,
            "width": null
          }
        },
        "ce7f7f99e7894d79913f31d3e9112c27": {
          "model_module": "@jupyter-widgets/controls",
          "model_name": "DescriptionStyleModel",
          "model_module_version": "1.5.0",
          "state": {
            "_model_module": "@jupyter-widgets/controls",
            "_model_module_version": "1.5.0",
            "_model_name": "DescriptionStyleModel",
            "_view_count": null,
            "_view_module": "@jupyter-widgets/base",
            "_view_module_version": "1.2.0",
            "_view_name": "StyleView",
            "description_width": ""
          }
        },
        "4e104c3bb82b4de9b2418ca11b91a667": {
          "model_module": "@jupyter-widgets/base",
          "model_name": "LayoutModel",
          "model_module_version": "1.2.0",
          "state": {
            "_model_module": "@jupyter-widgets/base",
            "_model_module_version": "1.2.0",
            "_model_name": "LayoutModel",
            "_view_count": null,
            "_view_module": "@jupyter-widgets/base",
            "_view_module_version": "1.2.0",
            "_view_name": "LayoutView",
            "align_content": null,
            "align_items": null,
            "align_self": null,
            "border": null,
            "bottom": null,
            "display": null,
            "flex": null,
            "flex_flow": null,
            "grid_area": null,
            "grid_auto_columns": null,
            "grid_auto_flow": null,
            "grid_auto_rows": null,
            "grid_column": null,
            "grid_gap": null,
            "grid_row": null,
            "grid_template_areas": null,
            "grid_template_columns": null,
            "grid_template_rows": null,
            "height": null,
            "justify_content": null,
            "justify_items": null,
            "left": null,
            "margin": null,
            "max_height": null,
            "max_width": null,
            "min_height": null,
            "min_width": null,
            "object_fit": null,
            "object_position": null,
            "order": null,
            "overflow": null,
            "overflow_x": null,
            "overflow_y": null,
            "padding": null,
            "right": null,
            "top": null,
            "visibility": null,
            "width": null
          }
        },
        "3b8ac46312c041dd87709a5d58e47beb": {
          "model_module": "@jupyter-widgets/controls",
          "model_name": "ProgressStyleModel",
          "model_module_version": "1.5.0",
          "state": {
            "_model_module": "@jupyter-widgets/controls",
            "_model_module_version": "1.5.0",
            "_model_name": "ProgressStyleModel",
            "_view_count": null,
            "_view_module": "@jupyter-widgets/base",
            "_view_module_version": "1.2.0",
            "_view_name": "StyleView",
            "bar_color": null,
            "description_width": ""
          }
        },
        "5ac93143951c418799dd573ea5a0e9ce": {
          "model_module": "@jupyter-widgets/base",
          "model_name": "LayoutModel",
          "model_module_version": "1.2.0",
          "state": {
            "_model_module": "@jupyter-widgets/base",
            "_model_module_version": "1.2.0",
            "_model_name": "LayoutModel",
            "_view_count": null,
            "_view_module": "@jupyter-widgets/base",
            "_view_module_version": "1.2.0",
            "_view_name": "LayoutView",
            "align_content": null,
            "align_items": null,
            "align_self": null,
            "border": null,
            "bottom": null,
            "display": null,
            "flex": null,
            "flex_flow": null,
            "grid_area": null,
            "grid_auto_columns": null,
            "grid_auto_flow": null,
            "grid_auto_rows": null,
            "grid_column": null,
            "grid_gap": null,
            "grid_row": null,
            "grid_template_areas": null,
            "grid_template_columns": null,
            "grid_template_rows": null,
            "height": null,
            "justify_content": null,
            "justify_items": null,
            "left": null,
            "margin": null,
            "max_height": null,
            "max_width": null,
            "min_height": null,
            "min_width": null,
            "object_fit": null,
            "object_position": null,
            "order": null,
            "overflow": null,
            "overflow_x": null,
            "overflow_y": null,
            "padding": null,
            "right": null,
            "top": null,
            "visibility": null,
            "width": null
          }
        },
        "66fe9b86b7dd4e8faf294c79ef85b729": {
          "model_module": "@jupyter-widgets/controls",
          "model_name": "DescriptionStyleModel",
          "model_module_version": "1.5.0",
          "state": {
            "_model_module": "@jupyter-widgets/controls",
            "_model_module_version": "1.5.0",
            "_model_name": "DescriptionStyleModel",
            "_view_count": null,
            "_view_module": "@jupyter-widgets/base",
            "_view_module_version": "1.2.0",
            "_view_name": "StyleView",
            "description_width": ""
          }
        },
        "df20136771e440f6aac00bbda65e07ed": {
          "model_module": "@jupyter-widgets/controls",
          "model_name": "HBoxModel",
          "model_module_version": "1.5.0",
          "state": {
            "_dom_classes": [],
            "_model_module": "@jupyter-widgets/controls",
            "_model_module_version": "1.5.0",
            "_model_name": "HBoxModel",
            "_view_count": null,
            "_view_module": "@jupyter-widgets/controls",
            "_view_module_version": "1.5.0",
            "_view_name": "HBoxView",
            "box_style": "",
            "children": [
              "IPY_MODEL_fd8ec1c119d241d680cad367514dfa20",
              "IPY_MODEL_4e713cde715541de8bdf97546d088084",
              "IPY_MODEL_58c2eec04d7141d2bbd7390d5fbbc401"
            ],
            "layout": "IPY_MODEL_64529505fc7b40a39dfa7bdfa8659d04"
          }
        },
        "fd8ec1c119d241d680cad367514dfa20": {
          "model_module": "@jupyter-widgets/controls",
          "model_name": "HTMLModel",
          "model_module_version": "1.5.0",
          "state": {
            "_dom_classes": [],
            "_model_module": "@jupyter-widgets/controls",
            "_model_module_version": "1.5.0",
            "_model_name": "HTMLModel",
            "_view_count": null,
            "_view_module": "@jupyter-widgets/controls",
            "_view_module_version": "1.5.0",
            "_view_name": "HTMLView",
            "description": "",
            "description_tooltip": null,
            "layout": "IPY_MODEL_20e63beaa90c4981be76d8932d90045c",
            "placeholder": "​",
            "style": "IPY_MODEL_b7192bf316d14af1b5ede74ed5dd87c1",
            "value": "Downloading (…)/main/tokenizer.json: 100%"
          }
        },
        "4e713cde715541de8bdf97546d088084": {
          "model_module": "@jupyter-widgets/controls",
          "model_name": "FloatProgressModel",
          "model_module_version": "1.5.0",
          "state": {
            "_dom_classes": [],
            "_model_module": "@jupyter-widgets/controls",
            "_model_module_version": "1.5.0",
            "_model_name": "FloatProgressModel",
            "_view_count": null,
            "_view_module": "@jupyter-widgets/controls",
            "_view_module_version": "1.5.0",
            "_view_name": "ProgressView",
            "bar_style": "success",
            "description": "",
            "description_tooltip": null,
            "layout": "IPY_MODEL_d1ec1d3f5ba34820a7ab24d0076c9bbd",
            "max": 466062,
            "min": 0,
            "orientation": "horizontal",
            "style": "IPY_MODEL_d983d084fe1e4882a2ab4e892e905820",
            "value": 466062
          }
        },
        "58c2eec04d7141d2bbd7390d5fbbc401": {
          "model_module": "@jupyter-widgets/controls",
          "model_name": "HTMLModel",
          "model_module_version": "1.5.0",
          "state": {
            "_dom_classes": [],
            "_model_module": "@jupyter-widgets/controls",
            "_model_module_version": "1.5.0",
            "_model_name": "HTMLModel",
            "_view_count": null,
            "_view_module": "@jupyter-widgets/controls",
            "_view_module_version": "1.5.0",
            "_view_name": "HTMLView",
            "description": "",
            "description_tooltip": null,
            "layout": "IPY_MODEL_01b932967e444899bcf24bc5a0a5a434",
            "placeholder": "​",
            "style": "IPY_MODEL_a52d157ff232416c99590e5fbc56943a",
            "value": " 466k/466k [00:00&lt;00:00, 6.91MB/s]"
          }
        },
        "64529505fc7b40a39dfa7bdfa8659d04": {
          "model_module": "@jupyter-widgets/base",
          "model_name": "LayoutModel",
          "model_module_version": "1.2.0",
          "state": {
            "_model_module": "@jupyter-widgets/base",
            "_model_module_version": "1.2.0",
            "_model_name": "LayoutModel",
            "_view_count": null,
            "_view_module": "@jupyter-widgets/base",
            "_view_module_version": "1.2.0",
            "_view_name": "LayoutView",
            "align_content": null,
            "align_items": null,
            "align_self": null,
            "border": null,
            "bottom": null,
            "display": null,
            "flex": null,
            "flex_flow": null,
            "grid_area": null,
            "grid_auto_columns": null,
            "grid_auto_flow": null,
            "grid_auto_rows": null,
            "grid_column": null,
            "grid_gap": null,
            "grid_row": null,
            "grid_template_areas": null,
            "grid_template_columns": null,
            "grid_template_rows": null,
            "height": null,
            "justify_content": null,
            "justify_items": null,
            "left": null,
            "margin": null,
            "max_height": null,
            "max_width": null,
            "min_height": null,
            "min_width": null,
            "object_fit": null,
            "object_position": null,
            "order": null,
            "overflow": null,
            "overflow_x": null,
            "overflow_y": null,
            "padding": null,
            "right": null,
            "top": null,
            "visibility": null,
            "width": null
          }
        },
        "20e63beaa90c4981be76d8932d90045c": {
          "model_module": "@jupyter-widgets/base",
          "model_name": "LayoutModel",
          "model_module_version": "1.2.0",
          "state": {
            "_model_module": "@jupyter-widgets/base",
            "_model_module_version": "1.2.0",
            "_model_name": "LayoutModel",
            "_view_count": null,
            "_view_module": "@jupyter-widgets/base",
            "_view_module_version": "1.2.0",
            "_view_name": "LayoutView",
            "align_content": null,
            "align_items": null,
            "align_self": null,
            "border": null,
            "bottom": null,
            "display": null,
            "flex": null,
            "flex_flow": null,
            "grid_area": null,
            "grid_auto_columns": null,
            "grid_auto_flow": null,
            "grid_auto_rows": null,
            "grid_column": null,
            "grid_gap": null,
            "grid_row": null,
            "grid_template_areas": null,
            "grid_template_columns": null,
            "grid_template_rows": null,
            "height": null,
            "justify_content": null,
            "justify_items": null,
            "left": null,
            "margin": null,
            "max_height": null,
            "max_width": null,
            "min_height": null,
            "min_width": null,
            "object_fit": null,
            "object_position": null,
            "order": null,
            "overflow": null,
            "overflow_x": null,
            "overflow_y": null,
            "padding": null,
            "right": null,
            "top": null,
            "visibility": null,
            "width": null
          }
        },
        "b7192bf316d14af1b5ede74ed5dd87c1": {
          "model_module": "@jupyter-widgets/controls",
          "model_name": "DescriptionStyleModel",
          "model_module_version": "1.5.0",
          "state": {
            "_model_module": "@jupyter-widgets/controls",
            "_model_module_version": "1.5.0",
            "_model_name": "DescriptionStyleModel",
            "_view_count": null,
            "_view_module": "@jupyter-widgets/base",
            "_view_module_version": "1.2.0",
            "_view_name": "StyleView",
            "description_width": ""
          }
        },
        "d1ec1d3f5ba34820a7ab24d0076c9bbd": {
          "model_module": "@jupyter-widgets/base",
          "model_name": "LayoutModel",
          "model_module_version": "1.2.0",
          "state": {
            "_model_module": "@jupyter-widgets/base",
            "_model_module_version": "1.2.0",
            "_model_name": "LayoutModel",
            "_view_count": null,
            "_view_module": "@jupyter-widgets/base",
            "_view_module_version": "1.2.0",
            "_view_name": "LayoutView",
            "align_content": null,
            "align_items": null,
            "align_self": null,
            "border": null,
            "bottom": null,
            "display": null,
            "flex": null,
            "flex_flow": null,
            "grid_area": null,
            "grid_auto_columns": null,
            "grid_auto_flow": null,
            "grid_auto_rows": null,
            "grid_column": null,
            "grid_gap": null,
            "grid_row": null,
            "grid_template_areas": null,
            "grid_template_columns": null,
            "grid_template_rows": null,
            "height": null,
            "justify_content": null,
            "justify_items": null,
            "left": null,
            "margin": null,
            "max_height": null,
            "max_width": null,
            "min_height": null,
            "min_width": null,
            "object_fit": null,
            "object_position": null,
            "order": null,
            "overflow": null,
            "overflow_x": null,
            "overflow_y": null,
            "padding": null,
            "right": null,
            "top": null,
            "visibility": null,
            "width": null
          }
        },
        "d983d084fe1e4882a2ab4e892e905820": {
          "model_module": "@jupyter-widgets/controls",
          "model_name": "ProgressStyleModel",
          "model_module_version": "1.5.0",
          "state": {
            "_model_module": "@jupyter-widgets/controls",
            "_model_module_version": "1.5.0",
            "_model_name": "ProgressStyleModel",
            "_view_count": null,
            "_view_module": "@jupyter-widgets/base",
            "_view_module_version": "1.2.0",
            "_view_name": "StyleView",
            "bar_color": null,
            "description_width": ""
          }
        },
        "01b932967e444899bcf24bc5a0a5a434": {
          "model_module": "@jupyter-widgets/base",
          "model_name": "LayoutModel",
          "model_module_version": "1.2.0",
          "state": {
            "_model_module": "@jupyter-widgets/base",
            "_model_module_version": "1.2.0",
            "_model_name": "LayoutModel",
            "_view_count": null,
            "_view_module": "@jupyter-widgets/base",
            "_view_module_version": "1.2.0",
            "_view_name": "LayoutView",
            "align_content": null,
            "align_items": null,
            "align_self": null,
            "border": null,
            "bottom": null,
            "display": null,
            "flex": null,
            "flex_flow": null,
            "grid_area": null,
            "grid_auto_columns": null,
            "grid_auto_flow": null,
            "grid_auto_rows": null,
            "grid_column": null,
            "grid_gap": null,
            "grid_row": null,
            "grid_template_areas": null,
            "grid_template_columns": null,
            "grid_template_rows": null,
            "height": null,
            "justify_content": null,
            "justify_items": null,
            "left": null,
            "margin": null,
            "max_height": null,
            "max_width": null,
            "min_height": null,
            "min_width": null,
            "object_fit": null,
            "object_position": null,
            "order": null,
            "overflow": null,
            "overflow_x": null,
            "overflow_y": null,
            "padding": null,
            "right": null,
            "top": null,
            "visibility": null,
            "width": null
          }
        },
        "a52d157ff232416c99590e5fbc56943a": {
          "model_module": "@jupyter-widgets/controls",
          "model_name": "DescriptionStyleModel",
          "model_module_version": "1.5.0",
          "state": {
            "_model_module": "@jupyter-widgets/controls",
            "_model_module_version": "1.5.0",
            "_model_name": "DescriptionStyleModel",
            "_view_count": null,
            "_view_module": "@jupyter-widgets/base",
            "_view_module_version": "1.2.0",
            "_view_name": "StyleView",
            "description_width": ""
          }
        },
        "248b366f9225452d90487a384a010cdc": {
          "model_module": "@jupyter-widgets/controls",
          "model_name": "HBoxModel",
          "model_module_version": "1.5.0",
          "state": {
            "_dom_classes": [],
            "_model_module": "@jupyter-widgets/controls",
            "_model_module_version": "1.5.0",
            "_model_name": "HBoxModel",
            "_view_count": null,
            "_view_module": "@jupyter-widgets/controls",
            "_view_module_version": "1.5.0",
            "_view_name": "HBoxView",
            "box_style": "",
            "children": [
              "IPY_MODEL_ce2ef2dd77c0457da0829fde2c9783e6",
              "IPY_MODEL_7e4040c39b294399bc447256897b4142",
              "IPY_MODEL_5f6dffb20cbd4e90a52131f937c5fd6e"
            ],
            "layout": "IPY_MODEL_27bb7a2f916b41e78acad6750185253b"
          }
        },
        "ce2ef2dd77c0457da0829fde2c9783e6": {
          "model_module": "@jupyter-widgets/controls",
          "model_name": "HTMLModel",
          "model_module_version": "1.5.0",
          "state": {
            "_dom_classes": [],
            "_model_module": "@jupyter-widgets/controls",
            "_model_module_version": "1.5.0",
            "_model_name": "HTMLModel",
            "_view_count": null,
            "_view_module": "@jupyter-widgets/controls",
            "_view_module_version": "1.5.0",
            "_view_name": "HTMLView",
            "description": "",
            "description_tooltip": null,
            "layout": "IPY_MODEL_70497adc21e54a70af7cd9ea6b66954b",
            "placeholder": "​",
            "style": "IPY_MODEL_09031612880b44e8a9b018777114486b",
            "value": "Downloading (…)lve/main/config.json: 100%"
          }
        },
        "7e4040c39b294399bc447256897b4142": {
          "model_module": "@jupyter-widgets/controls",
          "model_name": "FloatProgressModel",
          "model_module_version": "1.5.0",
          "state": {
            "_dom_classes": [],
            "_model_module": "@jupyter-widgets/controls",
            "_model_module_version": "1.5.0",
            "_model_name": "FloatProgressModel",
            "_view_count": null,
            "_view_module": "@jupyter-widgets/controls",
            "_view_module_version": "1.5.0",
            "_view_name": "ProgressView",
            "bar_style": "success",
            "description": "",
            "description_tooltip": null,
            "layout": "IPY_MODEL_77375187f2b74787b3d187150272e861",
            "max": 570,
            "min": 0,
            "orientation": "horizontal",
            "style": "IPY_MODEL_18d22293f57c45b3aec29bf1fe98d1c5",
            "value": 570
          }
        },
        "5f6dffb20cbd4e90a52131f937c5fd6e": {
          "model_module": "@jupyter-widgets/controls",
          "model_name": "HTMLModel",
          "model_module_version": "1.5.0",
          "state": {
            "_dom_classes": [],
            "_model_module": "@jupyter-widgets/controls",
            "_model_module_version": "1.5.0",
            "_model_name": "HTMLModel",
            "_view_count": null,
            "_view_module": "@jupyter-widgets/controls",
            "_view_module_version": "1.5.0",
            "_view_name": "HTMLView",
            "description": "",
            "description_tooltip": null,
            "layout": "IPY_MODEL_fe3c912fb52c451a9e8651ea8cfa34b5",
            "placeholder": "​",
            "style": "IPY_MODEL_12debfb7778146529f3b25d541adae97",
            "value": " 570/570 [00:00&lt;00:00, 42.3kB/s]"
          }
        },
        "27bb7a2f916b41e78acad6750185253b": {
          "model_module": "@jupyter-widgets/base",
          "model_name": "LayoutModel",
          "model_module_version": "1.2.0",
          "state": {
            "_model_module": "@jupyter-widgets/base",
            "_model_module_version": "1.2.0",
            "_model_name": "LayoutModel",
            "_view_count": null,
            "_view_module": "@jupyter-widgets/base",
            "_view_module_version": "1.2.0",
            "_view_name": "LayoutView",
            "align_content": null,
            "align_items": null,
            "align_self": null,
            "border": null,
            "bottom": null,
            "display": null,
            "flex": null,
            "flex_flow": null,
            "grid_area": null,
            "grid_auto_columns": null,
            "grid_auto_flow": null,
            "grid_auto_rows": null,
            "grid_column": null,
            "grid_gap": null,
            "grid_row": null,
            "grid_template_areas": null,
            "grid_template_columns": null,
            "grid_template_rows": null,
            "height": null,
            "justify_content": null,
            "justify_items": null,
            "left": null,
            "margin": null,
            "max_height": null,
            "max_width": null,
            "min_height": null,
            "min_width": null,
            "object_fit": null,
            "object_position": null,
            "order": null,
            "overflow": null,
            "overflow_x": null,
            "overflow_y": null,
            "padding": null,
            "right": null,
            "top": null,
            "visibility": null,
            "width": null
          }
        },
        "70497adc21e54a70af7cd9ea6b66954b": {
          "model_module": "@jupyter-widgets/base",
          "model_name": "LayoutModel",
          "model_module_version": "1.2.0",
          "state": {
            "_model_module": "@jupyter-widgets/base",
            "_model_module_version": "1.2.0",
            "_model_name": "LayoutModel",
            "_view_count": null,
            "_view_module": "@jupyter-widgets/base",
            "_view_module_version": "1.2.0",
            "_view_name": "LayoutView",
            "align_content": null,
            "align_items": null,
            "align_self": null,
            "border": null,
            "bottom": null,
            "display": null,
            "flex": null,
            "flex_flow": null,
            "grid_area": null,
            "grid_auto_columns": null,
            "grid_auto_flow": null,
            "grid_auto_rows": null,
            "grid_column": null,
            "grid_gap": null,
            "grid_row": null,
            "grid_template_areas": null,
            "grid_template_columns": null,
            "grid_template_rows": null,
            "height": null,
            "justify_content": null,
            "justify_items": null,
            "left": null,
            "margin": null,
            "max_height": null,
            "max_width": null,
            "min_height": null,
            "min_width": null,
            "object_fit": null,
            "object_position": null,
            "order": null,
            "overflow": null,
            "overflow_x": null,
            "overflow_y": null,
            "padding": null,
            "right": null,
            "top": null,
            "visibility": null,
            "width": null
          }
        },
        "09031612880b44e8a9b018777114486b": {
          "model_module": "@jupyter-widgets/controls",
          "model_name": "DescriptionStyleModel",
          "model_module_version": "1.5.0",
          "state": {
            "_model_module": "@jupyter-widgets/controls",
            "_model_module_version": "1.5.0",
            "_model_name": "DescriptionStyleModel",
            "_view_count": null,
            "_view_module": "@jupyter-widgets/base",
            "_view_module_version": "1.2.0",
            "_view_name": "StyleView",
            "description_width": ""
          }
        },
        "77375187f2b74787b3d187150272e861": {
          "model_module": "@jupyter-widgets/base",
          "model_name": "LayoutModel",
          "model_module_version": "1.2.0",
          "state": {
            "_model_module": "@jupyter-widgets/base",
            "_model_module_version": "1.2.0",
            "_model_name": "LayoutModel",
            "_view_count": null,
            "_view_module": "@jupyter-widgets/base",
            "_view_module_version": "1.2.0",
            "_view_name": "LayoutView",
            "align_content": null,
            "align_items": null,
            "align_self": null,
            "border": null,
            "bottom": null,
            "display": null,
            "flex": null,
            "flex_flow": null,
            "grid_area": null,
            "grid_auto_columns": null,
            "grid_auto_flow": null,
            "grid_auto_rows": null,
            "grid_column": null,
            "grid_gap": null,
            "grid_row": null,
            "grid_template_areas": null,
            "grid_template_columns": null,
            "grid_template_rows": null,
            "height": null,
            "justify_content": null,
            "justify_items": null,
            "left": null,
            "margin": null,
            "max_height": null,
            "max_width": null,
            "min_height": null,
            "min_width": null,
            "object_fit": null,
            "object_position": null,
            "order": null,
            "overflow": null,
            "overflow_x": null,
            "overflow_y": null,
            "padding": null,
            "right": null,
            "top": null,
            "visibility": null,
            "width": null
          }
        },
        "18d22293f57c45b3aec29bf1fe98d1c5": {
          "model_module": "@jupyter-widgets/controls",
          "model_name": "ProgressStyleModel",
          "model_module_version": "1.5.0",
          "state": {
            "_model_module": "@jupyter-widgets/controls",
            "_model_module_version": "1.5.0",
            "_model_name": "ProgressStyleModel",
            "_view_count": null,
            "_view_module": "@jupyter-widgets/base",
            "_view_module_version": "1.2.0",
            "_view_name": "StyleView",
            "bar_color": null,
            "description_width": ""
          }
        },
        "fe3c912fb52c451a9e8651ea8cfa34b5": {
          "model_module": "@jupyter-widgets/base",
          "model_name": "LayoutModel",
          "model_module_version": "1.2.0",
          "state": {
            "_model_module": "@jupyter-widgets/base",
            "_model_module_version": "1.2.0",
            "_model_name": "LayoutModel",
            "_view_count": null,
            "_view_module": "@jupyter-widgets/base",
            "_view_module_version": "1.2.0",
            "_view_name": "LayoutView",
            "align_content": null,
            "align_items": null,
            "align_self": null,
            "border": null,
            "bottom": null,
            "display": null,
            "flex": null,
            "flex_flow": null,
            "grid_area": null,
            "grid_auto_columns": null,
            "grid_auto_flow": null,
            "grid_auto_rows": null,
            "grid_column": null,
            "grid_gap": null,
            "grid_row": null,
            "grid_template_areas": null,
            "grid_template_columns": null,
            "grid_template_rows": null,
            "height": null,
            "justify_content": null,
            "justify_items": null,
            "left": null,
            "margin": null,
            "max_height": null,
            "max_width": null,
            "min_height": null,
            "min_width": null,
            "object_fit": null,
            "object_position": null,
            "order": null,
            "overflow": null,
            "overflow_x": null,
            "overflow_y": null,
            "padding": null,
            "right": null,
            "top": null,
            "visibility": null,
            "width": null
          }
        },
        "12debfb7778146529f3b25d541adae97": {
          "model_module": "@jupyter-widgets/controls",
          "model_name": "DescriptionStyleModel",
          "model_module_version": "1.5.0",
          "state": {
            "_model_module": "@jupyter-widgets/controls",
            "_model_module_version": "1.5.0",
            "_model_name": "DescriptionStyleModel",
            "_view_count": null,
            "_view_module": "@jupyter-widgets/base",
            "_view_module_version": "1.2.0",
            "_view_name": "StyleView",
            "description_width": ""
          }
        }
      }
    }
  },
  "nbformat_minor": 0,
  "nbformat": 4,
  "cells": [
    {
      "cell_type": "markdown",
      "source": [
        "# References\n",
        "\n",
        "1. http://jalammar.github.io/illustrated-bert/\n",
        "1. https://mccormickml.com/2019/07/22/BERT-fine-tuning/"
      ],
      "metadata": {
        "id": "WOJxMlMGfMBI"
      }
    },
    {
      "cell_type": "code",
      "source": [
        "from google.colab import drive\n",
        "drive.mount('/content/drive')"
      ],
      "metadata": {
        "colab": {
          "base_uri": "https://localhost:8080/"
        },
        "id": "yJbepicXM-iY",
        "outputId": "2685e3bd-d21a-40b8-c14e-2de98c50ccdd"
      },
      "execution_count": 1,
      "outputs": [
        {
          "output_type": "stream",
          "name": "stdout",
          "text": [
            "Mounted at /content/drive\n"
          ]
        }
      ]
    },
    {
      "cell_type": "code",
      "source": [
        "!pip install transformers"
      ],
      "metadata": {
        "colab": {
          "base_uri": "https://localhost:8080/"
        },
        "id": "MWa9kLMGf5YJ",
        "outputId": "d60c33af-8caf-4cfb-d605-f84189fa1f73"
      },
      "execution_count": 2,
      "outputs": [
        {
          "output_type": "stream",
          "name": "stdout",
          "text": [
            "Collecting transformers\n",
            "  Downloading transformers-4.35.0-py3-none-any.whl (7.9 MB)\n",
            "\u001b[2K     \u001b[90m━━━━━━━━━━━━━━━━━━━━━━━━━━━━━━━━━━━━━━━━\u001b[0m \u001b[32m7.9/7.9 MB\u001b[0m \u001b[31m62.5 MB/s\u001b[0m eta \u001b[36m0:00:00\u001b[0m\n",
            "\u001b[?25hRequirement already satisfied: filelock in /usr/local/lib/python3.10/dist-packages (from transformers) (3.13.1)\n",
            "Collecting huggingface-hub<1.0,>=0.16.4 (from transformers)\n",
            "  Downloading huggingface_hub-0.18.0-py3-none-any.whl (301 kB)\n",
            "\u001b[2K     \u001b[90m━━━━━━━━━━━━━━━━━━━━━━━━━━━━━━━━━━━━━━━━\u001b[0m \u001b[32m302.0/302.0 kB\u001b[0m \u001b[31m37.5 MB/s\u001b[0m eta \u001b[36m0:00:00\u001b[0m\n",
            "\u001b[?25hRequirement already satisfied: numpy>=1.17 in /usr/local/lib/python3.10/dist-packages (from transformers) (1.23.5)\n",
            "Requirement already satisfied: packaging>=20.0 in /usr/local/lib/python3.10/dist-packages (from transformers) (23.2)\n",
            "Requirement already satisfied: pyyaml>=5.1 in /usr/local/lib/python3.10/dist-packages (from transformers) (6.0.1)\n",
            "Requirement already satisfied: regex!=2019.12.17 in /usr/local/lib/python3.10/dist-packages (from transformers) (2023.6.3)\n",
            "Requirement already satisfied: requests in /usr/local/lib/python3.10/dist-packages (from transformers) (2.31.0)\n",
            "Collecting tokenizers<0.15,>=0.14 (from transformers)\n",
            "  Downloading tokenizers-0.14.1-cp310-cp310-manylinux_2_17_x86_64.manylinux2014_x86_64.whl (3.8 MB)\n",
            "\u001b[2K     \u001b[90m━━━━━━━━━━━━━━━━━━━━━━━━━━━━━━━━━━━━━━━━\u001b[0m \u001b[32m3.8/3.8 MB\u001b[0m \u001b[31m88.2 MB/s\u001b[0m eta \u001b[36m0:00:00\u001b[0m\n",
            "\u001b[?25hCollecting safetensors>=0.3.1 (from transformers)\n",
            "  Downloading safetensors-0.4.0-cp310-cp310-manylinux_2_17_x86_64.manylinux2014_x86_64.whl (1.3 MB)\n",
            "\u001b[2K     \u001b[90m━━━━━━━━━━━━━━━━━━━━━━━━━━━━━━━━━━━━━━━━\u001b[0m \u001b[32m1.3/1.3 MB\u001b[0m \u001b[31m90.8 MB/s\u001b[0m eta \u001b[36m0:00:00\u001b[0m\n",
            "\u001b[?25hRequirement already satisfied: tqdm>=4.27 in /usr/local/lib/python3.10/dist-packages (from transformers) (4.66.1)\n",
            "Requirement already satisfied: fsspec>=2023.5.0 in /usr/local/lib/python3.10/dist-packages (from huggingface-hub<1.0,>=0.16.4->transformers) (2023.6.0)\n",
            "Requirement already satisfied: typing-extensions>=3.7.4.3 in /usr/local/lib/python3.10/dist-packages (from huggingface-hub<1.0,>=0.16.4->transformers) (4.5.0)\n",
            "Collecting huggingface-hub<1.0,>=0.16.4 (from transformers)\n",
            "  Downloading huggingface_hub-0.17.3-py3-none-any.whl (295 kB)\n",
            "\u001b[2K     \u001b[90m━━━━━━━━━━━━━━━━━━━━━━━━━━━━━━━━━━━━━━━━\u001b[0m \u001b[32m295.0/295.0 kB\u001b[0m \u001b[31m40.5 MB/s\u001b[0m eta \u001b[36m0:00:00\u001b[0m\n",
            "\u001b[?25hRequirement already satisfied: charset-normalizer<4,>=2 in /usr/local/lib/python3.10/dist-packages (from requests->transformers) (3.3.2)\n",
            "Requirement already satisfied: idna<4,>=2.5 in /usr/local/lib/python3.10/dist-packages (from requests->transformers) (3.4)\n",
            "Requirement already satisfied: urllib3<3,>=1.21.1 in /usr/local/lib/python3.10/dist-packages (from requests->transformers) (2.0.7)\n",
            "Requirement already satisfied: certifi>=2017.4.17 in /usr/local/lib/python3.10/dist-packages (from requests->transformers) (2023.7.22)\n",
            "Installing collected packages: safetensors, huggingface-hub, tokenizers, transformers\n",
            "Successfully installed huggingface-hub-0.17.3 safetensors-0.4.0 tokenizers-0.14.1 transformers-4.35.0\n"
          ]
        }
      ]
    },
    {
      "cell_type": "code",
      "source": [
        "import numpy as np\n",
        "import pandas as pd\n",
        "import time\n",
        "import datetime\n",
        "import gc\n",
        "import random\n",
        "from nltk.corpus import stopwords\n",
        "import re\n",
        "\n",
        "import torch\n",
        "import torch.nn as nn\n",
        "from torch.utils.data import TensorDataset, DataLoader, RandomSampler, SequentialSampler,random_split\n",
        "from sklearn.model_selection import train_test_split\n",
        "from sklearn.metrics import classification_report\n",
        "\n",
        "import transformers\n",
        "from transformers import BertForSequenceClassification, AdamW, BertConfig,BertTokenizer,get_linear_schedule_with_warmup\n"
      ],
      "metadata": {
        "execution": {
          "iopub.status.busy": "2023-01-13T11:55:43.966626Z",
          "iopub.execute_input": "2023-01-13T11:55:43.966918Z",
          "iopub.status.idle": "2023-01-13T11:55:51.48708Z",
          "shell.execute_reply.started": "2023-01-13T11:55:43.966849Z",
          "shell.execute_reply": "2023-01-13T11:55:51.486242Z"
        },
        "trusted": true,
        "id": "hi6yvhdnfMBM"
      },
      "execution_count": 3,
      "outputs": []
    },
    {
      "cell_type": "code",
      "source": [
        "# device = torch.device(\"cuda:0\" if torch.cuda.is_available() else \"cpu\")\n",
        "# device"
      ],
      "metadata": {
        "execution": {
          "iopub.status.busy": "2023-01-13T11:55:51.488628Z",
          "iopub.execute_input": "2023-01-13T11:55:51.4892Z",
          "iopub.status.idle": "2023-01-13T11:55:51.569338Z",
          "shell.execute_reply.started": "2023-01-13T11:55:51.489154Z",
          "shell.execute_reply": "2023-01-13T11:55:51.568213Z"
        },
        "trusted": true,
        "colab": {
          "base_uri": "https://localhost:8080/"
        },
        "id": "OiX9o2ulfMBN",
        "outputId": "40c30abf-4579-44ec-a7f4-5c6dc14d0e8d"
      },
      "execution_count": null,
      "outputs": [
        {
          "output_type": "execute_result",
          "data": {
            "text/plain": [
              "device(type='cuda', index=0)"
            ]
          },
          "metadata": {},
          "execution_count": 82
        }
      ]
    },
    {
      "cell_type": "code",
      "source": [
        "train_df = pd.read_excel(\"/content/drive/MyDrive/train_dataset.xlsx\")\n",
        "val_df = pd.read_excel(\"/content/drive/MyDrive/test_dataset.xlsx\")\n",
        "test_df = pd.read_excel(\"/content/drive/MyDrive/validation_dataset.xlsx\")\n",
        "print(train_df.head(5))\n",
        "print(test_df.head(5))"
      ],
      "metadata": {
        "execution": {
          "iopub.status.busy": "2023-01-13T11:55:51.573209Z",
          "iopub.execute_input": "2023-01-13T11:55:51.575021Z",
          "iopub.status.idle": "2023-01-13T11:55:51.643807Z",
          "shell.execute_reply.started": "2023-01-13T11:55:51.574983Z",
          "shell.execute_reply": "2023-01-13T11:55:51.64314Z"
        },
        "trusted": true,
        "colab": {
          "base_uri": "https://localhost:8080/"
        },
        "id": "oacu6ptmfMBN",
        "outputId": "8cdd3fbe-f25f-43e5-a36e-4576de5ee863"
      },
      "execution_count": 4,
      "outputs": [
        {
          "output_type": "stream",
          "name": "stdout",
          "text": [
            "     case_id case_outcome                                         case_title  \\\n",
            "0  Case14973     followed  Nicaro Holdings Pty Ltd v Martin Engineering C...   \n",
            "1   Case3391    discussed  Promaco Conventions Pty Ltd v Dedline Printing...   \n",
            "2  Case17126        cited  Tervonen v Minister for Justice and Customs (N...   \n",
            "3  Case23118        cited  H v Minister for Immigration and Multicultural...   \n",
            "4   Case3997      applied  Water Board v Moustakos [1988] HCA 12 ; (1994)...   \n",
            "\n",
            "                                           case_text  \n",
            "0  A patent specification should be given a purpo...  \n",
            "1  recently, Siopis J, in Promaco Conventions Pty...  \n",
            "2  The Applicant contends that there is no power ...  \n",
            "3  nevertheless remains a discretion to entertain...  \n",
            "4  principle was again applied by the High Court ...  \n",
            "     case_id   case_outcome  \\\n",
            "0  Case14201     considered   \n",
            "1  Case11521          cited   \n",
            "2   Case2660          cited   \n",
            "3   Case3893  distinguished   \n",
            "4  Case16154          cited   \n",
            "\n",
            "                                          case_title  \\\n",
            "0  Australian Broadcasting Corp v Lenah Game Meat...   \n",
            "1  Fieldhouse v Commissioner of Taxation (1989) 2...   \n",
            "2  Cody Opal (Australia) Pty Ltd v Dimasi (2004) ...   \n",
            "3                    Holder v Searle (1998) 44 IPR 1   \n",
            "4  Butcher v Lachlan Elder Realty Pty Ltd [2004] ...   \n",
            "\n",
            "                                           case_text  \n",
            "0  Although there may be no enforceable right to ...  \n",
            "1  The severity of prospective penalties or conse...  \n",
            "2  This section has been the subject of previous ...  \n",
            "3  The applicant referred in its submissions to t...  \n",
            "4  Section 52 of the Act provides that a corporat...  \n"
          ]
        }
      ]
    },
    {
      "cell_type": "code",
      "source": [
        "import nltk\n",
        "nltk.download('stopwords')\n",
        "\n",
        "sw = stopwords.words('english')\n",
        "\n",
        "def clean_text(text):\n",
        "\n",
        "    text = text.lower()\n",
        "\n",
        "    text = re.sub(r\"[^a-zA-Z?.!,¿]+\", \" \", text) # replacing everything with space except (a-z, A-Z, \".\", \"?\", \"!\", \",\")\n",
        "\n",
        "    text = re.sub(r\"http\\S+\", \"\",text) #Removing URLs\n",
        "    #text = re.sub(r\"http\", \"\",text)\n",
        "\n",
        "    html=re.compile(r'<.*?>')\n",
        "\n",
        "    text = html.sub(r'',text) #Removing html tags\n",
        "\n",
        "    punctuations = '@#!?+&*[]-%.:/();$=><|{}^' + \"'`\" + '_'\n",
        "    for p in punctuations:\n",
        "        text = text.replace(p,'') #Removing punctuations\n",
        "\n",
        "    text = [word.lower() for word in text.split() if word.lower() not in sw]\n",
        "\n",
        "    text = \" \".join(text) #removing stopwords\n",
        "\n",
        "    emoji_pattern = re.compile(\"[\"\n",
        "                           u\"\\U0001F600-\\U0001F64F\"  # emoticons\n",
        "                           u\"\\U0001F300-\\U0001F5FF\"  # symbols & pictographs\n",
        "                           u\"\\U0001F680-\\U0001F6FF\"  # transport & map symbols\n",
        "                           u\"\\U0001F1E0-\\U0001F1FF\"  # flags (iOS)\n",
        "                           u\"\\U00002702-\\U000027B0\"\n",
        "                           u\"\\U000024C2-\\U0001F251\"\n",
        "                           \"]+\", flags=re.UNICODE)\n",
        "    text = emoji_pattern.sub(r'', text) #Removing emojis\n",
        "\n",
        "    return text\n",
        "\n",
        "\n"
      ],
      "metadata": {
        "execution": {
          "iopub.status.busy": "2023-01-13T11:55:51.647658Z",
          "iopub.execute_input": "2023-01-13T11:55:51.649543Z",
          "iopub.status.idle": "2023-01-13T11:55:51.68407Z",
          "shell.execute_reply.started": "2023-01-13T11:55:51.649506Z",
          "shell.execute_reply": "2023-01-13T11:55:51.68303Z"
        },
        "trusted": true,
        "colab": {
          "base_uri": "https://localhost:8080/"
        },
        "id": "BWrftyDAfMBO",
        "outputId": "b1d698bd-8ea7-4481-ed8a-c5f93bbf6fec"
      },
      "execution_count": 5,
      "outputs": [
        {
          "output_type": "stream",
          "name": "stderr",
          "text": [
            "[nltk_data] Downloading package stopwords to /root/nltk_data...\n",
            "[nltk_data]   Unzipping corpora/stopwords.zip.\n"
          ]
        }
      ]
    },
    {
      "cell_type": "code",
      "source": [
        "# import re\n",
        "\n",
        "# def clean_text(text):\n",
        "#     if isinstance(text, str):\n",
        "#         # If the input is a string, perform cleaning\n",
        "#         text = re.sub(r'[^a-zA-Z0-9\\s]', '', text)\n",
        "#         text = re.sub(' +', ' ', text)\n",
        "#     return text"
      ],
      "metadata": {
        "id": "FJ5ZjSscU4nY"
      },
      "execution_count": null,
      "outputs": []
    },
    {
      "cell_type": "code",
      "source": [
        "train_df=train_df.astype(str)\n",
        "test_df=test_df.astype(str)\n",
        "val_df=val_df.astype(str)"
      ],
      "metadata": {
        "id": "16NueeSHx-nn"
      },
      "execution_count": 6,
      "outputs": []
    },
    {
      "cell_type": "code",
      "source": [
        "train_df['case_text'] = train_df['case_text'].apply(lambda x:clean_text(x))\n",
        "val_df['case_text'] = val_df['case_text'].apply(lambda x:clean_text(x))\n",
        "test_df['case_text'] = test_df['case_text'].apply(lambda x:clean_text(x))\n"
      ],
      "metadata": {
        "execution": {
          "iopub.status.busy": "2023-01-13T11:55:51.685381Z",
          "iopub.execute_input": "2023-01-13T11:55:51.685757Z",
          "iopub.status.idle": "2023-01-13T11:55:52.125695Z",
          "shell.execute_reply.started": "2023-01-13T11:55:51.685665Z",
          "shell.execute_reply": "2023-01-13T11:55:52.124875Z"
        },
        "trusted": true,
        "id": "oHOsbruufMBO"
      },
      "execution_count": 7,
      "outputs": []
    },
    {
      "cell_type": "code",
      "source": [
        "train_text = train_df.case_text.values\n",
        "train_outcome = train_df.case_outcome.values\n",
        "val_text = val_df.case_text.values\n",
        "val_outcome = val_df.case_outcome.values\n",
        "test_text = test_df.case_text.values\n",
        "test_outcome = test_df.case_outcome.values"
      ],
      "metadata": {
        "execution": {
          "iopub.status.busy": "2023-01-13T11:55:52.126814Z",
          "iopub.execute_input": "2023-01-13T11:55:52.127143Z",
          "iopub.status.idle": "2023-01-13T11:55:52.131805Z",
          "shell.execute_reply.started": "2023-01-13T11:55:52.127103Z",
          "shell.execute_reply": "2023-01-13T11:55:52.131009Z"
        },
        "trusted": true,
        "id": "D48G9mjzfMBP"
      },
      "execution_count": 8,
      "outputs": []
    },
    {
      "cell_type": "code",
      "source": [
        "category_counts = train_df['case_outcome'].value_counts()\n",
        "print(\"Train Dataset - Category Counts:\")\n",
        "print(category_counts)"
      ],
      "metadata": {
        "colab": {
          "base_uri": "https://localhost:8080/"
        },
        "id": "Vc6oSF4fPyC8",
        "outputId": "22a386fb-5dc1-4715-beb6-9e431a15c3b1"
      },
      "execution_count": 9,
      "outputs": [
        {
          "output_type": "stream",
          "name": "stdout",
          "text": [
            "Train Dataset - Category Counts:\n",
            "cited            8551\n",
            "referred to      3097\n",
            "applied          1683\n",
            "followed         1591\n",
            "considered       1190\n",
            "discussed         733\n",
            "distinguished     426\n",
            "related            81\n",
            "affirmed           70\n",
            "approved           67\n",
            "Name: case_outcome, dtype: int64\n"
          ]
        }
      ]
    },
    {
      "cell_type": "code",
      "source": [
        "distinct_outcomes = train_df['case_outcome'].unique()\n",
        "print(distinct_outcomes)"
      ],
      "metadata": {
        "colab": {
          "base_uri": "https://localhost:8080/"
        },
        "id": "O3K3gQuIQSZl",
        "outputId": "83863654-83f7-4a76-878c-d91bdf4b928a"
      },
      "execution_count": 10,
      "outputs": [
        {
          "output_type": "stream",
          "name": "stdout",
          "text": [
            "['followed' 'discussed' 'cited' 'applied' 'distinguished' 'referred to'\n",
            " 'considered' 'affirmed' 'related' 'approved']\n"
          ]
        }
      ]
    },
    {
      "cell_type": "code",
      "source": [
        "print(train_outcome[:20])"
      ],
      "metadata": {
        "colab": {
          "base_uri": "https://localhost:8080/"
        },
        "id": "G9EMzFmQtLRv",
        "outputId": "9b605cf2-3392-4c94-980c-47cdf364ba92"
      },
      "execution_count": 11,
      "outputs": [
        {
          "output_type": "stream",
          "name": "stdout",
          "text": [
            "['followed' 'discussed' 'cited' 'cited' 'applied' 'distinguished'\n",
            " 'referred to' 'considered' 'cited' 'cited' 'considered' 'distinguished'\n",
            " 'cited' 'considered' 'cited' 'cited' 'considered' 'cited' 'cited'\n",
            " 'referred to']\n"
          ]
        }
      ]
    },
    {
      "cell_type": "code",
      "source": [
        "#Import label encoder\n",
        "from sklearn import preprocessing\n",
        "label_encoder = preprocessing.LabelEncoder()\n",
        "\n",
        "# Encode labels in column 'species'.\n",
        "train_outcome=label_encoder.fit_transform(train_outcome)\n",
        "val_outcome=label_encoder.fit_transform(val_outcome)\n",
        "test_outcome= label_encoder.fit_transform(test_outcome)\n"
      ],
      "metadata": {
        "id": "2rDrlYC4n8AZ"
      },
      "execution_count": 12,
      "outputs": []
    },
    {
      "cell_type": "code",
      "source": [
        "print(train_outcome[:20])"
      ],
      "metadata": {
        "colab": {
          "base_uri": "https://localhost:8080/"
        },
        "id": "2_HYdGdrtQQT",
        "outputId": "b5f3bf2b-cda9-4673-f106-51cd6651b547"
      },
      "execution_count": 13,
      "outputs": [
        {
          "output_type": "stream",
          "name": "stdout",
          "text": [
            "[7 5 3 3 1 6 8 4 3 3 4 6 3 4 3 3 4 3 3 8]\n"
          ]
        }
      ]
    },
    {
      "cell_type": "code",
      "source": [
        "print(len(train_text))\n",
        "print(len(train_outcome))\n",
        "print(len(val_text))\n",
        "print(len(val_outcome))\n",
        "print(len(test_text))\n",
        "print(len(test_outcome))\n"
      ],
      "metadata": {
        "colab": {
          "base_uri": "https://localhost:8080/"
        },
        "id": "xMlDLxR8nXza",
        "outputId": "508d7c79-e533-4872-fcb5-c6515fff1f3f"
      },
      "execution_count": 14,
      "outputs": [
        {
          "output_type": "stream",
          "name": "stdout",
          "text": [
            "17489\n",
            "17489\n",
            "3748\n",
            "3748\n",
            "3748\n",
            "3748\n"
          ]
        }
      ]
    },
    {
      "cell_type": "code",
      "source": [
        "# Load the BERT tokenizer\n",
        "tokenizer = BertTokenizer.from_pretrained('bert-base-uncased', do_lower_case=True)"
      ],
      "metadata": {
        "execution": {
          "iopub.status.busy": "2023-01-13T11:55:52.133067Z",
          "iopub.execute_input": "2023-01-13T11:55:52.133614Z",
          "iopub.status.idle": "2023-01-13T11:56:01.384324Z",
          "shell.execute_reply.started": "2023-01-13T11:55:52.133577Z",
          "shell.execute_reply": "2023-01-13T11:56:01.383455Z"
        },
        "trusted": true,
        "id": "QvUulrRnfMBQ",
        "colab": {
          "base_uri": "https://localhost:8080/",
          "height": 145,
          "referenced_widgets": [
            "c01cbda73185452d859486d7c3b9edc3",
            "16a806c846274f31b7df83688d1a2302",
            "90defaf57aa9477d9ff12ffc55f4632c",
            "3cf61d86e0d34677b22873ab8de38d18",
            "90df0f29178e4eac844a6553de7a6362",
            "eb15f72de7f1414d9af0d02c05db1982",
            "75aede91d68d4478800a51c125ddeb4f",
            "c9b13b0537a7440ca906b4bdf3c2d5e5",
            "5c5d33d7efc341b7bfb0ce513ede3b5e",
            "364de78548b94e9eb5ad02ea88b8bdbf",
            "d80d7ce208cd44a393fd6c739e1ac5c2",
            "0825f627b2044555bd8f9bb27fb47314",
            "f5b4c4c21d6b4eed8fbf0d29df09cc18",
            "09eb10e17f1a4ddba11a1b86cd3c8810",
            "023c09f541ee46adb7398dcbc25d522b",
            "2c0c449e0e224c80b7a72683599dd915",
            "15c6ec4510be4242adf7f0272e56d538",
            "ce7f7f99e7894d79913f31d3e9112c27",
            "4e104c3bb82b4de9b2418ca11b91a667",
            "3b8ac46312c041dd87709a5d58e47beb",
            "5ac93143951c418799dd573ea5a0e9ce",
            "66fe9b86b7dd4e8faf294c79ef85b729",
            "df20136771e440f6aac00bbda65e07ed",
            "fd8ec1c119d241d680cad367514dfa20",
            "4e713cde715541de8bdf97546d088084",
            "58c2eec04d7141d2bbd7390d5fbbc401",
            "64529505fc7b40a39dfa7bdfa8659d04",
            "20e63beaa90c4981be76d8932d90045c",
            "b7192bf316d14af1b5ede74ed5dd87c1",
            "d1ec1d3f5ba34820a7ab24d0076c9bbd",
            "d983d084fe1e4882a2ab4e892e905820",
            "01b932967e444899bcf24bc5a0a5a434",
            "a52d157ff232416c99590e5fbc56943a",
            "248b366f9225452d90487a384a010cdc",
            "ce2ef2dd77c0457da0829fde2c9783e6",
            "7e4040c39b294399bc447256897b4142",
            "5f6dffb20cbd4e90a52131f937c5fd6e",
            "27bb7a2f916b41e78acad6750185253b",
            "70497adc21e54a70af7cd9ea6b66954b",
            "09031612880b44e8a9b018777114486b",
            "77375187f2b74787b3d187150272e861",
            "18d22293f57c45b3aec29bf1fe98d1c5",
            "fe3c912fb52c451a9e8651ea8cfa34b5",
            "12debfb7778146529f3b25d541adae97"
          ]
        },
        "outputId": "2a603955-28e5-4a79-eac5-6c8a45c61fcb"
      },
      "execution_count": 15,
      "outputs": [
        {
          "output_type": "display_data",
          "data": {
            "text/plain": [
              "Downloading (…)okenizer_config.json:   0%|          | 0.00/28.0 [00:00<?, ?B/s]"
            ],
            "application/vnd.jupyter.widget-view+json": {
              "version_major": 2,
              "version_minor": 0,
              "model_id": "c01cbda73185452d859486d7c3b9edc3"
            }
          },
          "metadata": {}
        },
        {
          "output_type": "display_data",
          "data": {
            "text/plain": [
              "Downloading (…)solve/main/vocab.txt:   0%|          | 0.00/232k [00:00<?, ?B/s]"
            ],
            "application/vnd.jupyter.widget-view+json": {
              "version_major": 2,
              "version_minor": 0,
              "model_id": "0825f627b2044555bd8f9bb27fb47314"
            }
          },
          "metadata": {}
        },
        {
          "output_type": "display_data",
          "data": {
            "text/plain": [
              "Downloading (…)/main/tokenizer.json:   0%|          | 0.00/466k [00:00<?, ?B/s]"
            ],
            "application/vnd.jupyter.widget-view+json": {
              "version_major": 2,
              "version_minor": 0,
              "model_id": "df20136771e440f6aac00bbda65e07ed"
            }
          },
          "metadata": {}
        },
        {
          "output_type": "display_data",
          "data": {
            "text/plain": [
              "Downloading (…)lve/main/config.json:   0%|          | 0.00/570 [00:00<?, ?B/s]"
            ],
            "application/vnd.jupyter.widget-view+json": {
              "version_major": 2,
              "version_minor": 0,
              "model_id": "248b366f9225452d90487a384a010cdc"
            }
          },
          "metadata": {}
        }
      ]
    },
    {
      "cell_type": "code",
      "source": [
        "print(' Original: ', train_text[0])\n",
        "\n",
        "# Print the sentence split into tokens.\n",
        "print('Tokenized: ', tokenizer.tokenize(train_text[0]))\n",
        "\n",
        "# Print the sentence mapped to token ids.\n",
        "print('Token IDs: ', tokenizer.convert_tokens_to_ids(tokenizer.tokenize(train_text[0])))"
      ],
      "metadata": {
        "execution": {
          "iopub.status.busy": "2023-01-13T11:56:01.387078Z",
          "iopub.execute_input": "2023-01-13T11:56:01.387506Z",
          "iopub.status.idle": "2023-01-13T11:56:01.395473Z",
          "shell.execute_reply.started": "2023-01-13T11:56:01.387441Z",
          "shell.execute_reply": "2023-01-13T11:56:01.394564Z"
        },
        "trusted": true,
        "colab": {
          "base_uri": "https://localhost:8080/"
        },
        "id": "9Vs-ZYDZfMBQ",
        "outputId": "803fc3d3-1a98-4b87-90ac-3f657f623cf6"
      },
      "execution_count": 16,
      "outputs": [
        {
          "output_type": "stream",
          "name": "stdout",
          "text": [
            " Original:  patent specification given purposive rather purely literal construction catnic components ltd v hill amp smith ltd rpc catnic eacute cor improver corporation v remington consumer products ltd fsr improver nicaro holdings pty ltd v martin engineering co ipr commonwealth industrial gases ltd v w holdings pty ltd aljr beltreco kirin amgen inc v hoeschst marion roussel ltd ipr kirin amgen sachtler inappropriate, however, approach construction specification view fair patentee kirin amgen sachtler fact monopoly granted consideration disclosure invention general knowledge base society must recognised beltreco indeed, principles governing definition monopoly operating public large require description claims reasonably capable misunderstanding martin patentee must define invention sufficient precision permit monopoly determined allow general public identify words claims conduct prohibited british united shoe machinery co ltd v fussell amp sons ltd rpc public entitled able design around monopoly claimed patent therefore must able determine reliably scope claims beloit technologies inc v valmat paper machinery inc rpc\n",
            "Tokenized:  ['patent', 'specification', 'given', 'pu', '##rp', '##osi', '##ve', 'rather', 'purely', 'literal', 'construction', 'cat', '##nic', 'components', 'ltd', 'v', 'hill', 'amp', 'smith', 'ltd', 'r', '##pc', 'cat', '##nic', 'ea', '##cute', 'co', '##r', 'improve', '##r', 'corporation', 'v', 'remington', 'consumer', 'products', 'ltd', 'f', '##sr', 'improve', '##r', 'nic', '##aro', 'holdings', 'pt', '##y', 'ltd', 'v', 'martin', 'engineering', 'co', 'ip', '##r', 'commonwealth', 'industrial', 'gases', 'ltd', 'v', 'w', 'holdings', 'pt', '##y', 'ltd', 'al', '##j', '##r', 'belt', '##re', '##co', 'ki', '##rin', 'am', '##gen', 'inc', 'v', 'ho', '##es', '##chs', '##t', 'marion', 'ro', '##uss', '##el', 'ltd', 'ip', '##r', 'ki', '##rin', 'am', '##gen', 'sac', '##ht', '##ler', 'inappropriate', ',', 'however', ',', 'approach', 'construction', 'specification', 'view', 'fair', 'patent', '##ee', 'ki', '##rin', 'am', '##gen', 'sac', '##ht', '##ler', 'fact', 'monopoly', 'granted', 'consideration', 'disclosure', 'invention', 'general', 'knowledge', 'base', 'society', 'must', 'recognised', 'belt', '##re', '##co', 'indeed', ',', 'principles', 'governing', 'definition', 'monopoly', 'operating', 'public', 'large', 'require', 'description', 'claims', 'reasonably', 'capable', 'misunderstanding', 'martin', 'patent', '##ee', 'must', 'define', 'invention', 'sufficient', 'precision', 'permit', 'monopoly', 'determined', 'allow', 'general', 'public', 'identify', 'words', 'claims', 'conduct', 'prohibited', 'british', 'united', 'shoe', 'machinery', 'co', 'ltd', 'v', 'fuss', '##ell', 'amp', 'sons', 'ltd', 'r', '##pc', 'public', 'entitled', 'able', 'design', 'around', 'monopoly', 'claimed', 'patent', 'therefore', 'must', 'able', 'determine', 're', '##lia', '##bly', 'scope', 'claims', 'bel', '##oit', 'technologies', 'inc', 'v', 'val', '##mat', 'paper', 'machinery', 'inc', 'r', '##pc']\n",
            "Token IDs:  [7353, 12827, 2445, 16405, 14536, 20049, 3726, 2738, 11850, 18204, 2810, 4937, 8713, 6177, 5183, 1058, 2940, 23713, 3044, 5183, 1054, 15042, 4937, 8713, 19413, 26869, 2522, 2099, 5335, 2099, 3840, 1058, 25282, 7325, 3688, 5183, 1042, 21338, 5335, 2099, 27969, 10464, 9583, 13866, 2100, 5183, 1058, 3235, 3330, 2522, 12997, 2099, 5663, 3919, 15865, 5183, 1058, 1059, 9583, 13866, 2100, 5183, 2632, 3501, 2099, 5583, 2890, 3597, 11382, 6657, 2572, 6914, 4297, 1058, 7570, 2229, 18069, 2102, 10115, 20996, 17854, 2884, 5183, 12997, 2099, 11382, 6657, 2572, 6914, 17266, 11039, 3917, 15884, 1010, 2174, 1010, 3921, 2810, 12827, 3193, 4189, 7353, 4402, 11382, 6657, 2572, 6914, 17266, 11039, 3917, 2755, 15404, 4379, 9584, 19380, 11028, 2236, 3716, 2918, 2554, 2442, 7843, 5583, 2890, 3597, 5262, 1010, 6481, 8677, 6210, 15404, 4082, 2270, 2312, 5478, 6412, 4447, 16286, 5214, 24216, 3235, 7353, 4402, 2442, 9375, 11028, 7182, 11718, 9146, 15404, 4340, 3499, 2236, 2270, 6709, 2616, 4447, 6204, 10890, 2329, 2142, 10818, 10394, 2522, 5183, 1058, 28554, 5349, 23713, 4124, 5183, 1054, 15042, 2270, 4709, 2583, 2640, 2105, 15404, 3555, 7353, 3568, 2442, 2583, 5646, 2128, 6632, 6321, 9531, 4447, 19337, 28100, 6786, 4297, 1058, 11748, 18900, 3259, 10394, 4297, 1054, 15042]\n"
          ]
        }
      ]
    },
    {
      "cell_type": "code",
      "source": [
        "max_len = 0\n",
        "\n",
        "# For every sentence...\n",
        "for sent in train_text:\n",
        "\n",
        "    # Tokenize the text and add `[CLS]` and `[SEP]` tokens.\n",
        "    input_ids = tokenizer.encode(sent, add_special_tokens=True)\n",
        "\n",
        "    # Update the maximum sentence length.\n",
        "    max_len = max(max_len, len(input_ids))\n",
        "\n",
        "print('Max sentence length: ', max_len)"
      ],
      "metadata": {
        "execution": {
          "iopub.status.busy": "2023-01-13T11:56:01.397982Z",
          "iopub.execute_input": "2023-01-13T11:56:01.398403Z",
          "iopub.status.idle": "2023-01-13T11:56:05.07568Z",
          "shell.execute_reply.started": "2023-01-13T11:56:01.398364Z",
          "shell.execute_reply": "2023-01-13T11:56:05.074686Z"
        },
        "trusted": true,
        "colab": {
          "base_uri": "https://localhost:8080/"
        },
        "id": "eajMyE4RfMBQ",
        "outputId": "13509db6-2d0b-4451-d2bc-ee295efe3b79"
      },
      "execution_count": 17,
      "outputs": [
        {
          "output_type": "stream",
          "name": "stderr",
          "text": [
            "Token indices sequence length is longer than the specified maximum sequence length for this model (604 > 512). Running this sequence through the model will result in indexing errors\n"
          ]
        },
        {
          "output_type": "stream",
          "name": "stdout",
          "text": [
            "Max sentence length:  5290\n"
          ]
        }
      ]
    },
    {
      "cell_type": "code",
      "source": [
        "input_ids = []\n",
        "attention_masks = []\n",
        "\n",
        "# For every tweet...\n",
        "for text in train_text:\n",
        "    # `encode_plus` will:\n",
        "    #   (1) Tokenize the sentence.\n",
        "    #   (2) Prepend the `[CLS]` token to the start.\n",
        "    #   (3) Append the `[SEP]` token to the end.\n",
        "    #   (4) Map tokens to their IDs.\n",
        "    #   (5) Pad or truncate the sentence to `max_length`\n",
        "    #   (6) Create attention masks for [PAD] tokens.\n",
        "    encoded_dict = tokenizer.encode_plus(\n",
        "                        text,                      # Sentence to encode.\n",
        "                        add_special_tokens = True, # Add '[CLS]' and '[SEP]'\n",
        "                        max_length = 128,           # Pad & truncate all sentences.\n",
        "                        pad_to_max_length = True,\n",
        "                        # truncation=True,\n",
        "                        return_attention_mask = True,   # Construct attn. masks.\n",
        "                        return_tensors = 'pt',     # Return pytorch tensors.\n",
        "                   )\n",
        "\n",
        "    # Add the encoded sentence to the list.\n",
        "    input_ids.append(encoded_dict['input_ids'])\n",
        "\n",
        "    # And its attention mask (simply differentiates padding from non-padding).\n",
        "    attention_masks.append(encoded_dict['attention_mask'])\n",
        "\n",
        "# Convert the lists into tensors.\n",
        "input_ids = torch.cat(input_ids, dim=0)\n",
        "attention_masks = torch.cat(attention_masks, dim=0)\n",
        "train_outcome = torch.tensor(train_outcome)\n",
        "\n",
        "# Print sentence 0, now as a list of IDs.\n",
        "print('Original: ', train_text[0])\n",
        "print('Token IDs:', input_ids[0])"
      ],
      "metadata": {
        "execution": {
          "iopub.status.busy": "2023-01-13T11:56:05.076962Z",
          "iopub.execute_input": "2023-01-13T11:56:05.077336Z",
          "iopub.status.idle": "2023-01-13T11:56:09.116248Z",
          "shell.execute_reply.started": "2023-01-13T11:56:05.077296Z",
          "shell.execute_reply": "2023-01-13T11:56:09.115329Z"
        },
        "trusted": true,
        "colab": {
          "base_uri": "https://localhost:8080/"
        },
        "id": "ruJCZxvafMBQ",
        "outputId": "9172f4bb-6771-4bbb-8e7c-84c4f240f96d"
      },
      "execution_count": 18,
      "outputs": [
        {
          "output_type": "stream",
          "name": "stderr",
          "text": [
            "Truncation was not explicitly activated but `max_length` is provided a specific value, please use `truncation=True` to explicitly truncate examples to max length. Defaulting to 'longest_first' truncation strategy. If you encode pairs of sequences (GLUE-style) with the tokenizer you can select this strategy more precisely by providing a specific strategy to `truncation`.\n",
            "/usr/local/lib/python3.10/dist-packages/transformers/tokenization_utils_base.py:2614: FutureWarning: The `pad_to_max_length` argument is deprecated and will be removed in a future version, use `padding=True` or `padding='longest'` to pad to the longest sequence in the batch, or use `padding='max_length'` to pad to a max length. In this case, you can give a specific length with `max_length` (e.g. `max_length=45`) or leave max_length to None to pad to the maximal input size of the model (e.g. 512 for Bert).\n",
            "  warnings.warn(\n"
          ]
        },
        {
          "output_type": "stream",
          "name": "stdout",
          "text": [
            "Original:  patent specification given purposive rather purely literal construction catnic components ltd v hill amp smith ltd rpc catnic eacute cor improver corporation v remington consumer products ltd fsr improver nicaro holdings pty ltd v martin engineering co ipr commonwealth industrial gases ltd v w holdings pty ltd aljr beltreco kirin amgen inc v hoeschst marion roussel ltd ipr kirin amgen sachtler inappropriate, however, approach construction specification view fair patentee kirin amgen sachtler fact monopoly granted consideration disclosure invention general knowledge base society must recognised beltreco indeed, principles governing definition monopoly operating public large require description claims reasonably capable misunderstanding martin patentee must define invention sufficient precision permit monopoly determined allow general public identify words claims conduct prohibited british united shoe machinery co ltd v fussell amp sons ltd rpc public entitled able design around monopoly claimed patent therefore must able determine reliably scope claims beloit technologies inc v valmat paper machinery inc rpc\n",
            "Token IDs: tensor([  101,  7353, 12827,  2445, 16405, 14536, 20049,  3726,  2738, 11850,\n",
            "        18204,  2810,  4937,  8713,  6177,  5183,  1058,  2940, 23713,  3044,\n",
            "         5183,  1054, 15042,  4937,  8713, 19413, 26869,  2522,  2099,  5335,\n",
            "         2099,  3840,  1058, 25282,  7325,  3688,  5183,  1042, 21338,  5335,\n",
            "         2099, 27969, 10464,  9583, 13866,  2100,  5183,  1058,  3235,  3330,\n",
            "         2522, 12997,  2099,  5663,  3919, 15865,  5183,  1058,  1059,  9583,\n",
            "        13866,  2100,  5183,  2632,  3501,  2099,  5583,  2890,  3597, 11382,\n",
            "         6657,  2572,  6914,  4297,  1058,  7570,  2229, 18069,  2102, 10115,\n",
            "        20996, 17854,  2884,  5183, 12997,  2099, 11382,  6657,  2572,  6914,\n",
            "        17266, 11039,  3917, 15884,  1010,  2174,  1010,  3921,  2810, 12827,\n",
            "         3193,  4189,  7353,  4402, 11382,  6657,  2572,  6914, 17266, 11039,\n",
            "         3917,  2755, 15404,  4379,  9584, 19380, 11028,  2236,  3716,  2918,\n",
            "         2554,  2442,  7843,  5583,  2890,  3597,  5262,   102])\n"
          ]
        }
      ]
    },
    {
      "cell_type": "code",
      "source": [
        "val_input_ids = []\n",
        "val_attention_masks = []\n",
        "\n",
        "# For every tweet...\n",
        "for text in val_text:\n",
        "    # `encode_plus` will:\n",
        "    #   (1) Tokenize the sentence.\n",
        "    #   (2) Prepend the `[CLS]` token to the start.\n",
        "    #   (3) Append the `[SEP]` token to the end.\n",
        "    #   (4) Map tokens to their IDs.\n",
        "    #   (5) Pad or truncate the sentence to `max_length`\n",
        "    #   (6) Create attention masks for [PAD] tokens.\n",
        "    encoded_dict = tokenizer.encode_plus(\n",
        "                        text,                      # Sentence to encode.\n",
        "                        add_special_tokens = True, # Add '[CLS]' and '[SEP]'\n",
        "                        max_length = 128,           # Pad & truncate all sentences.\n",
        "                        pad_to_max_length = True,\n",
        "                        # truncation=True,\n",
        "                        return_attention_mask = True,   # Construct attn. masks.\n",
        "                        return_tensors = 'pt',     # Return pytorch tensors.\n",
        "                   )\n",
        "\n",
        "    # Add the encoded sentence to the list.\n",
        "    val_input_ids.append(encoded_dict['input_ids'])\n",
        "\n",
        "    # And its attention mask (simply differentiates padding from non-padding).\n",
        "    val_attention_masks.append(encoded_dict['attention_mask'])\n",
        "\n",
        "# Convert the lists into tensors.\n",
        "val_input_ids = torch.cat(val_input_ids, dim=0)\n",
        "val_attention_masks = torch.cat(val_attention_masks, dim=0)\n",
        "val_outcome = torch.tensor(val_outcome)\n",
        "\n",
        "# Print sentence 0, now as a list of IDs.\n",
        "print('Original: ', val_text[0])\n",
        "print('Token IDs:', input_ids[0])"
      ],
      "metadata": {
        "colab": {
          "base_uri": "https://localhost:8080/"
        },
        "id": "HrMo0JtfmeHo",
        "outputId": "f6ae7af7-abd4-457d-9c3f-a5d81b76b931"
      },
      "execution_count": 19,
      "outputs": [
        {
          "output_type": "stream",
          "name": "stdout",
          "text": [
            "Original:  allsop j pointed heilbrunn v lightwood plc fcr f given wide liberal construction accordance similar view expressed house lords antonis p lemos ac gatoil international ltd v arkwright boston manufacturers mutual insurance company ac australian law reform commission referred lordships decisions civil admiralty jurisdiction, report alrc report earlier, foster j observed port geelong authority v bass reefer fca fcr showed words f also similar article international convention unification certain rules relating arrest seagoing ships st elefterio p , willmer j held english analogue f encompassed claim whether contract tort arising agreement relating carriage goods ship emphasis added case, held gave court jurisdiction person allegedly made fraudulent ante dating bills lading suzlon companies also relied claims mr bangad within associated jurisdiction court conferred admiralty act matters admiralty maritime jurisdiction jurisdiction concerned resolution controversies relating marine commerce navigation shin kobe maru clr contractual business arrangements party proceedings third parties capable attracting court admiralty maritime jurisdiction shin kobe maru clr opinion that, present materials, claims suzlon companies seek bring mr bangad substantive rather appearing remotely tenuously related matters admiralty maritime jurisdiction pleaded cf bass reefer fcr per foster j satisfied claims raised real controversy relating marine commerce navigation mr bangad occupied central role\n",
            "Token IDs: tensor([  101,  7353, 12827,  2445, 16405, 14536, 20049,  3726,  2738, 11850,\n",
            "        18204,  2810,  4937,  8713,  6177,  5183,  1058,  2940, 23713,  3044,\n",
            "         5183,  1054, 15042,  4937,  8713, 19413, 26869,  2522,  2099,  5335,\n",
            "         2099,  3840,  1058, 25282,  7325,  3688,  5183,  1042, 21338,  5335,\n",
            "         2099, 27969, 10464,  9583, 13866,  2100,  5183,  1058,  3235,  3330,\n",
            "         2522, 12997,  2099,  5663,  3919, 15865,  5183,  1058,  1059,  9583,\n",
            "        13866,  2100,  5183,  2632,  3501,  2099,  5583,  2890,  3597, 11382,\n",
            "         6657,  2572,  6914,  4297,  1058,  7570,  2229, 18069,  2102, 10115,\n",
            "        20996, 17854,  2884,  5183, 12997,  2099, 11382,  6657,  2572,  6914,\n",
            "        17266, 11039,  3917, 15884,  1010,  2174,  1010,  3921,  2810, 12827,\n",
            "         3193,  4189,  7353,  4402, 11382,  6657,  2572,  6914, 17266, 11039,\n",
            "         3917,  2755, 15404,  4379,  9584, 19380, 11028,  2236,  3716,  2918,\n",
            "         2554,  2442,  7843,  5583,  2890,  3597,  5262,   102])\n"
          ]
        }
      ]
    },
    {
      "cell_type": "markdown",
      "source": [
        "#### Train-validation split\n",
        "80% of data is split into train and 20% to validation sets."
      ],
      "metadata": {
        "id": "Tis2m32kfMBR"
      }
    },
    {
      "cell_type": "code",
      "source": [
        "# Combine the training inputs into a TensorDataset.\n",
        "train_dataset = TensorDataset(input_ids, attention_masks, train_outcome)\n",
        "val_dataset= TensorDataset(val_input_ids, val_attention_masks, val_outcome)"
      ],
      "metadata": {
        "execution": {
          "iopub.status.busy": "2023-01-13T11:56:09.117564Z",
          "iopub.execute_input": "2023-01-13T11:56:09.11808Z",
          "iopub.status.idle": "2023-01-13T11:56:09.127896Z",
          "shell.execute_reply.started": "2023-01-13T11:56:09.118042Z",
          "shell.execute_reply": "2023-01-13T11:56:09.126858Z"
        },
        "trusted": true,
        "id": "bz7f2Pg0fMBR"
      },
      "execution_count": 20,
      "outputs": []
    },
    {
      "cell_type": "code",
      "source": [
        "# The DataLoader needs to know our batch size for training, so we specify it\n",
        "# here. For fine-tuning BERT on a specific task, the authors recommend a batch\n",
        "# size of 16 or 32.\n",
        "batch_size = 32\n",
        "\n",
        "# Create the DataLoaders for our training and validation sets.\n",
        "# We'll take training samples in random order.\n",
        "train_dataloader = DataLoader(\n",
        "            train_dataset,  # The training samples.\n",
        "            sampler = RandomSampler(train_dataset), # Select batches randomly\n",
        "            batch_size = batch_size # Trains with this batch size.\n",
        "        )\n",
        "\n",
        "# For validation the order doesn't matter, so we'll just read them sequentially.\n",
        "validation_dataloader = DataLoader(\n",
        "            val_dataset, # The validation samples.\n",
        "            sampler = SequentialSampler(val_dataset), # Pull out batches sequentially.\n",
        "            batch_size = batch_size # Evaluate with this batch size.\n",
        "        )"
      ],
      "metadata": {
        "execution": {
          "iopub.status.busy": "2023-01-13T11:56:09.129356Z",
          "iopub.execute_input": "2023-01-13T11:56:09.129726Z",
          "iopub.status.idle": "2023-01-13T11:56:09.135463Z",
          "shell.execute_reply.started": "2023-01-13T11:56:09.129688Z",
          "shell.execute_reply": "2023-01-13T11:56:09.13445Z"
        },
        "trusted": true,
        "id": "6EzhiVnqfMBR"
      },
      "execution_count": 21,
      "outputs": []
    },
    {
      "cell_type": "code",
      "source": [
        "device = torch.device(\"cuda:0\" if torch.cuda.is_available() else \"cpu\")\n",
        "device"
      ],
      "metadata": {
        "colab": {
          "base_uri": "https://localhost:8080/"
        },
        "id": "8i-KmUa9DHRd",
        "outputId": "d93257f5-7760-4663-fd11-71cac6bed0ad"
      },
      "execution_count": 30,
      "outputs": [
        {
          "output_type": "execute_result",
          "data": {
            "text/plain": [
              "device(type='cuda', index=0)"
            ]
          },
          "metadata": {},
          "execution_count": 30
        }
      ]
    },
    {
      "cell_type": "code",
      "source": [
        "\n",
        "# Load BertForSequenceClassification, the pretrained BERT model with a single\n",
        "# linear classification layer on top.\n",
        "model = BertForSequenceClassification.from_pretrained(\n",
        "    \"bert-base-uncased\", # Use the 12-layer BERT model, with an uncased vocab.\n",
        "    num_labels = 10, # The number of output labels--2 for binary classification.\n",
        "                    # You can increase this for multi-class tasks.\n",
        "    output_attentions = False, # Whether the model returns attentions weights.\n",
        "    output_hidden_states = False, # Whether the model returns all hidden-states.\n",
        ")\n",
        "\n",
        "# if device == \"cuda:0\":\n",
        "#   model = model.cuda()\n",
        "model = model.to(device)"
      ],
      "metadata": {
        "execution": {
          "iopub.status.busy": "2023-01-13T11:56:09.136749Z",
          "iopub.execute_input": "2023-01-13T11:56:09.137126Z",
          "iopub.status.idle": "2023-01-13T11:57:00.646006Z",
          "shell.execute_reply.started": "2023-01-13T11:56:09.137041Z",
          "shell.execute_reply": "2023-01-13T11:57:00.64513Z"
        },
        "trusted": true,
        "colab": {
          "base_uri": "https://localhost:8080/"
        },
        "id": "phwo3SzxfMBR",
        "outputId": "8dd03c8c-102f-4515-c254-9fd42367eda6"
      },
      "execution_count": 31,
      "outputs": [
        {
          "output_type": "stream",
          "name": "stderr",
          "text": [
            "Some weights of BertForSequenceClassification were not initialized from the model checkpoint at bert-base-uncased and are newly initialized: ['classifier.bias', 'classifier.weight']\n",
            "You should probably TRAIN this model on a down-stream task to be able to use it for predictions and inference.\n"
          ]
        }
      ]
    },
    {
      "cell_type": "code",
      "source": [
        "# Get all of the model's parameters as a list of tuples.\n",
        "params = list(model.named_parameters())\n",
        "\n",
        "print('The BERT model has {:} different named parameters.\\n'.format(len(params)))\n",
        "\n",
        "print('==== Embedding Layer ====\\n')\n",
        "\n",
        "for p in params[0:5]:\n",
        "    print(\"{:<55} {:>12}\".format(p[0], str(tuple(p[1].size()))))\n",
        "\n",
        "print('\\n==== First Transformer ====\\n')\n",
        "\n",
        "for p in params[5:21]:\n",
        "    print(\"{:<55} {:>12}\".format(p[0], str(tuple(p[1].size()))))\n",
        "\n",
        "print('\\n==== Output Layer ====\\n')\n",
        "\n",
        "for p in params[-4:]:\n",
        "    print(\"{:<55} {:>12}\".format(p[0], str(tuple(p[1].size()))))\n"
      ],
      "metadata": {
        "colab": {
          "base_uri": "https://localhost:8080/"
        },
        "id": "JTn4YNmgtc_d",
        "outputId": "129783b0-58af-4957-c190-328195020032"
      },
      "execution_count": 32,
      "outputs": [
        {
          "output_type": "stream",
          "name": "stdout",
          "text": [
            "The BERT model has 201 different named parameters.\n",
            "\n",
            "==== Embedding Layer ====\n",
            "\n",
            "bert.embeddings.word_embeddings.weight                  (30522, 768)\n",
            "bert.embeddings.position_embeddings.weight                (512, 768)\n",
            "bert.embeddings.token_type_embeddings.weight                (2, 768)\n",
            "bert.embeddings.LayerNorm.weight                              (768,)\n",
            "bert.embeddings.LayerNorm.bias                                (768,)\n",
            "\n",
            "==== First Transformer ====\n",
            "\n",
            "bert.encoder.layer.0.attention.self.query.weight          (768, 768)\n",
            "bert.encoder.layer.0.attention.self.query.bias                (768,)\n",
            "bert.encoder.layer.0.attention.self.key.weight            (768, 768)\n",
            "bert.encoder.layer.0.attention.self.key.bias                  (768,)\n",
            "bert.encoder.layer.0.attention.self.value.weight          (768, 768)\n",
            "bert.encoder.layer.0.attention.self.value.bias                (768,)\n",
            "bert.encoder.layer.0.attention.output.dense.weight        (768, 768)\n",
            "bert.encoder.layer.0.attention.output.dense.bias              (768,)\n",
            "bert.encoder.layer.0.attention.output.LayerNorm.weight        (768,)\n",
            "bert.encoder.layer.0.attention.output.LayerNorm.bias          (768,)\n",
            "bert.encoder.layer.0.intermediate.dense.weight           (3072, 768)\n",
            "bert.encoder.layer.0.intermediate.dense.bias                 (3072,)\n",
            "bert.encoder.layer.0.output.dense.weight                 (768, 3072)\n",
            "bert.encoder.layer.0.output.dense.bias                        (768,)\n",
            "bert.encoder.layer.0.output.LayerNorm.weight                  (768,)\n",
            "bert.encoder.layer.0.output.LayerNorm.bias                    (768,)\n",
            "\n",
            "==== Output Layer ====\n",
            "\n",
            "bert.pooler.dense.weight                                  (768, 768)\n",
            "bert.pooler.dense.bias                                        (768,)\n",
            "classifier.weight                                          (10, 768)\n",
            "classifier.bias                                                (10,)\n"
          ]
        }
      ]
    },
    {
      "cell_type": "code",
      "source": [
        "optimizer = AdamW(model.parameters(),\n",
        "                  lr = 2e-5, # args.learning_rate - default is 5e-5, our notebook had 2e-5\n",
        "                  eps = 1e-8 # args.adam_epsilon  - default is 1e-8.\n",
        "                )"
      ],
      "metadata": {
        "execution": {
          "iopub.status.busy": "2023-01-13T11:57:00.647372Z",
          "iopub.execute_input": "2023-01-13T11:57:00.647728Z",
          "iopub.status.idle": "2023-01-13T11:57:00.6558Z",
          "shell.execute_reply.started": "2023-01-13T11:57:00.647689Z",
          "shell.execute_reply": "2023-01-13T11:57:00.655035Z"
        },
        "trusted": true,
        "id": "19h4yiUkfMBR",
        "colab": {
          "base_uri": "https://localhost:8080/"
        },
        "outputId": "53391105-4258-4d08-b319-389131743b81"
      },
      "execution_count": 33,
      "outputs": [
        {
          "output_type": "stream",
          "name": "stderr",
          "text": [
            "/usr/local/lib/python3.10/dist-packages/transformers/optimization.py:411: FutureWarning: This implementation of AdamW is deprecated and will be removed in a future version. Use the PyTorch implementation torch.optim.AdamW instead, or set `no_deprecation_warning=True` to disable this warning\n",
            "  warnings.warn(\n"
          ]
        }
      ]
    },
    {
      "cell_type": "markdown",
      "source": [
        "# Fine tuning the model"
      ],
      "metadata": {
        "id": "usobTAOkfMBR"
      }
    },
    {
      "cell_type": "code",
      "source": [
        "# Number of training epochs. The BERT authors recommend between 2 and 4.\n",
        "# We chose to run for 4, but we'll see later that this may be over-fitting the\n",
        "# training data.\n",
        "epochs = 4\n",
        "\n",
        "# Total number of training steps is [number of batches] x [number of epochs].\n",
        "# (Note that this is not the same as the number of training samples).\n",
        "total_steps = len(train_dataloader) * epochs\n",
        "\n",
        "# Create the learning rate scheduler.\n",
        "scheduler = get_linear_schedule_with_warmup(optimizer,\n",
        "                                            num_warmup_steps = 0, # Default value in run_glue.py\n",
        "                                            num_training_steps = total_steps)"
      ],
      "metadata": {
        "execution": {
          "iopub.status.busy": "2023-01-13T11:57:00.657268Z",
          "iopub.execute_input": "2023-01-13T11:57:00.657603Z",
          "iopub.status.idle": "2023-01-13T11:57:00.668795Z",
          "shell.execute_reply.started": "2023-01-13T11:57:00.657567Z",
          "shell.execute_reply": "2023-01-13T11:57:00.668033Z"
        },
        "trusted": true,
        "id": "NkQecwCQfMBR"
      },
      "execution_count": 34,
      "outputs": []
    },
    {
      "cell_type": "code",
      "source": [
        "# Function to calculate the accuracy of our predictions vs labels\n",
        "def flat_accuracy(preds, labels):\n",
        "    pred_flat = np.argmax(preds, axis=1).flatten()\n",
        "    labels_flat = labels.flatten()\n",
        "    return np.sum(pred_flat == labels_flat) / len(labels_flat)"
      ],
      "metadata": {
        "execution": {
          "iopub.status.busy": "2023-01-13T11:57:00.670117Z",
          "iopub.execute_input": "2023-01-13T11:57:00.670499Z",
          "iopub.status.idle": "2023-01-13T11:57:00.681749Z",
          "shell.execute_reply.started": "2023-01-13T11:57:00.670465Z",
          "shell.execute_reply": "2023-01-13T11:57:00.681025Z"
        },
        "trusted": true,
        "id": "JsRpV4f2fMBR"
      },
      "execution_count": 35,
      "outputs": []
    },
    {
      "cell_type": "code",
      "source": [
        "def format_time(elapsed):\n",
        "    '''\n",
        "    Takes a time in seconds and returns a string hh:mm:ss\n",
        "    '''\n",
        "    # Round to the nearest second.\n",
        "    elapsed_rounded = int(round((elapsed)))\n",
        "    # Format as hh:mm:ss\n",
        "    return str(datetime.timedelta(seconds=elapsed_rounded))"
      ],
      "metadata": {
        "execution": {
          "iopub.status.busy": "2023-01-13T11:57:00.682894Z",
          "iopub.execute_input": "2023-01-13T11:57:00.683249Z",
          "iopub.status.idle": "2023-01-13T11:57:00.690779Z",
          "shell.execute_reply.started": "2023-01-13T11:57:00.683215Z",
          "shell.execute_reply": "2023-01-13T11:57:00.690044Z"
        },
        "trusted": true,
        "id": "1cM9-8K_fMBS"
      },
      "execution_count": 36,
      "outputs": []
    },
    {
      "cell_type": "code",
      "source": [
        "seed_val = 42\n",
        "random.seed(seed_val)\n",
        "np.random.seed(seed_val)\n",
        "torch.manual_seed(seed_val)\n",
        "\n",
        "torch.cuda.manual_seed_all(seed_val)\n",
        "training_stats = []\n",
        "\n",
        "# Measure the total training time for the whole run.\n",
        "total_t0 = time.time()\n",
        "\n",
        "# For each epoch...\n",
        "for epoch_i in range(0, epochs):\n",
        "\n",
        "    # ========================================\n",
        "    #               Training\n",
        "    # ========================================\n",
        "    # Perform one full pass over the training set.\n",
        "    print(\"\")\n",
        "    print('======== Epoch {:} / {:} ========'.format(epoch_i + 1, epochs))\n",
        "    print('Training...')\n",
        "    # Measure how long the training epoch takes.\n",
        "    t0 = time.time()\n",
        "    total_train_loss = 0\n",
        "    model.train()\n",
        "    for step, batch in enumerate(train_dataloader):\n",
        "        # Unpack this training batch from our dataloader.\n",
        "        #\n",
        "        # As we unpack the batch, we'll also copy each tensor to the device using the\n",
        "        # `to` method.\n",
        "        #\n",
        "        # `batch` contains three pytorch tensors:\n",
        "        #   [0]: input ids\n",
        "        #   [1]: attention masks\n",
        "        #   [2]: labels\n",
        "        b_input_ids = batch[0].to(device)\n",
        "        b_input_mask = batch[1].to(device)\n",
        "        b_labels = batch[2].to(device)\n",
        "\n",
        "        optimizer.zero_grad()\n",
        "        output = model(b_input_ids,\n",
        "                             token_type_ids=None,\n",
        "                             attention_mask=b_input_mask,\n",
        "                             labels=b_labels)\n",
        "        loss = output.loss\n",
        "        total_train_loss += loss.item()\n",
        "        # Perform a backward pass to calculate the gradients.\n",
        "        loss.backward()\n",
        "        # Clip the norm of the gradients to 1.0.\n",
        "        # This is to help prevent the \"exploding gradients\" problem.\n",
        "        torch.nn.utils.clip_grad_norm_(model.parameters(), 1.0)\n",
        "        # Update parameters and take a step using the computed gradient.\n",
        "        # The optimizer dictates the \"update rule\"--how the parameters are\n",
        "        # modified based on their gradients, the learning rate, etc.\n",
        "        optimizer.step()\n",
        "        # Update the learning rate.\n",
        "        scheduler.step()\n",
        "\n",
        "    # Calculate the average loss over all of the batches.\n",
        "    avg_train_loss = total_train_loss / len(train_dataloader)\n",
        "\n",
        "    # Measure how long this epoch took.\n",
        "    training_time = format_time(time.time() - t0)\n",
        "    print(\"\")\n",
        "    print(\"  Average training loss: {0:.2f}\".format(avg_train_loss))\n",
        "    print(\"  Training epcoh took: {:}\".format(training_time))\n",
        "    # ========================================\n",
        "    #               Validation\n",
        "    # ========================================\n",
        "    # After the completion of each training epoch, measure our performance on\n",
        "    # our validation set.\n",
        "    print(\"\")\n",
        "    print(\"Running Validation...\")\n",
        "    t0 = time.time()\n",
        "    # Put the model in evaluation mode--the dropout layers behave differently\n",
        "    # during evaluation.\n",
        "    model.eval()\n",
        "    # Tracking variables\n",
        "    total_eval_accuracy = 0\n",
        "    best_eval_accuracy = 0\n",
        "    total_eval_loss = 0\n",
        "    nb_eval_steps = 0\n",
        "    # Evaluate data for one epoch\n",
        "    for batch in validation_dataloader:\n",
        "        b_input_ids = batch[0].to(device)\n",
        "        b_input_mask = batch[1].to(device)\n",
        "        b_labels = batch[2].to(device)\n",
        "        # Tell pytorch not to bother with constructing the compute graph during\n",
        "        # the forward pass, since this is only needed for backprop (training).\n",
        "        with torch.no_grad():\n",
        "            output= model(b_input_ids,\n",
        "                                   token_type_ids=None,\n",
        "                                   attention_mask=b_input_mask,\n",
        "                                   labels=b_labels)\n",
        "        loss = output.loss\n",
        "        total_eval_loss += loss.item()\n",
        "        # Move logits and labels to CPU if we are using GPU\n",
        "        logits = output.logits\n",
        "        logits = logits.detach().cpu().numpy()\n",
        "        label_ids = b_labels.to('cpu').numpy()\n",
        "        # Calculate the accuracy for this batch of test sentences, and\n",
        "        # accumulate it over all batches.\n",
        "        total_eval_accuracy += flat_accuracy(logits, label_ids)\n",
        "    # Report the final accuracy for this validation run.\n",
        "    avg_val_accuracy = total_eval_accuracy / len(validation_dataloader)\n",
        "    print(\"  Accuracy: {0:.2f}\".format(avg_val_accuracy))\n",
        "    # Calculate the average loss over all of the batches.\n",
        "    avg_val_loss = total_eval_loss / len(validation_dataloader)\n",
        "    # Measure how long the validation run took.\n",
        "    validation_time = format_time(time.time() - t0)\n",
        "    if avg_val_accuracy > best_eval_accuracy:\n",
        "        torch.save(model, 'bert_model')\n",
        "        best_eval_accuracy = avg_val_accuracy\n",
        "    #print(\"  Validation Loss: {0:.2f}\".format(avg_val_loss))\n",
        "    #print(\"  Validation took: {:}\".format(validation_time))\n",
        "    # Record all statistics from this epoch.\n",
        "    training_stats.append(\n",
        "        {\n",
        "            'epoch': epoch_i + 1,\n",
        "            'Training Loss': avg_train_loss,\n",
        "            'Valid. Loss': avg_val_loss,\n",
        "            'Valid. Accur.': avg_val_accuracy,\n",
        "            'Training Time': training_time,\n",
        "            'Validation Time': validation_time\n",
        "        }\n",
        "    )\n",
        "print(\"\")\n",
        "print(\"Training complete!\")\n",
        "\n",
        "print(\"Total training took {:} (h:mm:ss)\".format(format_time(time.time()-total_t0)))"
      ],
      "metadata": {
        "execution": {
          "iopub.status.busy": "2023-01-13T11:57:00.692149Z",
          "iopub.execute_input": "2023-01-13T11:57:00.69248Z",
          "iopub.status.idle": "2023-01-13T11:59:25.990275Z",
          "shell.execute_reply.started": "2023-01-13T11:57:00.692446Z",
          "shell.execute_reply": "2023-01-13T11:59:25.989402Z"
        },
        "trusted": true,
        "colab": {
          "base_uri": "https://localhost:8080/"
        },
        "id": "J8MuILK2fMBS",
        "outputId": "d1b9d9a4-5d84-40c0-c358-18cd22042fb7"
      },
      "execution_count": 37,
      "outputs": [
        {
          "output_type": "stream",
          "name": "stdout",
          "text": [
            "\n",
            "======== Epoch 1 / 4 ========\n",
            "Training...\n",
            "\n",
            "  Average training loss: 1.58\n",
            "  Training epcoh took: 0:05:46\n",
            "\n",
            "Running Validation...\n",
            "  Accuracy: 0.50\n",
            "\n",
            "======== Epoch 2 / 4 ========\n",
            "Training...\n",
            "\n",
            "  Average training loss: 1.47\n",
            "  Training epcoh took: 0:06:03\n",
            "\n",
            "Running Validation...\n",
            "  Accuracy: 0.50\n",
            "\n",
            "======== Epoch 3 / 4 ========\n",
            "Training...\n",
            "\n",
            "  Average training loss: 1.33\n",
            "  Training epcoh took: 0:06:03\n",
            "\n",
            "Running Validation...\n",
            "  Accuracy: 0.50\n",
            "\n",
            "======== Epoch 4 / 4 ========\n",
            "Training...\n",
            "\n",
            "  Average training loss: 1.21\n",
            "  Training epcoh took: 0:06:03\n",
            "\n",
            "Running Validation...\n",
            "  Accuracy: 0.50\n",
            "\n",
            "Training complete!\n",
            "Total training took 0:25:44 (h:mm:ss)\n"
          ]
        }
      ]
    },
    {
      "cell_type": "markdown",
      "source": [
        "# Loading the best model"
      ],
      "metadata": {
        "id": "NQveWTKgfMBS"
      }
    },
    {
      "cell_type": "code",
      "source": [
        "# model = torch.load('bert_model.pt')"
      ],
      "metadata": {
        "execution": {
          "iopub.status.busy": "2023-01-13T11:59:25.991594Z",
          "iopub.execute_input": "2023-01-13T11:59:25.991982Z",
          "iopub.status.idle": "2023-01-13T11:59:26.236911Z",
          "shell.execute_reply.started": "2023-01-13T11:59:25.991941Z",
          "shell.execute_reply": "2023-01-13T11:59:26.235986Z"
        },
        "trusted": true,
        "id": "aTxs3gIzfMBS"
      },
      "execution_count": null,
      "outputs": []
    },
    {
      "cell_type": "code",
      "source": [
        "# Tokenize all of the sentences and map the tokens to thier word IDs.\n",
        "test_input_ids = []\n",
        "test_attention_masks = []\n",
        "\n",
        "# For every sentence...\n",
        "for sent in test_text:\n",
        "    # `encode_plus` will:\n",
        "    #   (1) Tokenize the sentence.\n",
        "    #   (2) Prepend the `[CLS]` token to the start.\n",
        "    #   (3) Append the `[SEP]` token to the end.\n",
        "    #   (4) Map tokens to their IDs.\n",
        "    #   (5) Pad or truncate the sentence to `max_length`\n",
        "    #   (6) Create attention masks for [PAD] tokens.\n",
        "    encoded_dict = tokenizer.encode_plus(\n",
        "                        sent,                      # Sentence to encode.\n",
        "                        add_special_tokens = True, # Add '[CLS]' and '[SEP]'\n",
        "                        max_length = 128,           # Pad & truncate all sentences.\n",
        "                        pad_to_max_length = True,\n",
        "                        return_attention_mask = True,   # Construct attn. masks.\n",
        "                        return_tensors = 'pt',     # Return pytorch tensors.\n",
        "                   )\n",
        "\n",
        "    # Add the encoded sentence to the list.\n",
        "    test_input_ids.append(encoded_dict['input_ids'])\n",
        "\n",
        "    # And its attention mask (simply differentiates padding from non-padding).\n",
        "    test_attention_masks.append(encoded_dict['attention_mask'])\n",
        "\n",
        "# Convert the lists into tensors.\n",
        "test_input_ids = torch.cat(test_input_ids, dim=0)\n",
        "test_attention_masks = torch.cat(test_attention_masks, dim=0)\n",
        "test_labels = torch.tensor(test_outcome)\n",
        "\n",
        "# Set the batch size.\n",
        "batch_size = 32\n",
        "\n",
        "# Create the DataLoader.\n",
        "# prediction_data = TensorDataset(input_ids, attention_masks, labels)\n",
        "prediction_data = TensorDataset(test_input_ids, test_attention_masks, test_labels)\n",
        "prediction_sampler = SequentialSampler(prediction_data)\n",
        "prediction_dataloader = DataLoader(prediction_data, sampler=prediction_sampler, batch_size=batch_size)"
      ],
      "metadata": {
        "colab": {
          "base_uri": "https://localhost:8080/"
        },
        "id": "Kv1o1IaVWEzM",
        "outputId": "435f069d-d9ad-4a2b-ec46-7f299620ea04"
      },
      "execution_count": 38,
      "outputs": [
        {
          "output_type": "stream",
          "name": "stderr",
          "text": [
            "/usr/local/lib/python3.10/dist-packages/transformers/tokenization_utils_base.py:2614: FutureWarning: The `pad_to_max_length` argument is deprecated and will be removed in a future version, use `padding=True` or `padding='longest'` to pad to the longest sequence in the batch, or use `padding='max_length'` to pad to a max length. In this case, you can give a specific length with `max_length` (e.g. `max_length=45`) or leave max_length to None to pad to the maximal input size of the model (e.g. 512 for Bert).\n",
            "  warnings.warn(\n"
          ]
        }
      ]
    },
    {
      "cell_type": "code",
      "source": [
        "# Prediction on test set\n",
        "\n",
        "print('Predicting labels for {:,} test sentences...'.format(len(test_input_ids)))\n",
        "\n",
        "# Put model in evaluation mode\n",
        "model.eval()\n",
        "\n",
        "# Tracking variables\n",
        "test_predictions , test_true_labels = [], []\n",
        "\n",
        "# Predict\n",
        "for batch in prediction_dataloader:\n",
        "  # Add batch to GPU\n",
        "  batch = tuple(t.to(device) for t in batch)\n",
        "\n",
        "  # Unpack the inputs from our dataloader\n",
        "  b_input_ids, b_input_mask, b_labels = batch\n",
        "#   b_input_ids, b_input_mask = batch\n",
        "\n",
        "  # Telling the model not to compute or store gradients, saving memory and\n",
        "  # speeding up prediction\n",
        "  with torch.no_grad():\n",
        "      # Forward pass, calculate logit predictions\n",
        "      outputs = model(b_input_ids, token_type_ids=None,\n",
        "                      attention_mask=b_input_mask)\n",
        "\n",
        "  logits = outputs[0]\n",
        "\n",
        "  # Move logits and labels to CPU\n",
        "  logits = logits.detach().cpu().numpy()\n",
        "  label_ids = b_labels.to('cpu').numpy()\n",
        "\n",
        "  # Store predictions and true labels\n",
        "  test_predictions.append(logits)\n",
        "  test_true_labels.append(label_ids)\n",
        "\n",
        "print('DONE.')"
      ],
      "metadata": {
        "colab": {
          "base_uri": "https://localhost:8080/"
        },
        "id": "YNVqqmQvW8gt",
        "outputId": "110148fe-17dc-483a-8853-a99dbf5b53b7"
      },
      "execution_count": 39,
      "outputs": [
        {
          "output_type": "stream",
          "name": "stdout",
          "text": [
            "Predicting labels for 3,748 test sentences...\n",
            "DONE.\n"
          ]
        }
      ]
    },
    {
      "cell_type": "code",
      "source": [
        "print(type(test_predictions))\n",
        "print(test_predictions[0])"
      ],
      "metadata": {
        "colab": {
          "base_uri": "https://localhost:8080/"
        },
        "id": "Gu8THGURbetO",
        "outputId": "94fed1a5-8f13-4d80-e038-d7f7828b0849"
      },
      "execution_count": 40,
      "outputs": [
        {
          "output_type": "stream",
          "name": "stdout",
          "text": [
            "<class 'list'>\n",
            "[[-2.98646975e+00  1.14737642e+00 -2.16557860e+00  3.53684688e+00\n",
            "  -1.48874283e-01 -9.07560110e-01 -1.07998526e+00  8.81871700e-01\n",
            "   2.00099373e+00 -2.55108619e+00]\n",
            " [-2.54947972e+00  7.68036187e-01 -1.73518181e+00  4.05142307e+00\n",
            "  -7.27891684e-01 -1.14711511e+00 -1.20916283e+00  2.58471854e-02\n",
            "   2.12461352e+00 -1.79232824e+00]\n",
            " [-3.11428356e+00  1.29849470e+00 -1.98983109e+00  3.22564387e+00\n",
            "   2.44840503e-01 -7.17515826e-01 -1.02160859e+00  1.01358438e+00\n",
            "   1.71952510e+00 -2.64430070e+00]\n",
            " [-1.41051292e+00 -7.66065478e-01 -1.10750866e+00  7.67258823e-01\n",
            "   3.50717157e-01  3.33111942e-01  7.40113437e-01 -2.57686436e-01\n",
            "   2.20108581e+00 -1.45049298e+00]\n",
            " [-1.60547996e+00  4.00959492e-01 -9.22558844e-01  4.48198318e+00\n",
            "  -8.84249449e-01 -1.18753421e+00 -7.46885002e-01 -1.18648805e-01\n",
            "   6.51339710e-01 -9.32396054e-01]\n",
            " [-2.00036359e+00  6.30727410e-01 -1.73089802e+00  3.78623557e+00\n",
            "   3.80253851e-01 -4.10094529e-01 -4.01923597e-01  4.72538888e-01\n",
            "   5.32075226e-01 -1.58049738e+00]\n",
            " [-2.57241940e+00  6.10726237e-01 -2.15878320e+00  3.13415027e+00\n",
            "  -5.58857799e-01 -1.22465038e+00 -1.31568801e+00  6.25520647e-01\n",
            "   3.25849938e+00 -2.16624904e+00]\n",
            " [-2.79501486e+00  7.55328894e-01 -1.89072394e+00  3.51981997e+00\n",
            "  -2.05440670e-01 -9.74876165e-01 -1.03179574e+00  6.77893162e-01\n",
            "   2.56223083e+00 -2.20459580e+00]\n",
            " [-3.26667786e+00  1.76787889e+00 -2.16035366e+00  3.25561595e+00\n",
            "   3.50499272e-01 -5.47199726e-01 -1.20920420e+00  7.16733098e-01\n",
            "   1.17388010e+00 -2.73243856e+00]\n",
            " [-2.71070862e+00  5.15884697e-01 -1.78496957e+00  2.50680780e+00\n",
            "   9.43497598e-01  6.09918416e-01  4.17533666e-02  2.74029762e-01\n",
            "   8.94458175e-01 -2.50458789e+00]\n",
            " [-2.23719311e+00  2.57734686e-01 -1.51353323e+00  3.41615081e+00\n",
            "  -4.66542065e-01 -1.49421060e+00 -8.73254716e-01  4.21889067e-01\n",
            "   3.09522295e+00 -2.00703764e+00]\n",
            " [-3.22164011e+00  1.30457056e+00 -2.36824441e+00  3.12909818e+00\n",
            "   9.99255329e-02 -3.32833618e-01 -1.08525801e+00  4.39997256e-01\n",
            "   1.87947726e+00 -2.47526503e+00]\n",
            " [-2.41068006e+00  1.65014207e+00 -2.01703143e+00  2.39219260e+00\n",
            "   5.19782543e-01 -7.12562203e-01 -9.30278718e-01  2.09513521e+00\n",
            "  -1.20389843e-02 -2.15477777e+00]\n",
            " [-3.08993745e+00  7.48108029e-01 -1.66599357e+00  2.10202670e+00\n",
            "   6.59659386e-01  1.49538985e-03 -2.50387162e-01  4.44778591e-01\n",
            "   1.97624838e+00 -2.65684247e+00]\n",
            " [-1.00909209e+00 -1.85717776e-01 -8.60329330e-01  4.33020115e+00\n",
            "  -4.70630437e-01 -1.04192460e+00 -2.33789951e-01  1.33758545e-01\n",
            "   5.10121822e-01 -8.19835842e-01]\n",
            " [-2.82423019e+00  1.12664247e+00 -2.13853621e+00  4.55594242e-01\n",
            "   1.19429910e+00  1.33256876e+00 -3.47024471e-01  8.62490773e-01\n",
            "   9.76171970e-01 -2.52537084e+00]\n",
            " [-2.43909216e+00  6.13661587e-01 -1.76777053e+00  4.53465939e+00\n",
            "  -5.04780889e-01 -1.35696530e+00 -9.23948824e-01  5.81606507e-01\n",
            "   1.43610239e+00 -2.03897405e+00]\n",
            " [-2.48046374e+00  7.66730964e-01 -1.63371861e+00  4.46757030e+00\n",
            "  -5.92019498e-01 -1.28662443e+00 -1.15649402e+00  4.40658450e-01\n",
            "   1.78601575e+00 -1.99184859e+00]\n",
            " [-2.86110163e+00  1.70896232e+00 -2.24358916e+00  2.83286953e+00\n",
            "   4.67189670e-01 -7.69795537e-01 -1.00562215e+00  1.82509291e+00\n",
            "   7.13963091e-01 -2.53721738e+00]\n",
            " [-2.57097673e+00  8.87435198e-01 -1.78036261e+00  4.05280352e+00\n",
            "  -7.17200562e-02 -8.32291186e-01 -9.45738912e-01  4.35175151e-01\n",
            "   1.26051950e+00 -2.00899720e+00]\n",
            " [-2.90648174e+00  8.93633306e-01 -2.26127601e+00  3.50189567e+00\n",
            "  -1.84956625e-01 -8.89572799e-01 -1.05403268e+00  2.99025208e-01\n",
            "   2.39041972e+00 -2.01939464e+00]\n",
            " [-2.88512564e+00  1.14603317e+00 -1.89080048e+00  4.26235676e+00\n",
            "  -4.99223173e-01 -1.41202271e+00 -1.09607375e+00  7.59083092e-01\n",
            "   1.41939521e+00 -2.39375257e+00]\n",
            " [-9.13974106e-01  7.73914993e-01 -1.06342232e+00 -5.35501599e-01\n",
            "   1.31875694e+00  1.29317880e+00  3.85003626e-01  8.31454754e-01\n",
            "  -1.00168633e+00 -1.55147731e+00]\n",
            " [-3.27518582e+00  9.37306762e-01 -1.42149401e+00  2.02452588e+00\n",
            "   1.36169040e+00  4.24991816e-01 -1.91301733e-01  6.20889127e-01\n",
            "   7.34209180e-01 -2.80471706e+00]\n",
            " [-2.68789959e+00  1.10617602e+00 -2.20468974e+00  1.09676337e+00\n",
            "   8.12878251e-01  6.64646745e-01 -2.78533161e-01  6.66287899e-01\n",
            "   8.47350121e-01 -1.99092233e+00]\n",
            " [-2.42065859e+00  5.27834833e-01 -2.20232320e+00  3.42633080e+00\n",
            "   1.33051604e-01 -1.12473094e+00 -3.84831131e-01  9.86255348e-01\n",
            "   1.93186498e+00 -2.32042813e+00]\n",
            " [-3.16842747e+00  1.16336048e+00 -2.45638657e+00  3.06058145e+00\n",
            "   4.77752350e-02 -5.53863764e-01 -1.10484731e+00  9.13876176e-01\n",
            "   2.22187757e+00 -2.75307775e+00]\n",
            " [-2.85594130e+00  8.33528221e-01 -2.23621678e+00  3.13847709e+00\n",
            "   8.18587780e-01 -4.94605571e-01 -3.03842366e-01  1.36464584e+00\n",
            "   1.04353523e+00 -2.64266729e+00]\n",
            " [-3.17812586e+00  1.71242356e+00 -2.36521673e+00  2.02091146e+00\n",
            "  -2.33508497e-01 -2.30100930e-01 -1.26285720e+00  6.70064151e-01\n",
            "   1.80164492e+00 -2.32412863e+00]\n",
            " [-7.90118933e-01 -6.28127515e-01 -1.14788401e+00  1.12713540e+00\n",
            "   9.74538252e-02  4.02415067e-01  4.13661301e-01 -2.48351425e-01\n",
            "   1.82823825e+00 -1.05731058e+00]\n",
            " [-3.34055710e+00  1.55463755e+00 -2.03883386e+00  1.73039925e+00\n",
            "   8.80504847e-01  3.12934339e-01 -6.19534552e-01  1.05642247e+00\n",
            "   1.06245887e+00 -2.92040896e+00]\n",
            " [-3.47327203e-01 -1.01787078e+00 -1.22376311e+00  2.61097550e+00\n",
            "  -4.25385118e-01 -4.13116604e-01 -1.62742734e-01 -4.18146551e-01\n",
            "   1.58953106e+00  6.51233643e-02]]\n"
          ]
        }
      ]
    },
    {
      "cell_type": "code",
      "source": [
        "# # Combine the results across all batches.\n",
        "test_flat_predictions = np.concatenate(test_predictions, axis=0)\n",
        "\n",
        "# # For each sample, pick the label (0 or 1) with the higher score.\n",
        "test_flat_predictions = np.argmax(test_flat_predictions, axis=1).flatten()\n",
        "\n",
        "# adding to the main datframe\n",
        "# valid['target'] = val_flat_predictions\n",
        "\n",
        "# # Combine the correct labels for each batch into a single list.\n",
        "flat_true_labels = np.concatenate(test_true_labels, axis=0)"
      ],
      "metadata": {
        "id": "TMDcSEhPYPO3"
      },
      "execution_count": 41,
      "outputs": []
    },
    {
      "cell_type": "code",
      "source": [
        "print(len(test_flat_predictions))\n",
        "print(len(flat_true_labels))"
      ],
      "metadata": {
        "colab": {
          "base_uri": "https://localhost:8080/"
        },
        "id": "Z__aogP2ULce",
        "outputId": "76f45df0-4417-4ab6-9f88-df1778ab79e4"
      },
      "execution_count": 42,
      "outputs": [
        {
          "output_type": "stream",
          "name": "stdout",
          "text": [
            "3748\n",
            "3748\n"
          ]
        }
      ]
    },
    {
      "cell_type": "code",
      "source": [
        "from sklearn.metrics import accuracy_score, classification_report, confusion_matrix\n",
        "print('Classification Report:')\n",
        "print(classification_report(test_flat_predictions, flat_true_labels, digits=4))\n",
        "from sklearn import metrics\n",
        "print(metrics.accuracy_score(flat_true_labels, test_flat_predictions))"
      ],
      "metadata": {
        "id": "O2cMvrHmYUHn",
        "colab": {
          "base_uri": "https://localhost:8080/"
        },
        "outputId": "6c7fcf02-34a4-4291-9827-9757bebbff95"
      },
      "execution_count": 43,
      "outputs": [
        {
          "output_type": "stream",
          "name": "stdout",
          "text": [
            "Classification Report:\n",
            "              precision    recall  f1-score   support\n",
            "\n",
            "           0     0.4348    0.5263    0.4762        19\n",
            "           1     0.1367    0.2222    0.1693       243\n",
            "           2     0.0000    0.0000    0.0000         0\n",
            "           3     0.7942    0.5951    0.6804      2413\n",
            "           4     0.1136    0.2273    0.1515       132\n",
            "           5     0.0800    0.1905    0.1127        63\n",
            "           6     0.0000    0.0000    0.0000         0\n",
            "           7     0.1480    0.4274    0.2199       124\n",
            "           8     0.4707    0.3838    0.4228       753\n",
            "           9     0.0625    1.0000    0.1176         1\n",
            "\n",
            "    accuracy                         0.5029      3748\n",
            "   macro avg     0.2241    0.3573    0.2350      3748\n",
            "weighted avg     0.6272    0.5029    0.5509      3748\n",
            "\n",
            "0.5029348986125933\n"
          ]
        },
        {
          "output_type": "stream",
          "name": "stderr",
          "text": [
            "/usr/local/lib/python3.10/dist-packages/sklearn/metrics/_classification.py:1344: UndefinedMetricWarning: Recall and F-score are ill-defined and being set to 0.0 in labels with no true samples. Use `zero_division` parameter to control this behavior.\n",
            "  _warn_prf(average, modifier, msg_start, len(result))\n",
            "/usr/local/lib/python3.10/dist-packages/sklearn/metrics/_classification.py:1344: UndefinedMetricWarning: Recall and F-score are ill-defined and being set to 0.0 in labels with no true samples. Use `zero_division` parameter to control this behavior.\n",
            "  _warn_prf(average, modifier, msg_start, len(result))\n",
            "/usr/local/lib/python3.10/dist-packages/sklearn/metrics/_classification.py:1344: UndefinedMetricWarning: Recall and F-score are ill-defined and being set to 0.0 in labels with no true samples. Use `zero_division` parameter to control this behavior.\n",
            "  _warn_prf(average, modifier, msg_start, len(result))\n"
          ]
        }
      ]
    },
    {
      "cell_type": "code",
      "source": [
        "# from sklearn.metrics import accuracy_score, classification_report, confusion_matrix\n",
        "# import seaborn as sns\n",
        "# import matplotlib.pyplot as plt\n",
        "# tn, fp, fn, tp = confusion_matrix(flat_true_labels,test_flat_predictions, labels=[0, 1, 2, 3, 4, 5, 6, 7, 8, 9])\n",
        "# print(tn, fp, fn, tp)\n",
        "# recall = float(float(tp)/ (float(tp) + float(fn)))\n",
        "# print(recall)\n",
        "# precision = float(float(tp)/ (float(tp) + float(fp)))\n",
        "# print(precision)\n",
        "# f_score = float((2* precision*recall)/ (precision+recall))\n",
        "# print(f_score)\n",
        "\n",
        "\n",
        "# cm = confusion_matrix(flat_true_labels, test_flat_predictions, labels=[1,0])\n",
        "# ax= plt.subplot()\n",
        "# sns.heatmap(cm, annot=True, ax = ax, cmap='Blues', fmt=\"d\")\n",
        "\n",
        "# ax.set_title('Confusion Matrix')\n",
        "\n",
        "# ax.set_xlabel('Predicted Labels')\n",
        "# ax.set_ylabel('True Labels')\n",
        "\n",
        "# ax.xaxis.set_ticklabels(['followed' 'discussed' 'cited' 'applied' 'distinguished' 'referred to'\n",
        "#  'considered' 'affirmed' 'related' 'approved'])\n",
        "# ax.yaxis.set_ticklabels(['followed' 'discussed' 'cited' 'applied' 'distinguished' 'referred to'\n",
        "#  'considered' 'affirmed' 'related' 'approved'])"
      ],
      "metadata": {
        "id": "vC1j8RL5YVPP",
        "colab": {
          "base_uri": "https://localhost:8080/",
          "height": 245
        },
        "outputId": "1868fc40-64c8-4cf1-c273-f515a49640b3"
      },
      "execution_count": 47,
      "outputs": [
        {
          "output_type": "error",
          "ename": "ValueError",
          "evalue": "ignored",
          "traceback": [
            "\u001b[0;31m---------------------------------------------------------------------------\u001b[0m",
            "\u001b[0;31mValueError\u001b[0m                                Traceback (most recent call last)",
            "\u001b[0;32m<ipython-input-47-7d1482d9ec23>\u001b[0m in \u001b[0;36m<cell line: 4>\u001b[0;34m()\u001b[0m\n\u001b[1;32m      2\u001b[0m \u001b[0;32mimport\u001b[0m \u001b[0mseaborn\u001b[0m \u001b[0;32mas\u001b[0m \u001b[0msns\u001b[0m\u001b[0;34m\u001b[0m\u001b[0;34m\u001b[0m\u001b[0m\n\u001b[1;32m      3\u001b[0m \u001b[0;32mimport\u001b[0m \u001b[0mmatplotlib\u001b[0m\u001b[0;34m.\u001b[0m\u001b[0mpyplot\u001b[0m \u001b[0;32mas\u001b[0m \u001b[0mplt\u001b[0m\u001b[0;34m\u001b[0m\u001b[0;34m\u001b[0m\u001b[0m\n\u001b[0;32m----> 4\u001b[0;31m \u001b[0mtn\u001b[0m\u001b[0;34m,\u001b[0m \u001b[0mfp\u001b[0m\u001b[0;34m,\u001b[0m \u001b[0mfn\u001b[0m\u001b[0;34m,\u001b[0m \u001b[0mtp\u001b[0m \u001b[0;34m=\u001b[0m \u001b[0mconfusion_matrix\u001b[0m\u001b[0;34m(\u001b[0m\u001b[0mflat_true_labels\u001b[0m\u001b[0;34m,\u001b[0m\u001b[0mtest_flat_predictions\u001b[0m\u001b[0;34m,\u001b[0m \u001b[0mlabels\u001b[0m\u001b[0;34m=\u001b[0m\u001b[0;34m[\u001b[0m\u001b[0;36m0\u001b[0m\u001b[0;34m,\u001b[0m \u001b[0;36m1\u001b[0m\u001b[0;34m,\u001b[0m \u001b[0;36m2\u001b[0m\u001b[0;34m,\u001b[0m \u001b[0;36m3\u001b[0m\u001b[0;34m,\u001b[0m \u001b[0;36m4\u001b[0m\u001b[0;34m,\u001b[0m \u001b[0;36m5\u001b[0m\u001b[0;34m,\u001b[0m \u001b[0;36m6\u001b[0m\u001b[0;34m,\u001b[0m \u001b[0;36m7\u001b[0m\u001b[0;34m,\u001b[0m \u001b[0;36m8\u001b[0m\u001b[0;34m,\u001b[0m \u001b[0;36m9\u001b[0m\u001b[0;34m]\u001b[0m\u001b[0;34m)\u001b[0m\u001b[0;34m.\u001b[0m\u001b[0mravel\u001b[0m\u001b[0;34m(\u001b[0m\u001b[0;34m)\u001b[0m\u001b[0;34m\u001b[0m\u001b[0;34m\u001b[0m\u001b[0m\n\u001b[0m\u001b[1;32m      5\u001b[0m \u001b[0mprint\u001b[0m\u001b[0;34m(\u001b[0m\u001b[0mtn\u001b[0m\u001b[0;34m,\u001b[0m \u001b[0mfp\u001b[0m\u001b[0;34m,\u001b[0m \u001b[0mfn\u001b[0m\u001b[0;34m,\u001b[0m \u001b[0mtp\u001b[0m\u001b[0;34m)\u001b[0m\u001b[0;34m\u001b[0m\u001b[0;34m\u001b[0m\u001b[0m\n\u001b[1;32m      6\u001b[0m \u001b[0mrecall\u001b[0m \u001b[0;34m=\u001b[0m \u001b[0mfloat\u001b[0m\u001b[0;34m(\u001b[0m\u001b[0mfloat\u001b[0m\u001b[0;34m(\u001b[0m\u001b[0mtp\u001b[0m\u001b[0;34m)\u001b[0m\u001b[0;34m/\u001b[0m \u001b[0;34m(\u001b[0m\u001b[0mfloat\u001b[0m\u001b[0;34m(\u001b[0m\u001b[0mtp\u001b[0m\u001b[0;34m)\u001b[0m \u001b[0;34m+\u001b[0m \u001b[0mfloat\u001b[0m\u001b[0;34m(\u001b[0m\u001b[0mfn\u001b[0m\u001b[0;34m)\u001b[0m\u001b[0;34m)\u001b[0m\u001b[0;34m)\u001b[0m\u001b[0;34m\u001b[0m\u001b[0;34m\u001b[0m\u001b[0m\n",
            "\u001b[0;31mValueError\u001b[0m: too many values to unpack (expected 4)"
          ]
        }
      ]
    },
    {
      "cell_type": "code",
      "source": [
        "from sklearn.metrics import classification_report, confusion_matrix\n",
        "import seaborn as sns\n",
        "import matplotlib.pyplot as plt\n",
        "\n",
        "# Calculate the confusion matrix\n",
        "confusion = confusion_matrix(flat_true_labels, test_flat_predictions, labels=[0, 1, 2, 3, 4, 5, 6, 7, 8, 9])  # Update the labels parameter with your label values\n",
        "\n",
        "# Print the confusion matrix\n",
        "print(\"Confusion Matrix:\")\n",
        "print(confusion)\n",
        "\n",
        "# Generate a classification report\n",
        "report = classification_report(flat_true_labels, test_flat_predictions)  # No need to specify target_names for multiple labels\n",
        "\n",
        "# Print the classification report\n",
        "print(\"Classification Report:\")\n",
        "print(report)\n",
        "\n",
        "# Create a heatmap of the confusion matrix\n",
        "ax = plt.subplot()\n",
        "sns.heatmap(confusion, annot=True, ax=ax, cmap='Blues', fmt=\"d\")\n",
        "ax.set_title('Confusion Matrix')\n",
        "ax.set_xlabel('Predicted Labels')\n",
        "ax.set_ylabel('True Labels')\n",
        "ax.xaxis.set_ticklabels([str(label) for label in range(confusion.shape[0])])\n",
        "ax.yaxis.set_ticklabels([str(label) for label in range(confusion.shape[0])])\n",
        "\n",
        "# Show the plot\n",
        "plt.show()\n"
      ],
      "metadata": {
        "colab": {
          "base_uri": "https://localhost:8080/",
          "height": 1000
        },
        "id": "zIFgkaVKS_0W",
        "outputId": "4806327d-003f-4f19-9d69-054270ca3825"
      },
      "execution_count": 49,
      "outputs": [
        {
          "output_type": "stream",
          "name": "stdout",
          "text": [
            "Confusion Matrix:\n",
            "[[  10    0    0   12    0    0    0    0    1    0]\n",
            " [   0   54    0  247   15    5    0   14   60    0]\n",
            " [   0    3    0   16    2    0    0    0    4    0]\n",
            " [   4   86    0 1436   27    7    0   28  220    0]\n",
            " [   3   17    0  132   30    7    0   14   61    0]\n",
            " [   0   19    0   61   16   12    0    2   40    0]\n",
            " [   0    2    0   39   10   13    0    3   28    0]\n",
            " [   0   37    0  194   16    9    0   53   49    0]\n",
            " [   2   25    0  263   16   10    0    9  289    0]\n",
            " [   0    0    0   13    0    0    0    1    1    1]]\n",
            "Classification Report:\n",
            "              precision    recall  f1-score   support\n",
            "\n",
            "           0       0.53      0.43      0.48        23\n",
            "           1       0.22      0.14      0.17       395\n",
            "           2       0.00      0.00      0.00        25\n",
            "           3       0.60      0.79      0.68      1808\n",
            "           4       0.23      0.11      0.15       264\n",
            "           5       0.19      0.08      0.11       150\n",
            "           6       0.00      0.00      0.00        95\n",
            "           7       0.43      0.15      0.22       358\n",
            "           8       0.38      0.47      0.42       614\n",
            "           9       1.00      0.06      0.12        16\n",
            "\n",
            "    accuracy                           0.50      3748\n",
            "   macro avg       0.36      0.22      0.24      3748\n",
            "weighted avg       0.45      0.50      0.45      3748\n",
            "\n"
          ]
        },
        {
          "output_type": "stream",
          "name": "stderr",
          "text": [
            "/usr/local/lib/python3.10/dist-packages/sklearn/metrics/_classification.py:1344: UndefinedMetricWarning: Precision and F-score are ill-defined and being set to 0.0 in labels with no predicted samples. Use `zero_division` parameter to control this behavior.\n",
            "  _warn_prf(average, modifier, msg_start, len(result))\n",
            "/usr/local/lib/python3.10/dist-packages/sklearn/metrics/_classification.py:1344: UndefinedMetricWarning: Precision and F-score are ill-defined and being set to 0.0 in labels with no predicted samples. Use `zero_division` parameter to control this behavior.\n",
            "  _warn_prf(average, modifier, msg_start, len(result))\n",
            "/usr/local/lib/python3.10/dist-packages/sklearn/metrics/_classification.py:1344: UndefinedMetricWarning: Precision and F-score are ill-defined and being set to 0.0 in labels with no predicted samples. Use `zero_division` parameter to control this behavior.\n",
            "  _warn_prf(average, modifier, msg_start, len(result))\n"
          ]
        },
        {
          "output_type": "display_data",
          "data": {
            "text/plain": [
              "<Figure size 640x480 with 2 Axes>"
            ],
            "image/png": "[encoded data removed]"
          },
          "metadata": {}
        }
      ]
    },
    {
      "cell_type": "code",
      "source": [
        "from sklearn.metrics import classification_report, confusion_matrix\n",
        "import seaborn as sns\n",
        "import matplotlib.pyplot as plt\n",
        "\n",
        "# Calculate the confusion matrix\n",
        "confusion = confusion_matrix(flat_true_labels, test_flat_predictions, labels=[0, 1, 2, 3, 4, 5, 6, 7, 8, 9])  # Update the labels parameter with your label values\n",
        "\n",
        "# Calculate TP, TN, FP, FN\n",
        "TP = confusion.diagonal()\n",
        "FP = confusion.sum(axis=0) - TP\n",
        "FN = confusion.sum(axis=1) - TP\n",
        "TN = confusion.sum() - (TP + FP + FN)\n",
        "\n",
        "# Print TP, TN, FP, FN\n",
        "for label, tp, tn, fp, fn in zip(range(len(TP)), TP, TN, FP, FN):\n",
        "    print(f\"Label {label}:\")\n",
        "    print(f\"True Positives (TP): {tp}\")\n",
        "    print(f\"True Negatives (TN): {tn}\")\n",
        "    print(f\"False Positives (FP): {fp}\")\n",
        "    print(f\"False Negatives (FN): {fn}\")\n",
        "\n",
        "# Calculate Recall, Precision, and F1-score\n",
        "recall = TP / (TP + FN)\n",
        "precision = TP / (TP + FP)\n",
        "f1_score = 2 * (precision * recall) / (precision + recall)\n",
        "\n",
        "# Print Recall, Precision, and F1-score\n",
        "for label, rec, prec, f1 in zip(range(len(recall)), recall, precision, f1_score):\n",
        "    print(f\"Label {label}:\")\n",
        "    print(f\"Recall: {rec:.4f}\")\n",
        "    print(f\"Precision: {prec:.4f}\")\n",
        "    print(f\"F1 Score: {f1:.4f}\")\n",
        "\n",
        "# Generate a classification report\n",
        "report = classification_report(flat_true_labels, test_flat_predictions)  # No need to specify target_names for multiple labels\n",
        "\n",
        "# Print the classification report\n",
        "print(\"Classification Report:\")\n",
        "print(report)\n",
        "\n",
        "# Create a heatmap of the confusion matrix\n",
        "ax = plt.subplot()\n",
        "sns.heatmap(confusion, annot=True, ax=ax, cmap='Blues', fmt=\"d\")\n",
        "ax.set_title('Confusion Matrix')\n",
        "ax.set_xlabel('Predicted Labels')\n",
        "ax.set_ylabel('True Labels')\n",
        "ax.xaxis.set_ticklabels([str(label) for label in range(confusion.shape[0])])\n",
        "ax.yaxis.set_ticklabels([str(label) for label in range(confusion.shape[0])])\n",
        "\n",
        "# Show the plot\n",
        "plt.show()\n"
      ],
      "metadata": {
        "colab": {
          "base_uri": "https://localhost:8080/",
          "height": 1000
        },
        "id": "0R05_dqCU0Nc",
        "outputId": "3a95cb2b-39c7-40bd-deba-be5225d55cb5"
      },
      "execution_count": 50,
      "outputs": [
        {
          "output_type": "stream",
          "name": "stdout",
          "text": [
            "Label 0:\n",
            "True Positives (TP): 10\n",
            "True Negatives (TN): 3716\n",
            "False Positives (FP): 9\n",
            "False Negatives (FN): 13\n",
            "Label 1:\n",
            "True Positives (TP): 54\n",
            "True Negatives (TN): 3164\n",
            "False Positives (FP): 189\n",
            "False Negatives (FN): 341\n",
            "Label 2:\n",
            "True Positives (TP): 0\n",
            "True Negatives (TN): 3723\n",
            "False Positives (FP): 0\n",
            "False Negatives (FN): 25\n",
            "Label 3:\n",
            "True Positives (TP): 1436\n",
            "True Negatives (TN): 963\n",
            "False Positives (FP): 977\n",
            "False Negatives (FN): 372\n",
            "Label 4:\n",
            "True Positives (TP): 30\n",
            "True Negatives (TN): 3382\n",
            "False Positives (FP): 102\n",
            "False Negatives (FN): 234\n",
            "Label 5:\n",
            "True Positives (TP): 12\n",
            "True Negatives (TN): 3547\n",
            "False Positives (FP): 51\n",
            "False Negatives (FN): 138\n",
            "Label 6:\n",
            "True Positives (TP): 0\n",
            "True Negatives (TN): 3653\n",
            "False Positives (FP): 0\n",
            "False Negatives (FN): 95\n",
            "Label 7:\n",
            "True Positives (TP): 53\n",
            "True Negatives (TN): 3319\n",
            "False Positives (FP): 71\n",
            "False Negatives (FN): 305\n",
            "Label 8:\n",
            "True Positives (TP): 289\n",
            "True Negatives (TN): 2670\n",
            "False Positives (FP): 464\n",
            "False Negatives (FN): 325\n",
            "Label 9:\n",
            "True Positives (TP): 1\n",
            "True Negatives (TN): 3732\n",
            "False Positives (FP): 0\n",
            "False Negatives (FN): 15\n",
            "Label 0:\n",
            "Recall: 0.4348\n",
            "Precision: 0.5263\n",
            "F1 Score: 0.4762\n",
            "Label 1:\n",
            "Recall: 0.1367\n",
            "Precision: 0.2222\n",
            "F1 Score: 0.1693\n",
            "Label 2:\n",
            "Recall: 0.0000\n",
            "Precision: nan\n",
            "F1 Score: nan\n",
            "Label 3:\n",
            "Recall: 0.7942\n",
            "Precision: 0.5951\n",
            "F1 Score: 0.6804\n",
            "Label 4:\n",
            "Recall: 0.1136\n",
            "Precision: 0.2273\n",
            "F1 Score: 0.1515\n",
            "Label 5:\n",
            "Recall: 0.0800\n",
            "Precision: 0.1905\n",
            "F1 Score: 0.1127\n",
            "Label 6:\n",
            "Recall: 0.0000\n",
            "Precision: nan\n",
            "F1 Score: nan\n",
            "Label 7:\n",
            "Recall: 0.1480\n",
            "Precision: 0.4274\n",
            "F1 Score: 0.2199\n",
            "Label 8:\n",
            "Recall: 0.4707\n",
            "Precision: 0.3838\n",
            "F1 Score: 0.4228\n",
            "Label 9:\n",
            "Recall: 0.0625\n",
            "Precision: 1.0000\n",
            "F1 Score: 0.1176\n",
            "Classification Report:\n",
            "              precision    recall  f1-score   support\n",
            "\n",
            "           0       0.53      0.43      0.48        23\n",
            "           1       0.22      0.14      0.17       395\n",
            "           2       0.00      0.00      0.00        25\n",
            "           3       0.60      0.79      0.68      1808\n",
            "           4       0.23      0.11      0.15       264\n",
            "           5       0.19      0.08      0.11       150\n",
            "           6       0.00      0.00      0.00        95\n",
            "           7       0.43      0.15      0.22       358\n",
            "           8       0.38      0.47      0.42       614\n",
            "           9       1.00      0.06      0.12        16\n",
            "\n",
            "    accuracy                           0.50      3748\n",
            "   macro avg       0.36      0.22      0.24      3748\n",
            "weighted avg       0.45      0.50      0.45      3748\n",
            "\n"
          ]
        },
        {
          "output_type": "stream",
          "name": "stderr",
          "text": [
            "<ipython-input-50-88b4afaafca6>:24: RuntimeWarning: invalid value encountered in divide\n",
            "  precision = TP / (TP + FP)\n",
            "/usr/local/lib/python3.10/dist-packages/sklearn/metrics/_classification.py:1344: UndefinedMetricWarning: Precision and F-score are ill-defined and being set to 0.0 in labels with no predicted samples. Use `zero_division` parameter to control this behavior.\n",
            "  _warn_prf(average, modifier, msg_start, len(result))\n",
            "/usr/local/lib/python3.10/dist-packages/sklearn/metrics/_classification.py:1344: UndefinedMetricWarning: Precision and F-score are ill-defined and being set to 0.0 in labels with no predicted samples. Use `zero_division` parameter to control this behavior.\n",
            "  _warn_prf(average, modifier, msg_start, len(result))\n",
            "/usr/local/lib/python3.10/dist-packages/sklearn/metrics/_classification.py:1344: UndefinedMetricWarning: Precision and F-score are ill-defined and being set to 0.0 in labels with no predicted samples. Use `zero_division` parameter to control this behavior.\n",
            "  _warn_prf(average, modifier, msg_start, len(result))\n"
          ]
        },
        {
          "output_type": "display_data",
          "data": {
            "text/plain": [
              "<Figure size 640x480 with 2 Axes>"
            ],
            "image/png": "[encoded data removed]"
          },
          "metadata": {}
        }
      ]
    },
    {
      "cell_type": "code",
      "source": [
        "from sklearn.metrics import classification_report, confusion_matrix\n",
        "import seaborn as sns\n",
        "import matplotlib.pyplot as plt\n",
        "\n",
        "# Calculate the confusion matrix\n",
        "confusion = confusion_matrix(flat_true_labels, test_flat_predictions, labels=[0, 1, 2, 3, 4, 5, 6, 7, 8, 9])  # Update the labels parameter with your label values\n",
        "\n",
        "# Calculate TP, TN, FP, FN\n",
        "TP = confusion.diagonal().sum()\n",
        "FP = confusion.sum(axis=0).sum() - TP\n",
        "FN = confusion.sum(axis=1).sum() - TP\n",
        "TN = confusion.sum().sum() - (TP + FP + FN)\n",
        "\n",
        "# Print TP, TN, FP, FN\n",
        "print(\"True Positives (TP):\", TP)\n",
        "print(\"True Negatives (TN):\", TN)\n",
        "print(\"False Positives (FP):\", FP)\n",
        "print(\"False Negatives (FN):\", FN)\n",
        "\n",
        "# Calculate Recall, Precision, and F1-score\n",
        "recall = TP / (TP + FN)\n",
        "precision = TP / (TP + FP)\n",
        "f1_score = 2 * (precision * recall) / (precision + recall)\n",
        "\n",
        "# Print Recall, Precision, and F1-score\n",
        "print(\"Recall:\", recall)\n",
        "print(\"Precision:\", precision)\n",
        "print(\"F1 Score:\", f1_score)\n",
        "\n",
        "# Generate a classification report\n",
        "report = classification_report(flat_true_labels, test_flat_predictions)  # No need to specify target_names for multiple labels\n",
        "\n",
        "# Print the classification report\n",
        "print(\"Classification Report:\")\n",
        "print(report)\n",
        "\n",
        "# Create a heatmap of the confusion matrix\n",
        "ax = plt.subplot()\n",
        "sns.heatmap(confusion, annot=True, ax=ax, cmap='Blues', fmt=\"d\")\n",
        "ax\n"
      ],
      "metadata": {
        "colab": {
          "base_uri": "https://localhost:8080/",
          "height": 1000
        },
        "id": "RkzXZz-0WLpn",
        "outputId": "ef9af9ba-d908-4a6a-d4a5-1bf839e077ba"
      },
      "execution_count": 51,
      "outputs": [
        {
          "output_type": "stream",
          "name": "stdout",
          "text": [
            "True Positives (TP): 1885\n",
            "True Negatives (TN): -1863\n",
            "False Positives (FP): 1863\n",
            "False Negatives (FN): 1863\n",
            "Recall: 0.5029348986125933\n",
            "Precision: 0.5029348986125933\n",
            "F1 Score: 0.5029348986125933\n",
            "Classification Report:\n",
            "              precision    recall  f1-score   support\n",
            "\n",
            "           0       0.53      0.43      0.48        23\n",
            "           1       0.22      0.14      0.17       395\n",
            "           2       0.00      0.00      0.00        25\n",
            "           3       0.60      0.79      0.68      1808\n",
            "           4       0.23      0.11      0.15       264\n",
            "           5       0.19      0.08      0.11       150\n",
            "           6       0.00      0.00      0.00        95\n",
            "           7       0.43      0.15      0.22       358\n",
            "           8       0.38      0.47      0.42       614\n",
            "           9       1.00      0.06      0.12        16\n",
            "\n",
            "    accuracy                           0.50      3748\n",
            "   macro avg       0.36      0.22      0.24      3748\n",
            "weighted avg       0.45      0.50      0.45      3748\n",
            "\n"
          ]
        },
        {
          "output_type": "stream",
          "name": "stderr",
          "text": [
            "/usr/local/lib/python3.10/dist-packages/sklearn/metrics/_classification.py:1344: UndefinedMetricWarning: Precision and F-score are ill-defined and being set to 0.0 in labels with no predicted samples. Use `zero_division` parameter to control this behavior.\n",
            "  _warn_prf(average, modifier, msg_start, len(result))\n",
            "/usr/local/lib/python3.10/dist-packages/sklearn/metrics/_classification.py:1344: UndefinedMetricWarning: Precision and F-score are ill-defined and being set to 0.0 in labels with no predicted samples. Use `zero_division` parameter to control this behavior.\n",
            "  _warn_prf(average, modifier, msg_start, len(result))\n",
            "/usr/local/lib/python3.10/dist-packages/sklearn/metrics/_classification.py:1344: UndefinedMetricWarning: Precision and F-score are ill-defined and being set to 0.0 in labels with no predicted samples. Use `zero_division` parameter to control this behavior.\n",
            "  _warn_prf(average, modifier, msg_start, len(result))\n"
          ]
        },
        {
          "output_type": "execute_result",
          "data": {
            "text/plain": [
              "<Axes: >"
            ]
          },
          "metadata": {},
          "execution_count": 51
        },
        {
          "output_type": "display_data",
          "data": {
            "text/plain": [
              "<Figure size 640x480 with 2 Axes>"
            ],
            "image/png": "[encoded data removed]"
          },
          "metadata": {}
        }
      ]
    }
  ]
}